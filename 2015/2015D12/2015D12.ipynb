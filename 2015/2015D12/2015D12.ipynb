{
 "cells": [
  {
   "cell_type": "code",
   "execution_count": 2,
   "metadata": {
    "scrolled": false
   },
   "outputs": [
    {
     "name": "stdout",
     "output_type": "stream",
     "text": [
      "(191164, 87842)\n",
      "0:00:00.005\n"
     ]
    }
   ],
   "source": [
    "from datetime import datetime\n",
    "startTime = datetime.now()\n",
    "import json\n",
    "\n",
    "filepath = 'input.txt'\n",
    "\n",
    "def count(data, exclude = None):\n",
    "    \n",
    "    def parse_list(d):\n",
    "        nums = 0\n",
    "        for i in d:\n",
    "            if type(i) == int:\n",
    "                nums += i\n",
    "            else:\n",
    "                nums += parse_next(i, exclude)\n",
    "        return nums\n",
    "\n",
    "    def parse_dict(d):\n",
    "        nums = 0\n",
    "        for key, i in d.items():\n",
    "            if type(i) == int:\n",
    "                nums += i\n",
    "            else:\n",
    "                nums += parse_next(i, exclude)\n",
    "        return nums\n",
    "\n",
    "    def parse_next(i, exclude):\n",
    "        nums = 0\n",
    "        if type(i) == list:\n",
    "            nums += parse_list(i)\n",
    "        elif type(i) == dict and exclude not in i.values():\n",
    "            nums += parse_dict(i)\n",
    "        return nums\n",
    "    \n",
    "    return parse_next(data, exclude)\n",
    "            \n",
    "\n",
    "def main():\n",
    "    with open(filepath) as json_file:\n",
    "        data = json.load(json_file)\n",
    "    json_file.close()\n",
    "\n",
    "    return count(data), count(data, 'red')\n",
    "    \n",
    "if __name__ == '__main__':\n",
    "    print(main())\n",
    "    print(str(datetime.now() - startTime)[:-3])\n",
    "    \n",
    "    '''\n",
    "    (191164, 87842)\n",
    "    0:00:00.005\n",
    "    '''"
   ]
  }
 ],
 "metadata": {
  "kernelspec": {
   "display_name": "Python 3",
   "language": "python",
   "name": "python3"
  },
  "language_info": {
   "codemirror_mode": {
    "name": "ipython",
    "version": 3
   },
   "file_extension": ".py",
   "mimetype": "text/x-python",
   "name": "python",
   "nbconvert_exporter": "python",
   "pygments_lexer": "ipython3",
   "version": "3.6.8"
  }
 },
 "nbformat": 4,
 "nbformat_minor": 2
}
