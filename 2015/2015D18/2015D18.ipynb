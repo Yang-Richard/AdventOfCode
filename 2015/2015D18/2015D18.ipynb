{
 "cells": [
  {
   "cell_type": "code",
   "execution_count": 5,
   "metadata": {
    "scrolled": false
   },
   "outputs": [
    {
     "name": "stdout",
     "output_type": "stream",
     "text": [
      "(1061, 1006)\n",
      "0:00:11.854\n"
     ]
    }
   ],
   "source": [
    "from datetime import datetime\n",
    "startTime = datetime.now()\n",
    "import numpy\n",
    "\n",
    "filepath = 'input.txt'\n",
    "\n",
    "def next_bulb(grid, y, x, bulb, grid_size):\n",
    "    adjacent_bulbs = 0 \n",
    "    for x,y in [(x+i, y+j) for i in (-1, 0, 1) for j in (-1, 0, 1) if i != 0 or j != 0]:\n",
    "        if x >= 0 and x < grid_size and y >= 0 and y < grid_size and grid[y][x] == 1:\n",
    "            adjacent_bulbs += 1\n",
    "              \n",
    "    if bulb and (adjacent_bulbs in (2, 3)):\n",
    "        return 1\n",
    "    elif not bulb and adjacent_bulbs == 3:\n",
    "        return 1\n",
    "    else:\n",
    "        return 0\n",
    "    \n",
    "def iterate(grid, grid_size, iterations, part):\n",
    "    for i in range(iterations):\n",
    "        new_grid = numpy.zeros((grid_size, grid_size), dtype = int)\n",
    "        for y, row in enumerate(grid):\n",
    "            for x, bulb in enumerate(row):\n",
    "                new_grid[y][x] = next_bulb(grid, y, x, bulb, grid_size)\n",
    "\n",
    "        if part == 2:\n",
    "            new_grid[0][0] = 1\n",
    "            new_grid[grid_size-1][grid_size-1] = 1\n",
    "            new_grid[grid_size-1][0] = 1\n",
    "            new_grid[0][grid_size-1] = 1\n",
    "            \n",
    "        grid = new_grid\n",
    "        \n",
    "    unique, counts = numpy.unique(grid, return_counts=True)\n",
    "    return counts[1]\n",
    "        \n",
    "def main():\n",
    "    iterations = 100\n",
    "    grid_size = 100\n",
    "    grid = numpy.zeros((grid_size, grid_size), dtype = int)\n",
    "    \n",
    "    y = 0\n",
    "    with open(filepath, 'r') as f:\n",
    "        for data in f.readlines():\n",
    "            grid[y] = [1 if x == '#' else 0 for x in data.strip() ]\n",
    "            y += 1\n",
    "    f.close()\n",
    "\n",
    "    return iterate(grid, grid_size, iterations, 1), iterate(grid, grid_size, iterations, 2)\n",
    "\n",
    "if __name__ == '__main__':\n",
    "    print(main())\n",
    "    print(str(datetime.now() - startTime)[:-3])\n",
    "    \n",
    "    '''\n",
    "    (1061, 1006)\n",
    "    0:00:11.854\n",
    "    '''"
   ]
  },
  {
   "cell_type": "code",
   "execution_count": null,
   "metadata": {},
   "outputs": [],
   "source": []
  }
 ],
 "metadata": {
  "kernelspec": {
   "display_name": "Python 3",
   "language": "python",
   "name": "python3"
  },
  "language_info": {
   "codemirror_mode": {
    "name": "ipython",
    "version": 3
   },
   "file_extension": ".py",
   "mimetype": "text/x-python",
   "name": "python",
   "nbconvert_exporter": "python",
   "pygments_lexer": "ipython3",
   "version": "3.6.8"
  }
 },
 "nbformat": 4,
 "nbformat_minor": 2
}
