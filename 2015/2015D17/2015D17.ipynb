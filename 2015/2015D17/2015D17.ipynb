{
 "cells": [
  {
   "cell_type": "code",
   "execution_count": 2,
   "metadata": {
    "scrolled": false
   },
   "outputs": [
    {
     "name": "stdout",
     "output_type": "stream",
     "text": [
      "(1638, 17)\n",
      "0:00:06.920\n"
     ]
    }
   ],
   "source": [
    "from datetime import datetime\n",
    "startTime = datetime.now()\n",
    "from collections import Counter\n",
    "\n",
    "filepath = 'input.txt'\n",
    "        \n",
    "def main():\n",
    "    buckets = []\n",
    "    with open(filepath, 'r') as f:\n",
    "        for data in f.readlines():\n",
    "            buckets.append(int(data.strip()))\n",
    "    f.close()\n",
    "\n",
    "    combinations = 0\n",
    "    filled = []\n",
    "    \n",
    "    for i in range(2**len(buckets)):\n",
    "        combination = format(i, 'b').zfill(len(buckets))\n",
    "        bucket = [x*int(y) for x, y in zip(buckets, [int(z) for z in combination])]\n",
    "\n",
    "        if sum(bucket) == 150:\n",
    "            combinations += 1\n",
    "            filled.append(bucket)\n",
    "\n",
    "    buckets_used = Counter([sum(x > 0 for x in bucket) for bucket in filled])\n",
    "\n",
    "    return combinations, buckets_used[min(buckets_used.keys())]\n",
    "    \n",
    "if __name__ == '__main__':\n",
    "    print(main())\n",
    "    print(str(datetime.now() - startTime)[:-3])\n",
    "    \n",
    "    '''\n",
    "    (1638, 17)\n",
    "    0:00:06.920\n",
    "    '''"
   ]
  },
  {
   "cell_type": "code",
   "execution_count": 4,
   "metadata": {},
   "outputs": [
    {
     "name": "stdout",
     "output_type": "stream",
     "text": [
      "(1638, 17)\n",
      "0:00:00.228\n"
     ]
    }
   ],
   "source": [
    "from datetime import datetime\n",
    "startTime = datetime.now()\n",
    "import itertools\n",
    "\n",
    "filepath = 'input.txt'\n",
    "        \n",
    "def main():\n",
    "    buckets = []\n",
    "    with open(filepath, 'r') as f:\n",
    "        for data in f.readlines():\n",
    "            buckets.append(int(data.strip()))\n",
    "    f.close()\n",
    "\n",
    "    bucket_counts = []\n",
    "    for i in range(1, len(buckets) + 1):\n",
    "        bucket_count = 0\n",
    "        for combination in itertools.combinations(buckets, i):\n",
    "            if sum(combination) == 150:\n",
    "                bucket_count += 1\n",
    "        bucket_counts.append(bucket_count)\n",
    "        \n",
    "    return sum(bucket_counts), [x for x in bucket_counts if x != 0][0]\n",
    "\n",
    "if __name__ == '__main__':\n",
    "    print(main())\n",
    "    print(str(datetime.now() - startTime)[:-3])\n",
    "    \n",
    "    '''\n",
    "    (1638, 17)\n",
    "    0:00:00.228\n",
    "    '''"
   ]
  },
  {
   "cell_type": "code",
   "execution_count": null,
   "metadata": {},
   "outputs": [],
   "source": []
  }
 ],
 "metadata": {
  "kernelspec": {
   "display_name": "Python 3",
   "language": "python",
   "name": "python3"
  },
  "language_info": {
   "codemirror_mode": {
    "name": "ipython",
    "version": 3
   },
   "file_extension": ".py",
   "mimetype": "text/x-python",
   "name": "python",
   "nbconvert_exporter": "python",
   "pygments_lexer": "ipython3",
   "version": "3.6.8"
  }
 },
 "nbformat": 4,
 "nbformat_minor": 2
}
