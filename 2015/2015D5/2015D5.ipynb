{
 "cells": [
  {
   "cell_type": "code",
   "execution_count": 11,
   "metadata": {
    "scrolled": false
   },
   "outputs": [
    {
     "name": "stdout",
     "output_type": "stream",
     "text": [
      "(255, 55)\n",
      "0:00:00.024\n"
     ]
    }
   ],
   "source": [
    "from datetime import datetime\n",
    "startTime = datetime.now()\n",
    "\n",
    "filepath = 'input.txt'\n",
    "\n",
    "def check_vowels(string):\n",
    "    return sum(map(string.lower().count, \"aeiou\")) >= 3\n",
    "\n",
    "def check_double(string):\n",
    "    for i in range(len(string)-1):\n",
    "        if string[i] == string[i+1]:\n",
    "            return True\n",
    "    return False\n",
    "\n",
    "def check_exclusion(string):\n",
    "    return sum(map(string.lower().count, ['ab', 'cd', 'pq', 'xy'])) < 1\n",
    "\n",
    "def check_pair_duplicate(string):\n",
    "    for i in range(len(string)-1):\n",
    "        if string[i:i+2] in string[:i] or string[i:i+2] in string[i+2:]:\n",
    "            return True\n",
    "    return False\n",
    "\n",
    "def check_double_with_middle(string):\n",
    "    for i in range(len(string)-2):\n",
    "        if string[i] == string[i+2]:\n",
    "            return True\n",
    "    return False\n",
    "\n",
    "def main():\n",
    "    num_nice_strings_p1, num_nice_strings_p2 = 0, 0\n",
    "    \n",
    "    with open(filepath) as f:\n",
    "        for line in f.readlines():\n",
    "            string = line.strip()\n",
    "            \n",
    "            if check_vowels(string) and check_double(string) and check_exclusion(string):\n",
    "                num_nice_strings_p1 += 1\n",
    "                \n",
    "            if check_pair_duplicate(string) and check_double_with_middle(string):\n",
    "                num_nice_strings_p2 += 1      \n",
    "    f.close()\n",
    "\n",
    "    return num_nice_strings_p1, num_nice_strings_p2 \n",
    "    \n",
    "if __name__ == '__main__':\n",
    "    print(main())\n",
    "    print(str(datetime.now() - startTime)[:-3])\n",
    "    \n",
    "    '''\n",
    "    (255, 55)\n",
    "    0:00:00.024\n",
    "    '''"
   ]
  },
  {
   "cell_type": "code",
   "execution_count": null,
   "metadata": {},
   "outputs": [],
   "source": []
  }
 ],
 "metadata": {
  "kernelspec": {
   "display_name": "Python 3",
   "language": "python",
   "name": "python3"
  },
  "language_info": {
   "codemirror_mode": {
    "name": "ipython",
    "version": 3
   },
   "file_extension": ".py",
   "mimetype": "text/x-python",
   "name": "python",
   "nbconvert_exporter": "python",
   "pygments_lexer": "ipython3",
   "version": "3.7.2"
  }
 },
 "nbformat": 4,
 "nbformat_minor": 2
}
