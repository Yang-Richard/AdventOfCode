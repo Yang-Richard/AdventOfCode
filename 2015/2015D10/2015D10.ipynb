{
 "cells": [
  {
   "cell_type": "code",
   "execution_count": 1,
   "metadata": {
    "scrolled": false
   },
   "outputs": [
    {
     "name": "stdout",
     "output_type": "stream",
     "text": [
      "(329356, 4666278)\n",
      "0:00:10.861\n"
     ]
    }
   ],
   "source": [
    "from datetime import datetime\n",
    "startTime = datetime.now()\n",
    "\n",
    "def sequence():\n",
    "    string = '3113322113'\n",
    "    \n",
    "    for round in range(50):\n",
    "        i, l = 0, 0\n",
    "        new_string = []\n",
    "\n",
    "        while i < len(string)-1:\n",
    "            if string[i] == string[i+1]:\n",
    "                l += 1\n",
    "            else:\n",
    "                new_string.append(str(l+1) + string[i])\n",
    "                l = 0\n",
    "            i += 1\n",
    "\n",
    "        new_string.append(str(l+1) + string[i])\n",
    "        string = \"\".join(new_string)\n",
    "        \n",
    "        if round == 39:\n",
    "            result1 = len(string)\n",
    "\n",
    "    return result1, len(string)\n",
    "\n",
    "if __name__ == '__main__':\n",
    "    print(sequence())\n",
    "    print(str(datetime.now() - startTime)[:-3])\n",
    "    \n",
    "    '''\n",
    "    (329356, 4666278)\n",
    "    0:00:10.861\n",
    "    '''"
   ]
  },
  {
   "cell_type": "code",
   "execution_count": null,
   "metadata": {},
   "outputs": [],
   "source": []
  }
 ],
 "metadata": {
  "kernelspec": {
   "display_name": "Python 3",
   "language": "python",
   "name": "python3"
  },
  "language_info": {
   "codemirror_mode": {
    "name": "ipython",
    "version": 3
   },
   "file_extension": ".py",
   "mimetype": "text/x-python",
   "name": "python",
   "nbconvert_exporter": "python",
   "pygments_lexer": "ipython3",
   "version": "3.6.8"
  }
 },
 "nbformat": 4,
 "nbformat_minor": 2
}
