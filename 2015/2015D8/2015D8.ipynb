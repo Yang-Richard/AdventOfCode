{
 "cells": [
  {
   "cell_type": "code",
   "execution_count": 60,
   "metadata": {
    "scrolled": false
   },
   "outputs": [
    {
     "name": "stdout",
     "output_type": "stream",
     "text": [
      "(1371, 2117)\n",
      "0:00:00.001\n"
     ]
    }
   ],
   "source": [
    "from datetime import datetime\n",
    "startTime = datetime.now()\n",
    "\n",
    "filepath = 'input.txt'\n",
    "\n",
    "def main():\n",
    "    result1, result2 = 0, 0\n",
    "\n",
    "    with open(filepath) as f:\n",
    "        for line in f.readlines():\n",
    "            string = line.strip()\n",
    "\n",
    "            result1 += len(string)\n",
    "            str_temp = string.replace(r'\\\\', '_')\n",
    "            result1 -= len(str_temp) - 2 - str_temp.count(r'\\\"') - str_temp.count(r'\\x')*3\n",
    "            \n",
    "            result2 += 2 + string.count('\\\\') + string.count('\"')\n",
    "    f.close()\n",
    "    \n",
    "    return result1, result2\n",
    "\n",
    "if __name__ == '__main__':\n",
    "    print(main())\n",
    "    print(str(datetime.now() - startTime)[:-3])\n",
    "    \n",
    "    '''\n",
    "    (1371, 2117)\n",
    "    0:00:00.001\n",
    "    '''"
   ]
  },
  {
   "cell_type": "code",
   "execution_count": null,
   "metadata": {},
   "outputs": [],
   "source": []
  }
 ],
 "metadata": {
  "kernelspec": {
   "display_name": "Python 3",
   "language": "python",
   "name": "python3"
  },
  "language_info": {
   "codemirror_mode": {
    "name": "ipython",
    "version": 3
   },
   "file_extension": ".py",
   "mimetype": "text/x-python",
   "name": "python",
   "nbconvert_exporter": "python",
   "pygments_lexer": "ipython3",
   "version": "3.7.2"
  }
 },
 "nbformat": 4,
 "nbformat_minor": 2
}
