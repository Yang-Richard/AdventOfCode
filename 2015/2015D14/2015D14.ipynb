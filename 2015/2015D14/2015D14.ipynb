{
 "cells": [
  {
   "cell_type": "code",
   "execution_count": 19,
   "metadata": {
    "scrolled": false
   },
   "outputs": [
    {
     "name": "stdout",
     "output_type": "stream",
     "text": [
      "(2660, 1256)\n",
      "0:00:00.020\n"
     ]
    }
   ],
   "source": [
    "from datetime import datetime\n",
    "startTime = datetime.now()\n",
    "\n",
    "filepath = 'input.txt'\n",
    "reindeers = dict()\n",
    "\n",
    "class Reindeer():\n",
    "    def __init__(self, name, speed, mt, rt):\n",
    "        self.name = name\n",
    "        self.speed = speed\n",
    "        self.move_time = mt\n",
    "        self.rest_time = rt\n",
    "        self.total_time = mt + rt\n",
    "        \n",
    "        self.distance = 0\n",
    "        self.moving = True\n",
    "        \n",
    "    def move(self, time):\n",
    "        if self.moving:\n",
    "            self.distance += self.speed\n",
    "            \n",
    "        if time % self.total_time < self.move_time:\n",
    "            self.moving = True\n",
    "        else:\n",
    "            self.moving = False\n",
    "            \n",
    "def max_distance(reindeer, timer):\n",
    "    iterations = timer // reindeer.total_time\n",
    "    distance = iterations * reindeer.speed * reindeer.move_time\n",
    "    \n",
    "    remainder = timer % reindeer.total_time\n",
    "    if remainder < reindeer.move_time:\n",
    "        distance += remainder * reindeer.speed\n",
    "    else:\n",
    "        distance += reindeer.move_time * reindeer.speed\n",
    "        \n",
    "    return distance\n",
    "        \n",
    "def main():\n",
    "    with open(filepath, 'r') as f:\n",
    "        for data in f.readlines():\n",
    "            data = data.strip().replace('.', '').split(' ')\n",
    "            reindeer_data = [data[0], int(data[3]), int(data[6]), int(data[13])]\n",
    "            reindeers[data[0]] = Reindeer(*reindeer_data)\n",
    "    f.close()\n",
    "\n",
    "    scores = [0] * len(reindeers)\n",
    "    timer = 2503\n",
    "    \n",
    "    for t in range(1, timer + 1):\n",
    "        for reindeer in reindeers.values():\n",
    "            reindeer.move(t)\n",
    "        distances = [reindeer.distance for reindeer in reindeers.values()]\n",
    "        add = list(map(lambda x: 1 if x == max(distances) else 0, distances))\n",
    "        scores = [x + y for x, y in zip(scores, add)]\n",
    "\n",
    "    return max([max_distance(reindeer, timer) for reindeer in reindeers.values()]), max(scores)\n",
    "    \n",
    "if __name__ == '__main__':\n",
    "    print(main())\n",
    "    print(str(datetime.now() - startTime)[:-3])\n",
    "    \n",
    "    '''\n",
    "    (2660, 1256)\n",
    "    0:00:00.020\n",
    "    '''"
   ]
  },
  {
   "cell_type": "code",
   "execution_count": null,
   "metadata": {},
   "outputs": [],
   "source": []
  }
 ],
 "metadata": {
  "kernelspec": {
   "display_name": "Python 3",
   "language": "python",
   "name": "python3"
  },
  "language_info": {
   "codemirror_mode": {
    "name": "ipython",
    "version": 3
   },
   "file_extension": ".py",
   "mimetype": "text/x-python",
   "name": "python",
   "nbconvert_exporter": "python",
   "pygments_lexer": "ipython3",
   "version": "3.6.8"
  }
 },
 "nbformat": 4,
 "nbformat_minor": 2
}
