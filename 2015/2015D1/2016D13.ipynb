{
 "cells": [
  {
   "cell_type": "code",
   "execution_count": 17,
   "metadata": {
    "scrolled": false
   },
   "outputs": [
    {
     "name": "stdout",
     "output_type": "stream",
     "text": [
      "(280, 1797) 0:00:00.000\n"
     ]
    }
   ],
   "source": [
    "filepath = 'input.txt'\n",
    "\n",
    "from datetime import datetime\n",
    "startTime = datetime.now()\n",
    "\n",
    "FLOOR_COUNT = {'(': 1, ')': -1}\n",
    "\n",
    "def main():\n",
    "    with open(filepath) as f:\n",
    "        for line in f.readlines():\n",
    "            floors = line.strip()\n",
    "        f.close()\n",
    "        \n",
    "    result1, result2 = floors.count('(') - floors.count(')'), 0\n",
    "    \n",
    "    current_floor = 0\n",
    "    for n, floor in enumerate(floors):\n",
    "        current_floor += FLOOR_COUNT[floor]\n",
    "        \n",
    "        if current_floor == -1:\n",
    "            result2 = n + 1\n",
    "            break\n",
    "\n",
    "    return result1, result2\n",
    "            \n",
    "if __name__ == '__main__':\n",
    "    print(main(), str(datetime.now() - startTime)[:-3]) # (280, 1797) 0:00:00.000"
   ]
  },
  {
   "cell_type": "code",
   "execution_count": null,
   "metadata": {},
   "outputs": [],
   "source": []
  }
 ],
 "metadata": {
  "kernelspec": {
   "display_name": "Python 3",
   "language": "python",
   "name": "python3"
  },
  "language_info": {
   "codemirror_mode": {
    "name": "ipython",
    "version": 3
   },
   "file_extension": ".py",
   "mimetype": "text/x-python",
   "name": "python",
   "nbconvert_exporter": "python",
   "pygments_lexer": "ipython3",
   "version": "3.6.8"
  }
 },
 "nbformat": 4,
 "nbformat_minor": 2
}
