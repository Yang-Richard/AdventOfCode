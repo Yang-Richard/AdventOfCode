{
 "cells": [
  {
   "cell_type": "code",
   "execution_count": 2,
   "metadata": {
    "scrolled": false
   },
   "outputs": [
    {
     "name": "stdout",
     "output_type": "stream",
     "text": [
      "(13882464, 11171160)\n",
      "0:00:07.621\n"
     ]
    }
   ],
   "source": [
    "from datetime import datetime\n",
    "startTime = datetime.now()\n",
    "from functools import reduce\n",
    "\n",
    "filepath = 'input.txt'\n",
    "ingredients = dict()\n",
    "\n",
    "class ingredient():\n",
    "    def __init__(self, name, capacity, durability, flavor, texture, calories):\n",
    "        self.name = name\n",
    "        self.capacity = capacity\n",
    "        self.durability = durability\n",
    "        self.flavor = flavor\n",
    "        self.texture = texture\n",
    "        self.calories = calories\n",
    "       \n",
    "    def provide_properties(self):\n",
    "        return [self.capacity, self.durability, self.flavor, self.texture]\n",
    "    \n",
    "def find_score(measurements):\n",
    "    sum_properties = [0] * 4\n",
    "    for n, ingredient in enumerate(ingredients.values()):\n",
    "        new_properties = list(map(lambda x: x * measurements[n], ingredient.provide_properties()))\n",
    "        sum_properties = [x + y for x, y in zip(sum_properties, new_properties)]\n",
    "   \n",
    "    if sum(1 for number in sum_properties if number < 1):\n",
    "        return 0\n",
    "    else:\n",
    "        return reduce(lambda x, y: x*y, sum_properties)\n",
    "    \n",
    "def find_calories(measurements):\n",
    "    calories = 0\n",
    "    for n, ingredient in enumerate(ingredients.values()):\n",
    "        calories += measurements[n] * ingredient.calories\n",
    "    return calories\n",
    "        \n",
    "def main():\n",
    "    with open('input.txt', 'r') as f:\n",
    "        for data in f.readlines():\n",
    "            data = data.strip().replace(',', '').replace(':', '').split(' ')\n",
    "            properties = data[0], int(data[2]), int(data[4]), int(data[6]), int(data[8]), int(data[10])\n",
    "            ingredients[data[0]] = ingredient(*properties)\n",
    "    f.close()\n",
    "\n",
    "    max_score_1, max_score_2 = 0, 0\n",
    "    m = 100\n",
    "\n",
    "    for a in range(0, m + 1):\n",
    "        for b in range(0, m + 1):\n",
    "            for c in range(0, m + 1):\n",
    "                for d in range(0, m + 1):\n",
    "                    if a+b+c+d == m:\n",
    "                        score = find_score([a, b, c, d]) \n",
    "                        calories = find_calories([a, b, c, d])\n",
    "\n",
    "                        if score > max_score_1:\n",
    "                            max_score_1 = score\n",
    "\n",
    "                        if score > max_score_2 and calories == 500:\n",
    "                            max_score_2 = score\n",
    "\n",
    "    return max_score_1, max_score_2\n",
    "\n",
    "if __name__ == '__main__':\n",
    "    print(main())\n",
    "    print(str(datetime.now() - startTime)[:-3])\n",
    "    \n",
    "    '''\n",
    "    (13882464, 11171160)\n",
    "    0:00:07.621\n",
    "    '''"
   ]
  }
 ],
 "metadata": {
  "kernelspec": {
   "display_name": "Python 3",
   "language": "python",
   "name": "python3"
  },
  "language_info": {
   "codemirror_mode": {
    "name": "ipython",
    "version": 3
   },
   "file_extension": ".py",
   "mimetype": "text/x-python",
   "name": "python",
   "nbconvert_exporter": "python",
   "pygments_lexer": "ipython3",
   "version": "3.6.8"
  }
 },
 "nbformat": 4,
 "nbformat_minor": 2
}
