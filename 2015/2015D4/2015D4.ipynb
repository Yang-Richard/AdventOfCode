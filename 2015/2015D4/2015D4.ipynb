{
 "cells": [
  {
   "cell_type": "code",
   "execution_count": 14,
   "metadata": {
    "scrolled": false
   },
   "outputs": [
    {
     "name": "stdout",
     "output_type": "stream",
     "text": [
      "282749\n",
      "9962624\n",
      "0:00:17.408\n"
     ]
    }
   ],
   "source": [
    "from datetime import datetime\n",
    "import hashlib\n",
    "startTime = datetime.now()\n",
    "\n",
    "ID = 'yzbqklnj'\n",
    "\n",
    "def main(num_zeros):\n",
    "    index = 0\n",
    "    check = '0'*num_zeros\n",
    "    \n",
    "    while 1:\n",
    "        a = hashlib.md5((ID+str(index)).encode())\n",
    "        \n",
    "        if a.hexdigest()[:num_zeros] == check:\n",
    "            return index\n",
    "    \n",
    "        index += 1\n",
    "            \n",
    "if __name__ == '__main__':\n",
    "    print(main(5))\n",
    "    print(main(6))\n",
    "    print(str(datetime.now() - startTime)[:-3])\n",
    "    \n",
    "    '''\n",
    "    282749\n",
    "    9962624\n",
    "    0:00:17.408\n",
    "    '''"
   ]
  },
  {
   "cell_type": "code",
   "execution_count": null,
   "metadata": {},
   "outputs": [],
   "source": []
  }
 ],
 "metadata": {
  "kernelspec": {
   "display_name": "Python 3",
   "language": "python",
   "name": "python3"
  },
  "language_info": {
   "codemirror_mode": {
    "name": "ipython",
    "version": 3
   },
   "file_extension": ".py",
   "mimetype": "text/x-python",
   "name": "python",
   "nbconvert_exporter": "python",
   "pygments_lexer": "ipython3",
   "version": "3.7.2"
  }
 },
 "nbformat": 4,
 "nbformat_minor": 2
}
