{
 "cells": [
  {
   "cell_type": "code",
   "execution_count": 11,
   "metadata": {
    "scrolled": false
   },
   "outputs": [
    {
     "name": "stdout",
     "output_type": "stream",
     "text": [
      "(1588178, 3783758)\n",
      "0:00:00.006\n"
     ]
    }
   ],
   "source": [
    "from datetime import datetime\n",
    "startTime = datetime.now()\n",
    "import itertools\n",
    "from functools import reduce\n",
    "\n",
    "filepath = 'input.txt'\n",
    "\n",
    "def main():\n",
    "    wrapping_paper_size, ribbon_length = 0, 0\n",
    "    \n",
    "    with open(filepath) as f:\n",
    "        for line in f.readlines():\n",
    "            sides = [int(a) for a in line.strip().split('x')]\n",
    "            \n",
    "            side_areas = [a*b for a, b in itertools.combinations(sides, 2)]\n",
    "            wrapping_paper_size += 2*sum(side_areas) + min(side_areas)\n",
    "            \n",
    "            ribbon_length += reduce(lambda x, y: x*y, sides) + 2*sum(sides) - 2*max(sides)\n",
    "    f.close()\n",
    "    \n",
    "    return wrapping_paper_size, ribbon_length\n",
    "        \n",
    "if __name__ == '__main__': #125\n",
    "    print(main())\n",
    "    print(str(datetime.now() - startTime)[:-3]) \n",
    "    \n",
    "    '''\n",
    "    (1588178, 3783758)\n",
    "    0:00:00.006\n",
    "    '''"
   ]
  },
  {
   "cell_type": "code",
   "execution_count": null,
   "metadata": {},
   "outputs": [],
   "source": []
  }
 ],
 "metadata": {
  "kernelspec": {
   "display_name": "Python 3",
   "language": "python",
   "name": "python3"
  },
  "language_info": {
   "codemirror_mode": {
    "name": "ipython",
    "version": 3
   },
   "file_extension": ".py",
   "mimetype": "text/x-python",
   "name": "python",
   "nbconvert_exporter": "python",
   "pygments_lexer": "ipython3",
   "version": "3.7.2"
  }
 },
 "nbformat": 4,
 "nbformat_minor": 2
}
