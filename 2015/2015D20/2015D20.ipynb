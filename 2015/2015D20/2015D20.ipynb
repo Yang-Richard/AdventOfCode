{
 "cells": [
  {
   "cell_type": "code",
   "execution_count": 6,
   "metadata": {
    "scrolled": false
   },
   "outputs": [
    {
     "name": "stdout",
     "output_type": "stream",
     "text": [
      "(786240, 831600)\n",
      "0:00:30.452\n"
     ]
    }
   ],
   "source": [
    "from datetime import datetime\n",
    "startTime = datetime.now()\n",
    "from functools import reduce\n",
    "from collections import defaultdict\n",
    "\n",
    "def get_factors(n):    \n",
    "    return set(reduce(list.__add__, ([i, n//i] for i in range(1, int(n**0.5) + 1) if n % i == 0)))\n",
    "        \n",
    "def main():\n",
    "    factor_list = defaultdict(int)\n",
    "    i = 0\n",
    "    house_p1, house_p2 = -1, -1\n",
    "    wanted_presents = 34000000\n",
    "\n",
    "    while house_p1 == -1 or house_p2 == -1:\n",
    "        i += 1\n",
    "\n",
    "        factors = get_factors(i)\n",
    "        for n in factors:\n",
    "            factor_list[n] += 1\n",
    "\n",
    "        num_presents_1 = sum([n*10 for n in factors])\n",
    "        num_presents_2 = sum([n*11 for n in factors if factor_list[n] <= 50])\n",
    "\n",
    "        if house_p1 == -1 and num_presents_1 >= wanted_presents:\n",
    "            house_p1 = i\n",
    "        if house_p2 == -1 and num_presents_2 >= wanted_presents:\n",
    "            house_p2 = i\n",
    "\n",
    "    return house_p1, house_p2\n",
    "\n",
    "if __name__ == '__main__':\n",
    "    print(main())\n",
    "    print(str(datetime.now() - startTime)[:-3])\n",
    "    \n",
    "    '''\n",
    "    (786240, 831600)\n",
    "    0:00:30.452\n",
    "    '''"
   ]
  },
  {
   "cell_type": "code",
   "execution_count": null,
   "metadata": {},
   "outputs": [],
   "source": []
  }
 ],
 "metadata": {
  "kernelspec": {
   "display_name": "Python 3",
   "language": "python",
   "name": "python3"
  },
  "language_info": {
   "codemirror_mode": {
    "name": "ipython",
    "version": 3
   },
   "file_extension": ".py",
   "mimetype": "text/x-python",
   "name": "python",
   "nbconvert_exporter": "python",
   "pygments_lexer": "ipython3",
   "version": "3.6.8"
  }
 },
 "nbformat": 4,
 "nbformat_minor": 2
}
