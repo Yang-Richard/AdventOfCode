{
 "cells": [
  {
   "cell_type": "code",
   "execution_count": 24,
   "metadata": {
    "scrolled": true
   },
   "outputs": [
    {
     "name": "stdout",
     "output_type": "stream",
     "text": [
      "2565\n",
      "2639\n",
      "0:00:00.025\n"
     ]
    }
   ],
   "source": [
    "from datetime import datetime\n",
    "startTime = datetime.now()\n",
    "filepath = 'input.txt'\n",
    "\n",
    "DIRECTIONS = {'v': (0, -1), '<': (-1, 0), '^': (0, 1), '>': (1, 0)}\n",
    "\n",
    "def main(num_santas = 1):\n",
    "    with open(filepath) as f:\n",
    "        for line in f.readlines():\n",
    "            moves = line.strip()\n",
    "    f.close()\n",
    "    \n",
    "    pos = [[0, 0]]*num_santas\n",
    "    visited = {(0,0)}\n",
    "    \n",
    "    for n, move in enumerate(moves):\n",
    "        pos[n%num_santas] = [pos[n%num_santas][0] + DIRECTIONS[move][0], \n",
    "                             pos[n%num_santas][1] + DIRECTIONS[move][1]]\n",
    "        visited.add(tuple(pos[n%num_santas]))\n",
    "        \n",
    "    return len(visited)\n",
    "        \n",
    "if __name__ == '__main__': #125\n",
    "    print(main())\n",
    "    print(main(2))\n",
    "    print(str(datetime.now() - startTime)[:-3]) \n",
    "    \n",
    "    '''\n",
    "    2565\n",
    "    2639\n",
    "    0:00:00.025\n",
    "    '''"
   ]
  },
  {
   "cell_type": "code",
   "execution_count": null,
   "metadata": {},
   "outputs": [],
   "source": []
  }
 ],
 "metadata": {
  "kernelspec": {
   "display_name": "Python 3",
   "language": "python",
   "name": "python3"
  },
  "language_info": {
   "codemirror_mode": {
    "name": "ipython",
    "version": 3
   },
   "file_extension": ".py",
   "mimetype": "text/x-python",
   "name": "python",
   "nbconvert_exporter": "python",
   "pygments_lexer": "ipython3",
   "version": "3.7.2"
  }
 },
 "nbformat": 4,
 "nbformat_minor": 2
}
