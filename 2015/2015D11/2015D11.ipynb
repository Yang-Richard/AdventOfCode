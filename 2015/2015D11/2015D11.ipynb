{
 "cells": [
  {
   "cell_type": "code",
   "execution_count": 21,
   "metadata": {},
   "outputs": [
    {
     "name": "stdout",
     "output_type": "stream",
     "text": [
      "hxbxxyzz hxcaabcc\n",
      "0:00:01.120\n"
     ]
    }
   ],
   "source": [
    "from datetime import datetime\n",
    "startTime = datetime.now()\n",
    "\n",
    "ALPHABET = 'abcdefghijklmnopqrstuvwxyz'\n",
    "\n",
    "def update_char(pw, pos = 1):\n",
    "    char = pw[-pos]\n",
    "    next_char = ord(char) + 1\n",
    "    \n",
    "    if next_char == 123:\n",
    "        pw = update_char(pw, pos+1)\n",
    "        next_char = 97\n",
    "    \n",
    "    return pw[:-pos] + chr(next_char) + pw[len(pw)-pos+1:]\n",
    "\n",
    "def check_iol(pw):\n",
    "    if 'i' in pw or 'o' in pw or 'l' in pw:\n",
    "        pos = min([pw.find(i) for i in ['i', 'l', 'o'] if pw.find(i) != -1])\n",
    "        pw = update_char(pw, len(pw) - pos)\n",
    "        pw = pw[:pos+1] + 'a'*(len(pw)-pos-1)\n",
    "    return pw\n",
    "    \n",
    "def check_line(pw):\n",
    "    for i in range(len(pw) - 2):\n",
    "        if pw[i:i+3] in ALPHABET:\n",
    "            return True\n",
    "    return False\n",
    "\n",
    "def check_pairs(pw):\n",
    "    count_double, i = 0, 0\n",
    "    while i < len(pw) - 1:\n",
    "        if pw[i] == pw[i+1]:\n",
    "            count_double += 1\n",
    "            i += 1\n",
    "        i += 1\n",
    "    return count_double >= 2\n",
    "\n",
    "def next_password(password):\n",
    "    while True:\n",
    "        password = check_iol(password)\n",
    "        password = update_char(password)\n",
    "        \n",
    "        if check_line(password) and check_pairs(password):\n",
    "            return password\n",
    "\n",
    "if __name__ == '__main__':\n",
    "    original_password = 'hxbxwxba'\n",
    "    new_password = next_password(original_password)\n",
    "    \n",
    "    print(new_password, next_password(new_password))\n",
    "    print(str(datetime.now() - startTime)[:-3])\n",
    "    \n",
    "    '''\n",
    "    hxbxxyzz hxcaabcc\n",
    "    0:00:01.120\n",
    "    '''"
   ]
  },
  {
   "cell_type": "code",
   "execution_count": null,
   "metadata": {},
   "outputs": [],
   "source": []
  }
 ],
 "metadata": {
  "kernelspec": {
   "display_name": "Python 3",
   "language": "python",
   "name": "python3"
  },
  "language_info": {
   "codemirror_mode": {
    "name": "ipython",
    "version": 3
   },
   "file_extension": ".py",
   "mimetype": "text/x-python",
   "name": "python",
   "nbconvert_exporter": "python",
   "pygments_lexer": "ipython3",
   "version": "3.6.8"
  }
 },
 "nbformat": 4,
 "nbformat_minor": 2
}
