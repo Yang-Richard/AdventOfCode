{
 "cells": [
  {
   "cell_type": "code",
   "execution_count": 16,
   "metadata": {
    "scrolled": false
   },
   "outputs": [
    {
     "name": "stdout",
     "output_type": "stream",
     "text": [
      "170\n",
      "247\n",
      "0:00:00.005\n"
     ]
    }
   ],
   "source": [
    "from datetime import datetime\n",
    "startTime = datetime.now()\n",
    "\n",
    "filepath = 'input.txt'\n",
    "\n",
    "def hlf(r): return r//2\n",
    "def tpl(r): return r*3\n",
    "def inc(r): return r+1\n",
    "def jmp(i, registers, offset): return i + offset\n",
    "def jie(i, registers, r, offset): \n",
    "    if registers[r]%2 == 0: return i + offset\n",
    "    else: return i + 1\n",
    "def jio(i, registers, r, offset): \n",
    "    if registers[r] == 1: return i + offset \n",
    "    else: return i + 1\n",
    "    \n",
    "SET_INSTRUCTIONS = {'hlf':hlf, 'tpl':tpl, 'inc':inc}\n",
    "JUMP_INSTRUCTIONS = {'jmp':jmp, 'jie':jie, 'jio':jio}\n",
    "\n",
    "def main(registers, instructions):\n",
    "    i = 0\n",
    "    while 0 <= i < len(instructions):\n",
    "        instruction = instructions[i]\n",
    "        if instruction[0] in SET_INSTRUCTIONS.keys():\n",
    "            registers[instruction[1]] = SET_INSTRUCTIONS[instruction[0]](registers[instruction[1]])\n",
    "            i += 1\n",
    "\n",
    "        elif instructions[i][0] in JUMP_INSTRUCTIONS:\n",
    "            i = JUMP_INSTRUCTIONS[instruction[0]](i, registers, *instruction[1:])\n",
    "        else:\n",
    "            print('sad puppy')\n",
    "\n",
    "    return registers['b']\n",
    "\n",
    "if __name__ == '__main__':\n",
    "    instructions = []\n",
    "    with open(filepath, 'r') as f:\n",
    "        for data in f.readlines():\n",
    "            data = data.strip().replace(',', '').replace('+', '').split(' ')\n",
    "            instructions.append([int(i) if i.isdigit() or '-' in i else i for i in data])\n",
    "    f.close()\n",
    "    \n",
    "    print(main({'a': 0, 'b': 0}, instructions))\n",
    "    print(main({'a': 1, 'b': 0}, instructions))\n",
    "    print(str(datetime.now() - startTime)[:-3])\n",
    "    \n",
    "    '''\n",
    "    170\n",
    "    247\n",
    "    0:00:00.005\n",
    "    '''"
   ]
  },
  {
   "cell_type": "code",
   "execution_count": null,
   "metadata": {},
   "outputs": [],
   "source": []
  },
  {
   "cell_type": "code",
   "execution_count": null,
   "metadata": {},
   "outputs": [],
   "source": []
  }
 ],
 "metadata": {
  "kernelspec": {
   "display_name": "Python 3",
   "language": "python",
   "name": "python3"
  },
  "language_info": {
   "codemirror_mode": {
    "name": "ipython",
    "version": 3
   },
   "file_extension": ".py",
   "mimetype": "text/x-python",
   "name": "python",
   "nbconvert_exporter": "python",
   "pygments_lexer": "ipython3",
   "version": "3.7.2"
  }
 },
 "nbformat": 4,
 "nbformat_minor": 2
}
