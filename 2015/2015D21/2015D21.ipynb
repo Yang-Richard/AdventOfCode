{
 "cells": [
  {
   "cell_type": "code",
   "execution_count": 23,
   "metadata": {
    "scrolled": false
   },
   "outputs": [
    {
     "name": "stdout",
     "output_type": "stream",
     "text": [
      "(78, 148)\n",
      "0:00:00.002\n"
     ]
    }
   ],
   "source": [
    "from datetime import datetime\n",
    "startTime = datetime.now()\n",
    "from itertools import combinations, product\n",
    "import math\n",
    "\n",
    "WEAPONS = ['Dagger', 'Shortsword', 'Warhammer', 'Longsword', 'Greataxe']\n",
    "ARMORS = [None, 'Leather', 'Chainmail', 'Splintmail', 'Bandedmail', 'Platemail']\n",
    "RINGS = [None, 'Damage_1', 'Damage_2', 'Damage_3', 'Defense_1', 'Defense_2', 'Defense_3']\n",
    "\n",
    "ENEMY = (104, 8, 1) # (Hit Points, Damage, Armor)\n",
    "HEALTH = 100\n",
    "\n",
    "def main():\n",
    "    equipment = {None: [0, 0, 0]}\n",
    "    highest_cost, lowest_cost = 0, float(\"inf\")\n",
    "    \n",
    "    with open('equipment.txt', 'r') as f:\n",
    "        for data in f.readlines():\n",
    "            data = data.strip().split()\n",
    "            equipment[data[0]] = [int(i) for i in data[1:]] # Weapon: [Cost, Damage, Armor]\n",
    "    f.close()\n",
    "\n",
    "    ring_combinations = list(combinations(RINGS, 2)) + [(None, None)]\n",
    "    equipped_combinations = list(product(WEAPONS, ARMORS, ring_combinations))\n",
    "\n",
    "    for equipped in equipped_combinations:\n",
    "        flattened_equipment = [equipped[0], equipped[1], equipped[2][0], equipped[2][1]]\n",
    "        equipment_attributes = [equipment[item] for item in flattened_equipment]\n",
    "        cost, damage, armor = [sum(atributes) for atributes in zip(*equipment_attributes)]\n",
    "        \n",
    "        player_rounds, enemy_rounds = float(\"inf\"), float(\"inf\")  \n",
    "        if ENEMY[1] - armor > 0:\n",
    "            player_rounds = math.ceil(HEALTH/(ENEMY[1] - armor))\n",
    "            \n",
    "        if damage - ENEMY[2] > 0:\n",
    "            enemy_rounds = math.ceil(ENEMY[0]/(damage - ENEMY[2]))\n",
    "            \n",
    "        if player_rounds >= enemy_rounds and cost < lowest_cost:\n",
    "            lowest_cost = cost\n",
    "                \n",
    "        if player_rounds < enemy_rounds and cost > highest_cost:\n",
    "            highest_cost = cost\n",
    "            \n",
    "    return lowest_cost, highest_cost\n",
    "\n",
    "if __name__ == '__main__':\n",
    "    print(main())\n",
    "    print(str(datetime.now() - startTime)[:-3])\n",
    "    \n",
    "    '''\n",
    "    (78, 148)\n",
    "    0:00:00.003\n",
    "    '''"
   ]
  },
  {
   "cell_type": "code",
   "execution_count": null,
   "metadata": {},
   "outputs": [],
   "source": []
  }
 ],
 "metadata": {
  "kernelspec": {
   "display_name": "Python 3",
   "language": "python",
   "name": "python3"
  },
  "language_info": {
   "codemirror_mode": {
    "name": "ipython",
    "version": 3
   },
   "file_extension": ".py",
   "mimetype": "text/x-python",
   "name": "python",
   "nbconvert_exporter": "python",
   "pygments_lexer": "ipython3",
   "version": "3.7.2"
  }
 },
 "nbformat": 4,
 "nbformat_minor": 2
}
