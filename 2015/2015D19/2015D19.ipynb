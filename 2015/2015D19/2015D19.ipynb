{
 "cells": [
  {
   "cell_type": "code",
   "execution_count": 3,
   "metadata": {
    "scrolled": true
   },
   "outputs": [
    {
     "name": "stdout",
     "output_type": "stream",
     "text": [
      "518\n",
      "None\n",
      "0:00:00.001\n"
     ]
    }
   ],
   "source": [
    "from datetime import datetime\n",
    "startTime = datetime.now()\n",
    "import re, operator, itertools\n",
    "\n",
    "filepath = 'input.txt'\n",
    "        \n",
    "def main():\n",
    "    \n",
    "    '''a = 'CRnSiRnCaPTiMgYCaPTiRnFArSiThFArCaSiThSiThPBCaCaSiRnSiRnTiTiMgArPBCaPMgYPTiRnFArFArCaSiRnBPMgArPRnCaPTiRnFArCaSiThCaCaFArPBCaCaPTiTiRnFArCaSiRnSiAlYSiThRnFArArCaSiRnBFArCaCaSiRnSiThCaCaCaFYCaPTiBCaSiThCaSiThPMgArSiRnCaPBFYCaCaFArCaCaCaCaSiThCaSiRnPRnFArPBSiThPRnFArSiRnMgArCaFYFArCaSiRnSiAlArTiTiTiTiTiTiTiRnPMgArPTiTiTiBSiRnSiAlArTiTiRnPMgArCaFYBPBPTiRnSiRnMgArSiThCaFArCaSiThFArPRnFArCaSiRnTiBSiThSiRnSiAlYCaFArPRnFArSiThCaFArCaCaSiThCaCaCaSiRnPRnCaFArFYPMgArCaPBCaPBSiRnFYPBCaFArCaSiAl'\n",
    "    [m.start() for m in re.finditer('Al', a)]\n",
    "    print(a[145:147])'''\n",
    "\n",
    "\n",
    "    replacements = []\n",
    "    molecules = set()\n",
    "\n",
    "    with open(filepath, 'r') as f:\n",
    "        for data in f.readlines():\n",
    "            if '=>' in data:\n",
    "                replacements.append(operator.itemgetter(0, 2)(data.strip().split(' ')))\n",
    "            else:\n",
    "                string = data.strip()\n",
    "    f.close()\n",
    "    #print(replacements)\n",
    "    #print(string)\n",
    "    #print(len(replacements))\n",
    "    a = 0\n",
    "    for before, after in replacements:\n",
    "        #print(before, after)\n",
    "        match_indexes = [m.start() for m in re.finditer(before, string)]\n",
    "        #print(a, len(match_indexes))\n",
    "        #print(match_indexes)\n",
    "\n",
    "        '''    for i in range(1, len(match_indexes)+1):\n",
    "            for combination in itertools.combinations(match_indexes, i):\n",
    "                #print(combination)\n",
    "                for index in combination:\n",
    "                    after_string = string[:index] + after + string[index + len(before):]\n",
    "                    molecules.add(after_string)\n",
    "            print(i)\n",
    "        #break'''\n",
    "\n",
    "        for index in match_indexes:\n",
    "            after_string = string[:index] + after + string[index + len(before):]\n",
    "            molecules.add(after_string)\n",
    "\n",
    "        a += 1\n",
    "\n",
    "    #print(molecules)\n",
    "    print(len(molecules))\n",
    "\n",
    "if __name__ == '__main__':\n",
    "    print(main())\n",
    "    print(str(datetime.now() - startTime)[:-3])\n",
    "    \n",
    "    '''\n",
    "    (13882464, 11171160)\n",
    "    0:00:07.621\n",
    "    '''"
   ]
  }
 ],
 "metadata": {
  "kernelspec": {
   "display_name": "Python 3",
   "language": "python",
   "name": "python3"
  },
  "language_info": {
   "codemirror_mode": {
    "name": "ipython",
    "version": 3
   },
   "file_extension": ".py",
   "mimetype": "text/x-python",
   "name": "python",
   "nbconvert_exporter": "python",
   "pygments_lexer": "ipython3",
   "version": "3.6.8"
  }
 },
 "nbformat": 4,
 "nbformat_minor": 2
}
