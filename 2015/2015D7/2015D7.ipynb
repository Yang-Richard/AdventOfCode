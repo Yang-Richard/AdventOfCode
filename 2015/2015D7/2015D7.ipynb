{
 "cells": [
  {
   "cell_type": "code",
   "execution_count": 23,
   "metadata": {
    "scrolled": true
   },
   "outputs": [
    {
     "name": "stdout",
     "output_type": "stream",
     "text": [
      "46065 14134\n",
      "0:00:00.058\n"
     ]
    }
   ],
   "source": [
    "from datetime import datetime\n",
    "startTime = datetime.now()\n",
    "\n",
    "filepath = 'test.txt'\n",
    "filepath = 'input.txt'\n",
    "\n",
    "def execute_instruction(wires, instruction):\n",
    "    for n, i in enumerate(instruction[:-2]):\n",
    "        if i.isalpha() and i.islower():\n",
    "            if i not in wires:\n",
    "                return False\n",
    "            instruction[n] = wires[i]\n",
    "        elif i.isdigit():\n",
    "            instruction[n] = int(i)\n",
    "        else:\n",
    "            pass\n",
    "\n",
    "    if 'AND' in instruction:\n",
    "        wires[instruction[4]] = instruction[0] & instruction[2]\n",
    "    elif 'OR' in instruction:\n",
    "        wires[instruction[4]] = instruction[0] | instruction[2]\n",
    "    elif 'NOT' in instruction:\n",
    "        wires[instruction[3]] = int(''.join([str(int(i)^1) for i in format(instruction[1], '#018b')[2:]]), 2)\n",
    "    elif 'LSHIFT' in instruction:\n",
    "        wires[instruction[4]] = instruction[0] << int(instruction[2])\n",
    "    elif 'RSHIFT' in instruction:\n",
    "        wires[instruction[4]] = instruction[0] >> int(instruction[2])\n",
    "    else: \n",
    "        wires[instruction[2]] = int(instruction[0])\n",
    "    return True\n",
    "\n",
    "def run_circuit(circuit, p2_change = None):\n",
    "    wires = dict()\n",
    "    i = 0\n",
    "    \n",
    "    while len(circuit) > 0:\n",
    "        instruction = circuit[i%len(circuit)].strip().split(' ')[:]\n",
    "\n",
    "        if circuit[i%len(circuit)].strip() == '1674 -> b' and p2_change != None:\n",
    "            instruction[0] = str(p2_change)\n",
    "\n",
    "        if execute_instruction(wires, instruction):\n",
    "            del circuit[i%len(circuit)]\n",
    "        else:\n",
    "            i += 1\n",
    "            \n",
    "    return wires['a']\n",
    "    \n",
    "# 46065 14134\n",
    "\n",
    "if __name__ == '__main__':\n",
    "    with open(filepath, 'r') as f:\n",
    "        circuit = f.readlines()\n",
    "    f.close()\n",
    "\n",
    "    p1 = run_circuit(circuit[:])\n",
    "    print(p1, run_circuit(circuit[:], p1))\n",
    "    print(str(datetime.now() - startTime)[:-3])\n",
    "    \n",
    "    '''\n",
    "    46065 14134\n",
    "    0:00:00.058\n",
    "    '''"
   ]
  },
  {
   "cell_type": "code",
   "execution_count": null,
   "metadata": {},
   "outputs": [],
   "source": []
  }
 ],
 "metadata": {
  "kernelspec": {
   "display_name": "Python 3",
   "language": "python",
   "name": "python3"
  },
  "language_info": {
   "codemirror_mode": {
    "name": "ipython",
    "version": 3
   },
   "file_extension": ".py",
   "mimetype": "text/x-python",
   "name": "python",
   "nbconvert_exporter": "python",
   "pygments_lexer": "ipython3",
   "version": "3.6.8"
  }
 },
 "nbformat": 4,
 "nbformat_minor": 2
}
