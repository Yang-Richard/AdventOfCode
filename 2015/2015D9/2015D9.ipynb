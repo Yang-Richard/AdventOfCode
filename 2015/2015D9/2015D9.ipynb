{
 "cells": [
  {
   "cell_type": "code",
   "execution_count": 5,
   "metadata": {
    "scrolled": false
   },
   "outputs": [
    {
     "name": "stdout",
     "output_type": "stream",
     "text": [
      "(207, 804)\n",
      "0:00:00.100\n"
     ]
    }
   ],
   "source": [
    "from datetime import datetime\n",
    "startTime = datetime.now()\n",
    "import itertools\n",
    "\n",
    "filepath = 'input.txt'\n",
    "cities = dict()\n",
    "\n",
    "class City():\n",
    "    def __init__(self, name):\n",
    "        self.name = name\n",
    "        self.city_distance = dict()\n",
    "        \n",
    "    def add_city(self, other_city, distance): \n",
    "        self.city_distance[other_city.name] = distance\n",
    "        cities[other_city.name].city_distance[self.name] = distance\n",
    "        \n",
    "def main():\n",
    "    with open(filepath, 'r') as f:\n",
    "        for line in f.readlines():\n",
    "            data = line.strip().split()\n",
    "            city1, city2, distance = data[0], data[2], int(data[4])\n",
    "\n",
    "            if city1 not in cities:\n",
    "                cities[city1] = City(city1)\n",
    "\n",
    "            if city2 not in cities:\n",
    "                cities[city2] = City(city2)\n",
    "\n",
    "            cities[city1].add_city(cities[city2], distance)\n",
    "    f.close()\n",
    "    \n",
    "    num_cities = len(cities)\n",
    "    shortest_path, longest_path = float(\"inf\"), 0\n",
    "\n",
    "    for path in itertools.permutations(cities):\n",
    "        cur_path = 0\n",
    "        for i in range(num_cities-1):\n",
    "            cur_path += cities[path[i]].city_distance[path[i+1]]\n",
    "\n",
    "        if cur_path < shortest_path:\n",
    "            shortest_path = cur_path\n",
    "\n",
    "        if cur_path > longest_path:\n",
    "            longest_path = cur_path\n",
    "\n",
    "    return shortest_path, longest_path\n",
    "    \n",
    "if __name__ == '__main__':\n",
    "    print(main())\n",
    "    print(str(datetime.now() - startTime)[:-3])\n",
    "    \n",
    "    '''\n",
    "    (207, 804)\n",
    "    0:00:00.100\n",
    "    '''"
   ]
  },
  {
   "cell_type": "code",
   "execution_count": null,
   "metadata": {},
   "outputs": [],
   "source": []
  }
 ],
 "metadata": {
  "kernelspec": {
   "display_name": "Python 3",
   "language": "python",
   "name": "python3"
  },
  "language_info": {
   "codemirror_mode": {
    "name": "ipython",
    "version": 3
   },
   "file_extension": ".py",
   "mimetype": "text/x-python",
   "name": "python",
   "nbconvert_exporter": "python",
   "pygments_lexer": "ipython3",
   "version": "3.6.8"
  }
 },
 "nbformat": 4,
 "nbformat_minor": 2
}
