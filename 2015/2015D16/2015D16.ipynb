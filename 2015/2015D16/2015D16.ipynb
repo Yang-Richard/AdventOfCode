{
 "cells": [
  {
   "cell_type": "code",
   "execution_count": 2,
   "metadata": {
    "scrolled": false
   },
   "outputs": [
    {
     "name": "stdout",
     "output_type": "stream",
     "text": [
      "(373, 260)\n",
      "0:00:00.002\n"
     ]
    }
   ],
   "source": [
    "from datetime import datetime\n",
    "startTime = datetime.now()\n",
    "import itertools\n",
    "\n",
    "filepath = 'input.txt'\n",
    "\n",
    "actual_sue = {'children': 3, 'cats': 7, 'samoyeds': 2, 'pomeranians': 3, 'akitas': 0,\n",
    "                'vizslas': 0, 'goldfish': 5, 'trees': 3, 'cars': 2, 'perfumes': 1}\n",
    "\n",
    "def check_sue(sue):\n",
    "    num_match = [0, 0]\n",
    "    \n",
    "    for compound in sue:\n",
    "        item, num = compound.split(':')\n",
    "        \n",
    "        if str(actual_sue[item]) == num:\n",
    "            num_match[0] += 1\n",
    "\n",
    "        if (item == 'cats' or item == 'trees') and str(actual_sue[item]) < num:\n",
    "            num_match[1] += 1\n",
    "        elif (item == 'pomeranians' or item == 'goldfish') and str(actual_sue[item]) > num:   \n",
    "            num_match[1] += 1\n",
    "        elif str(actual_sue[item]) == num:\n",
    "            num_match[1] += 1\n",
    "        else:\n",
    "            pass\n",
    "        \n",
    "    return num_match\n",
    "        \n",
    "def main():\n",
    "    matches_1, matches_2 = [], []\n",
    "\n",
    "    with open(filepath, 'r') as f:\n",
    "        for data in f.readlines():\n",
    "            current_sue_matches = check_sue(data[data.find(':')+1:].strip().replace(' ', '').split(','))\n",
    "            matches_1.append(current_sue_matches[0])\n",
    "            matches_2.append(current_sue_matches[1])\n",
    "    f.close()\n",
    "\n",
    "    return matches_1.index(max(matches_1))+1, matches_2.index(max(matches_2))+1\n",
    "    \n",
    "if __name__ == '__main__':\n",
    "    print(main())\n",
    "    print(str(datetime.now() - startTime)[:-3])\n",
    "    \n",
    "    '''\n",
    "    (373, 260)\n",
    "    0:00:00.002\n",
    "    '''"
   ]
  }
 ],
 "metadata": {
  "kernelspec": {
   "display_name": "Python 3",
   "language": "python",
   "name": "python3"
  },
  "language_info": {
   "codemirror_mode": {
    "name": "ipython",
    "version": 3
   },
   "file_extension": ".py",
   "mimetype": "text/x-python",
   "name": "python",
   "nbconvert_exporter": "python",
   "pygments_lexer": "ipython3",
   "version": "3.6.8"
  }
 },
 "nbformat": 4,
 "nbformat_minor": 2
}
