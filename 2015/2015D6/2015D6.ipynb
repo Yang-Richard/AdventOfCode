{
 "cells": [
  {
   "cell_type": "code",
   "execution_count": 35,
   "metadata": {
    "scrolled": false
   },
   "outputs": [
    {
     "name": "stdout",
     "output_type": "stream",
     "text": [
      "(543903, 14687245)\n",
      "0:00:26.118\n"
     ]
    }
   ],
   "source": [
    "from datetime import datetime\n",
    "startTime = datetime.now()\n",
    "import numpy\n",
    "\n",
    "filepath = 'input.txt'\n",
    "\n",
    "def main():\n",
    "    grid1 = numpy.zeros((1000, 1000), dtype = int)\n",
    "    grid2 = numpy.zeros((1000, 1000), dtype = int)\n",
    "    \n",
    "    with open(filepath) as f:\n",
    "        for line in f.readlines():\n",
    "            instruction = line.strip().split(' ')\n",
    "            \n",
    "            if len(instruction) == 5:\n",
    "                start, end = list(map(int, instruction[2].split(','))), list(map(int, instruction[4].split(',')))\n",
    "                \n",
    "                if instruction[1] == 'on':\n",
    "                    new_bulb = 1\n",
    "                    brightness = 1\n",
    "                else: \n",
    "                    new_bulb = 0\n",
    "                    brightness = -1\n",
    "                    \n",
    "                for x in range(start[0], end[0]+1):\n",
    "                    for y in range(start[1], end[1]+1):\n",
    "                        grid1[y][x] = new_bulb\n",
    "                        \n",
    "                        if grid2[y][x] + brightness != -1:\n",
    "                            grid2[y][x] += brightness\n",
    "                            \n",
    "            else:\n",
    "                start, end = list(map(int, instruction[1].split(','))), list(map(int, instruction[3].split(',')))\n",
    "                \n",
    "                for x in range(start[0], end[0]+1):\n",
    "                    for y in range(start[1], end[1]+1):\n",
    "                        grid1[y][x] = grid1[y][x]^1\n",
    "                        grid2[y][x] += 2\n",
    "    f.close()\n",
    "    \n",
    "    return numpy.count_nonzero(grid1), numpy.sum(grid2)\n",
    "\n",
    "if __name__ == '__main__':\n",
    "    print(main())\n",
    "    print(str(datetime.now() - startTime)[:-3])\n",
    "    \n",
    "    '''\n",
    "    (543903, 14687245)\n",
    "    0:00:26.118\n",
    "    '''"
   ]
  },
  {
   "cell_type": "code",
   "execution_count": null,
   "metadata": {},
   "outputs": [],
   "source": []
  }
 ],
 "metadata": {
  "kernelspec": {
   "display_name": "Python 3",
   "language": "python",
   "name": "python3"
  },
  "language_info": {
   "codemirror_mode": {
    "name": "ipython",
    "version": 3
   },
   "file_extension": ".py",
   "mimetype": "text/x-python",
   "name": "python",
   "nbconvert_exporter": "python",
   "pygments_lexer": "ipython3",
   "version": "3.7.2"
  }
 },
 "nbformat": 4,
 "nbformat_minor": 2
}
