{
 "cells": [
  {
   "cell_type": "code",
   "execution_count": 4,
   "metadata": {
    "scrolled": false
   },
   "outputs": [
    {
     "name": "stdout",
     "output_type": "stream",
     "text": [
      "664\n",
      "640\n",
      "0:00:00.750\n"
     ]
    }
   ],
   "source": [
    "from datetime import datetime\n",
    "startTime = datetime.now()\n",
    "import itertools\n",
    "\n",
    "filepath = 'input.txt'\n",
    "people = dict()\n",
    "\n",
    "class Person():\n",
    "    def __init__(self, name):\n",
    "        self.name = name\n",
    "        self.ratings = dict()\n",
    "        \n",
    "    def add_rating(self, other_person, rating): \n",
    "        if other_person.name not in self.ratings:\n",
    "            self.ratings[other_person.name] = rating\n",
    "        else:\n",
    "            self.ratings[other_person.name] += rating\n",
    "            \n",
    "        if self.name not in people[other_person.name].ratings:\n",
    "            people[other_person.name].ratings[self.name] = rating\n",
    "        else:\n",
    "            people[other_person.name].ratings[self.name] += rating\n",
    "            \n",
    "def find_optimal_seating():\n",
    "    seating_arrangements = itertools.permutations(people)\n",
    "    max_happiness = 0\n",
    "    \n",
    "    for arrangement in seating_arrangements:\n",
    "        happiness = 0\n",
    "        \n",
    "        for seat, name in enumerate(arrangement):\n",
    "            happiness += people[name].ratings[arrangement[(seat+1)%len(people)]]\n",
    "\n",
    "        if happiness > max_happiness:\n",
    "            max_happiness = happiness\n",
    "\n",
    "    return max_happiness\n",
    "        \n",
    "def main():\n",
    "    with open(filepath, 'r') as f:\n",
    "        for data in f.readlines():\n",
    "            data = data.strip().replace('.', '').split(' ')\n",
    "\n",
    "            if data[0] not in people:\n",
    "                people[data[0]] = Person(data[0])\n",
    "\n",
    "            if data[10] not in people:\n",
    "                people[data[10]] = Person(data[10])    \n",
    "\n",
    "            if data[2] == 'gain':\n",
    "                sign = 1\n",
    "            else:\n",
    "                sign = -1\n",
    "\n",
    "            people[data[0]].add_rating(people[data[10]], sign * int(data[3]))\n",
    "    f.close()\n",
    "\n",
    "    print(find_optimal_seating())\n",
    "\n",
    "    people['Me'] = Person('Me')\n",
    "    for person in people:\n",
    "        people['Me'].add_rating(people[person], 0)\n",
    "\n",
    "    print(find_optimal_seating())\n",
    "    \n",
    "if __name__ == '__main__':\n",
    "    main()\n",
    "    print(str(datetime.now() - startTime)[:-3])\n",
    "    \n",
    "    '''\n",
    "    664\n",
    "    640\n",
    "    0:00:00.750\n",
    "    '''"
   ]
  },
  {
   "cell_type": "code",
   "execution_count": null,
   "metadata": {},
   "outputs": [],
   "source": []
  }
 ],
 "metadata": {
  "kernelspec": {
   "display_name": "Python 3",
   "language": "python",
   "name": "python3"
  },
  "language_info": {
   "codemirror_mode": {
    "name": "ipython",
    "version": 3
   },
   "file_extension": ".py",
   "mimetype": "text/x-python",
   "name": "python",
   "nbconvert_exporter": "python",
   "pygments_lexer": "ipython3",
   "version": "3.6.8"
  }
 },
 "nbformat": 4,
 "nbformat_minor": 2
}
