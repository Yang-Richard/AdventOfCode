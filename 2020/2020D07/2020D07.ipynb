{
 "cells": [
  {
   "cell_type": "code",
   "execution_count": 187,
   "metadata": {
    "scrolled": false
   },
   "outputs": [
    {
     "name": "stdout",
     "output_type": "stream",
     "text": [
      "r1: 121   r2:  3805\n",
      "0:00:00.038\n"
     ]
    }
   ],
   "source": [
    "from datetime import datetime\n",
    "startTime = datetime.now()\n",
    "\n",
    "from functools import reduce\n",
    "import math\n",
    "\n",
    "filepath = 'input.txt'\n",
    "#filepath = 'test.txt'\n",
    "\n",
    "r1, r2 = 0, 0\n",
    "data = []\n",
    "\n",
    "bags = dict()\n",
    "\n",
    "class bag:\n",
    "    def __init__(self, name, info):\n",
    "        self.name = name\n",
    "        self.child_bags = {}\n",
    "        self.add_children(info)\n",
    "        \n",
    "    def add_children(self, info):\n",
    "        i = 0\n",
    "        while i < len(info):\n",
    "            child_bag = info[i+1] + info[i+2]\n",
    "            \n",
    "            if child_bag != 'otherbags.':\n",
    "                if child_bag not in bags.keys() :\n",
    "                    bags[child_bag] = bag(child_bag, [])\n",
    "                self.child_bags[bags[child_bag]] = int(info[i])\n",
    "            \n",
    "            i += 4\n",
    "            \n",
    "    def gold(self):\n",
    "        if self.name == 'shinygold':\n",
    "            return 1\n",
    "        \n",
    "        for child in self.child_bags:\n",
    "            if child.gold():\n",
    "                return 1\n",
    "        return 0\n",
    "    \n",
    "    def count(self):\n",
    "        counter = 0    \n",
    "        for bag, count in self.child_bags.items():\n",
    "            counter += count * bag.count() + count\n",
    "        return counter\n",
    "\n",
    "with open(filepath, 'r') as f:\n",
    "    data = [line.strip() for line in f.readlines()]\n",
    "\n",
    "for line in data:\n",
    "    info = line.split(' ')\n",
    "    bag_name = info[0] + info[1]\n",
    "    \n",
    "    if bag_name not in bags.keys():\n",
    "        bags[bag_name] = bag(bag_name, info[4:])\n",
    "    else:\n",
    "        bags[bag_name].add_children(info[4:])\n",
    "    \n",
    "for namer, bag in bags.items():\n",
    "    r1 += bag.gold()\n",
    "\n",
    "print('r1:', r1-1, '  r2: ', bags['shinygold'].count())\n",
    "print(str(datetime.now() - startTime)[:-3])"
   ]
  },
  {
   "cell_type": "code",
   "execution_count": null,
   "metadata": {},
   "outputs": [],
   "source": []
  }
 ],
 "metadata": {
  "kernelspec": {
   "display_name": "Python 3",
   "language": "python",
   "name": "python3"
  },
  "language_info": {
   "codemirror_mode": {
    "name": "ipython",
    "version": 3
   },
   "file_extension": ".py",
   "mimetype": "text/x-python",
   "name": "python",
   "nbconvert_exporter": "python",
   "pygments_lexer": "ipython3",
   "version": "3.6.9"
  }
 },
 "nbformat": 4,
 "nbformat_minor": 2
}
