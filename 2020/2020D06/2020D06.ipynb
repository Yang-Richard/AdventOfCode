{
 "cells": [
  {
   "cell_type": "code",
   "execution_count": 9,
   "metadata": {
    "scrolled": false
   },
   "outputs": [
    {
     "name": "stdout",
     "output_type": "stream",
     "text": [
      "r1: 6778   r2:  0\n",
      "0:00:00.003\n"
     ]
    }
   ],
   "source": [
    "from datetime import datetime\n",
    "startTime = datetime.now()\n",
    "\n",
    "from functools import reduce\n",
    "import math\n",
    "\n",
    "filepath = 'input.txt'\n",
    "#filepath = 'test.txt'\n",
    "\n",
    "r1, r2 = 0, 0\n",
    "data = []\n",
    "\n",
    "with open(filepath, 'r') as f:\n",
    "    data = [line.strip() for line in f.readlines()]\n",
    "    \n",
    "count = set()\n",
    "for line in data:\n",
    "    #print(line)\n",
    "    \n",
    "    \n",
    "    for i in line:\n",
    "        \n",
    "        count.add(i)\n",
    "\n",
    "    if len(line) == 0:\n",
    "        r1+= len(count)\n",
    "        count = set()\n",
    "    \n",
    "r1 += len(count)\n",
    "print('r1:', r1, '  r2: ', r2)\n",
    "print(str(datetime.now() - startTime)[:-3])"
   ]
  },
  {
   "cell_type": "code",
   "execution_count": 29,
   "metadata": {},
   "outputs": [
    {
     "name": "stdout",
     "output_type": "stream",
     "text": [
      "r1: 3406   r2:  0\n",
      "0:00:00.004\n"
     ]
    }
   ],
   "source": [
    "from datetime import datetime\n",
    "startTime = datetime.now()\n",
    "\n",
    "from functools import reduce\n",
    "import math\n",
    "\n",
    "filepath = 'input.txt'\n",
    "#filepath = 'test.txt'\n",
    "\n",
    "r1, r2 = 0, 0\n",
    "data = []\n",
    "\n",
    "with open(filepath, 'r') as f:\n",
    "    data = [line.strip() for line in f.readlines()]\n",
    "    \n",
    "count = dict()\n",
    "numppl = 0\n",
    "for line in data:\n",
    "    #print(line)\n",
    "    \n",
    "    numppl += 1\n",
    "    \n",
    "    for i in line:\n",
    "        \n",
    "        if i not in count.keys():\n",
    "            count[i] = 1\n",
    "        else:\n",
    "            count[i] += 1\n",
    "        \n",
    "\n",
    "    if len(line) == 0:\n",
    "        for item in count:\n",
    "            if count[item] == numppl-1:\n",
    "                #print('adding', count[item])\n",
    "                r1 += 1\n",
    "            #print(item, count[item], numppl-1)\n",
    "        \n",
    "        numppl = 0\n",
    "        count = dict()\n",
    "        \n",
    "        #print()\n",
    "r1 += len(count)\n",
    "print('r1:', r1, '  r2: ', r2)\n",
    "print(str(datetime.now() - startTime)[:-3])"
   ]
  },
  {
   "cell_type": "code",
   "execution_count": null,
   "metadata": {},
   "outputs": [],
   "source": []
  }
 ],
 "metadata": {
  "kernelspec": {
   "display_name": "Python 3",
   "language": "python",
   "name": "python3"
  },
  "language_info": {
   "codemirror_mode": {
    "name": "ipython",
    "version": 3
   },
   "file_extension": ".py",
   "mimetype": "text/x-python",
   "name": "python",
   "nbconvert_exporter": "python",
   "pygments_lexer": "ipython3",
   "version": "3.6.9"
  }
 },
 "nbformat": 4,
 "nbformat_minor": 2
}
