{
 "cells": [
  {
   "cell_type": "code",
   "execution_count": 38,
   "metadata": {
    "scrolled": false
   },
   "outputs": [
    {
     "name": "stdout",
     "output_type": "stream",
     "text": [
      "r1: 244   r2:  9406609920\n",
      "0:00:00.001\n"
     ]
    }
   ],
   "source": [
    "from datetime import datetime\n",
    "startTime = datetime.now()\n",
    "\n",
    "from functools import reduce\n",
    "\n",
    "filepath = 'input.txt'\n",
    "#filepath = 'test.txt'\n",
    "\n",
    "r1, r2 = 0, 0\n",
    "data = []\n",
    "\n",
    "with open(filepath, 'r') as f:\n",
    "    data = [line.strip() for line in f.readlines()]\n",
    "    \n",
    "width = len(data[0])\n",
    "checks = [[1, 1], [3, 1], [5, 1], [7, 1], [1, 2]]\n",
    "trees = []\n",
    "\n",
    "for x_adjust, y_adjust in checks:\n",
    "    counter, x, y = 0, 0, 0\n",
    "    \n",
    "    while y < len(data):\n",
    "        if data[y][x%width] == '#':\n",
    "            counter +=1\n",
    "            \n",
    "        x += x_adjust\n",
    "        y += y_adjust\n",
    "    \n",
    "    trees.append(counter)\n",
    "    \n",
    "print('r1:', trees[1], '  r2: ', reduce(lambda x, y: x * y, trees))\n",
    "print(str(datetime.now() - startTime)[:-3])"
   ]
  },
  {
   "cell_type": "code",
   "execution_count": null,
   "metadata": {},
   "outputs": [],
   "source": []
  }
 ],
 "metadata": {
  "kernelspec": {
   "display_name": "Python 3",
   "language": "python",
   "name": "python3"
  },
  "language_info": {
   "codemirror_mode": {
    "name": "ipython",
    "version": 3
   },
   "file_extension": ".py",
   "mimetype": "text/x-python",
   "name": "python",
   "nbconvert_exporter": "python",
   "pygments_lexer": "ipython3",
   "version": "3.6.9"
  }
 },
 "nbformat": 4,
 "nbformat_minor": 2
}
