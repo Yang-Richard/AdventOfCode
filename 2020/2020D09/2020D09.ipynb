{
 "cells": [
  {
   "cell_type": "code",
   "execution_count": 166,
   "metadata": {
    "scrolled": false
   },
   "outputs": [
    {
     "name": "stdout",
     "output_type": "stream",
     "text": [
      "25918798 3340942\n",
      "0:00:00.391\n"
     ]
    }
   ],
   "source": [
    "from datetime import datetime\n",
    "startTime = datetime.now()\n",
    "\n",
    "from itertools import combinations\n",
    "\n",
    "filepath = 'input.txt'\n",
    "#filepath = 'test.txt'\n",
    "\n",
    "with open(filepath, 'r') as f:\n",
    "    data = [int(line.strip()) for line in f.readlines()]\n",
    "\n",
    "preamble = 25\n",
    "for i in range(preamble, len(data)):\n",
    "    if data[i] not in [a + b for a, b in combinations(data[i - preamble :i ], 2)]:\n",
    "        r1 = data[i]\n",
    "        break\n",
    "        \n",
    "for i in range(len(data)):\n",
    "    sums = [sum(data[i:a]) for a in range(len(data)-i)]\n",
    "    if r1 in sums:\n",
    "        pos = sums.index(r1)\n",
    "        r2 = min(data[i:pos]) + max(data[i:pos])\n",
    "        break\n",
    "        \n",
    "print(r1, r2)\n",
    "print(str(datetime.now() - startTime)[:-3]) # 25918798 3340942"
   ]
  },
  {
   "cell_type": "code",
   "execution_count": null,
   "metadata": {},
   "outputs": [],
   "source": []
  },
  {
   "cell_type": "code",
   "execution_count": null,
   "metadata": {},
   "outputs": [],
   "source": []
  }
 ],
 "metadata": {
  "kernelspec": {
   "display_name": "Python 3",
   "language": "python",
   "name": "python3"
  },
  "language_info": {
   "codemirror_mode": {
    "name": "ipython",
    "version": 3
   },
   "file_extension": ".py",
   "mimetype": "text/x-python",
   "name": "python",
   "nbconvert_exporter": "python",
   "pygments_lexer": "ipython3",
   "version": "3.6.9"
  }
 },
 "nbformat": 4,
 "nbformat_minor": 2
}
