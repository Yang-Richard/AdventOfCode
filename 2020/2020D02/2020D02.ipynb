{
 "cells": [
  {
   "cell_type": "code",
   "execution_count": 44,
   "metadata": {
    "scrolled": false
   },
   "outputs": [
    {
     "name": "stdout",
     "output_type": "stream",
     "text": [
      "622 391\n",
      "0:00:00.002\n"
     ]
    }
   ],
   "source": [
    "from datetime import datetime\n",
    "startTime = datetime.now()\n",
    "\n",
    "import re\n",
    "from collections import deque, Counter, defaultdict\n",
    "from itertools import permutations, combinations, count, product\n",
    "from operator import *\n",
    "\n",
    "filepath = 'input.txt'\n",
    "#filepath = 'test.txt'\n",
    "\n",
    "r1, r2 = 0, 0\n",
    "data = []\n",
    "\n",
    "with open(filepath, 'r') as f:\n",
    "    data = [line.strip() for line in f.readlines()]\n",
    "\n",
    "for i in data:\n",
    "    a = i.index('-')\n",
    "    b = i.index(' ')\n",
    "    c = i.index(':')\n",
    "    \n",
    "    left = int(i[:a]) - 1\n",
    "    right = int(i[a+1:b]) - 1\n",
    "    letter = i[b+1:c]\n",
    "    string = i[c+2:]\n",
    "    \n",
    "    count = string.count(letter)\n",
    "    if count <= right and count >= left:\n",
    "        r1 += 1\n",
    "    \n",
    "    matches = int(string[left] == letter) + int(string[right] == letter)\n",
    "    if matches == 1:\n",
    "        r2 += 1\n",
    "\n",
    "print(r1, r2)\n",
    "print(str(datetime.now() - startTime)[:-3])"
   ]
  },
  {
   "cell_type": "code",
   "execution_count": null,
   "metadata": {},
   "outputs": [],
   "source": []
  }
 ],
 "metadata": {
  "kernelspec": {
   "display_name": "Python 3",
   "language": "python",
   "name": "python3"
  },
  "language_info": {
   "codemirror_mode": {
    "name": "ipython",
    "version": 3
   },
   "file_extension": ".py",
   "mimetype": "text/x-python",
   "name": "python",
   "nbconvert_exporter": "python",
   "pygments_lexer": "ipython3",
   "version": "3.6.9"
  }
 },
 "nbformat": 4,
 "nbformat_minor": 2
}
