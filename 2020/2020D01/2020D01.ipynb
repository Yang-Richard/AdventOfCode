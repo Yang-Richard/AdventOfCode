{
 "cells": [
  {
   "cell_type": "code",
   "execution_count": 39,
   "metadata": {
    "scrolled": false
   },
   "outputs": [
    {
     "name": "stdout",
     "output_type": "stream",
     "text": [
      "658899\n",
      "155806250\n",
      "0:00:00.014\n"
     ]
    }
   ],
   "source": [
    "from datetime import datetime\n",
    "startTime = datetime.now()\n",
    "\n",
    "import re\n",
    "from collections import deque, Counter, defaultdict\n",
    "from itertools import permutations, combinations, count, product\n",
    "from operator import *\n",
    "\n",
    "filepath = 'input.txt'\n",
    "\n",
    "def p1(subdata):\n",
    "    for n, i in enumerate(subdata):\n",
    "        if 2020-i in subdata:\n",
    "            return  i * (2020-i)\n",
    "\n",
    "def p2(subdata):\n",
    "    for n, i in enumerate(subdata):\n",
    "        for j, k in enumerate(subdata):\n",
    "            if 2020 - i - k in subdata:\n",
    "                return i * k * (2020-i-k)\n",
    "                                \n",
    "data = []\n",
    "with open(filepath, 'r') as f:\n",
    "    data = [int(line.strip()) for line in f.readlines()]\n",
    "\n",
    "print(p1(data))\n",
    "print(p2(data))\n",
    "\n",
    "print(str(datetime.now() - startTime)[:-3])\n",
    "\n",
    "#658899\n",
    "#155806250"
   ]
  },
  {
   "cell_type": "code",
   "execution_count": null,
   "metadata": {},
   "outputs": [],
   "source": []
  }
 ],
 "metadata": {
  "kernelspec": {
   "display_name": "Python 3",
   "language": "python",
   "name": "python3"
  },
  "language_info": {
   "codemirror_mode": {
    "name": "ipython",
    "version": 3
   },
   "file_extension": ".py",
   "mimetype": "text/x-python",
   "name": "python",
   "nbconvert_exporter": "python",
   "pygments_lexer": "ipython3",
   "version": "3.6.9"
  }
 },
 "nbformat": 4,
 "nbformat_minor": 2
}
