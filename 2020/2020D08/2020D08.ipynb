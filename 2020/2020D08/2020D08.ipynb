{
 "cells": [
  {
   "cell_type": "code",
   "execution_count": 11,
   "metadata": {
    "scrolled": false
   },
   "outputs": [
    {
     "name": "stdout",
     "output_type": "stream",
     "text": [
      "1553\n",
      "r1: 0   r2: \n",
      "0:00:00.001\n"
     ]
    }
   ],
   "source": [
    "from datetime import datetime\n",
    "startTime = datetime.now()\n",
    "\n",
    "from functools import reduce\n",
    "import math\n",
    "\n",
    "filepath = 'input.txt'\n",
    "#filepath = 'test.txt'\n",
    "\n",
    "r1, r2 = 0, 0\n",
    "data = []\n",
    "\n",
    "pos = 0\n",
    "count = 0 \n",
    "runs = set()\n",
    "\n",
    "with open(filepath, 'r') as f:\n",
    "    data = [line.strip() for line in f.readlines()]\n",
    "    \n",
    "for i in range(len(data)):\n",
    "    runs.add(i)\n",
    "\n",
    "#print(runs)\n",
    "while 1:\n",
    "    ins, val = data[pos].split(' ')\n",
    "    \n",
    "    if pos not in runs:\n",
    "        print(count)\n",
    "        break\n",
    "    runs.remove(pos)\n",
    "    \n",
    "    if ins == 'nop':\n",
    "        pos += 1\n",
    "    elif ins == 'acc':\n",
    "        if val[0] == '+':\n",
    "            count += int(val[1:])\n",
    "        else:\n",
    "            count -= int(val[1:])\n",
    "        #print(val)\n",
    "        pos += 1\n",
    "    elif ins == 'jmp':\n",
    "        if val[0] == '+':\n",
    "            pos += int(val[1:])\n",
    "        else:\n",
    "            pos -= int(val[1:])\n",
    "        #print(val)\n",
    "    \n",
    "    \n",
    "    #print('done')\n",
    "print('r1:', r1, '  r2: ')\n",
    "print(str(datetime.now() - startTime)[:-3])"
   ]
  },
  {
   "cell_type": "code",
   "execution_count": 26,
   "metadata": {},
   "outputs": [
    {
     "name": "stdout",
     "output_type": "stream",
     "text": [
      "1877\n",
      "r1: 0   r2: \n",
      "0:00:01.333\n"
     ]
    }
   ],
   "source": [
    "from datetime import datetime\n",
    "startTime = datetime.now()\n",
    "\n",
    "from functools import reduce\n",
    "import math\n",
    "\n",
    "filepath = 'input.txt'\n",
    "#filepath = 'test.txt'\n",
    "\n",
    "r1, r2 = 0, 0\n",
    "data = []\n",
    "\n",
    "def do(data):\n",
    "    \n",
    "    pos = 0\n",
    "    count = 0 \n",
    "    counter = 0\n",
    "\n",
    "    #print(runs)\n",
    "    while pos < len(data):\n",
    "        ins, val = data[pos].split(' ')\n",
    "\n",
    "        if counter == 10000:\n",
    "            return -1\n",
    "        counter += 1\n",
    "\n",
    "        if ins == 'nop':\n",
    "            pos += 1\n",
    "        elif ins == 'acc':\n",
    "            if val[0] == '+':\n",
    "                count += int(val[1:])\n",
    "            else:\n",
    "                count -= int(val[1:])\n",
    "            #print(val)\n",
    "            pos += 1\n",
    "        elif ins == 'jmp':\n",
    "            if val[0] == '+':\n",
    "                pos += int(val[1:])\n",
    "            else:\n",
    "                pos -= int(val[1:])\n",
    "    return count\n",
    "\n",
    "with open(filepath, 'r') as f:\n",
    "    data = [line.strip() for line in f.readlines()]\n",
    "    \n",
    "for n, i in enumerate(data):\n",
    "    \n",
    "    test = data[:]\n",
    "    a = -1\n",
    "    if i[:3] == 'nop':\n",
    "        test[n] = 'jmp' + test[n][3:]\n",
    "        \n",
    "        a = do(test)\n",
    "        #print('nop', a)\n",
    "    elif i[:3] == 'jmp':\n",
    "        test[n] = 'nop' + test[n][3:]\n",
    "        a = do(test)\n",
    "        #print('jmp', a)\n",
    "        \n",
    "    #print(test)\n",
    "    if a != -1:\n",
    "        print(a)\n",
    "    \n",
    "    \n",
    "print('r1:', r1, '  r2: ')\n",
    "print(str(datetime.now() - startTime)[:-3])"
   ]
  },
  {
   "cell_type": "code",
   "execution_count": 13,
   "metadata": {},
   "outputs": [
    {
     "name": "stdout",
     "output_type": "stream",
     "text": [
      "45\n"
     ]
    }
   ],
   "source": [
    "print('12345'[3:])"
   ]
  },
  {
   "cell_type": "code",
   "execution_count": null,
   "metadata": {},
   "outputs": [],
   "source": []
  }
 ],
 "metadata": {
  "kernelspec": {
   "display_name": "Python 3",
   "language": "python",
   "name": "python3"
  },
  "language_info": {
   "codemirror_mode": {
    "name": "ipython",
    "version": 3
   },
   "file_extension": ".py",
   "mimetype": "text/x-python",
   "name": "python",
   "nbconvert_exporter": "python",
   "pygments_lexer": "ipython3",
   "version": "3.6.9"
  }
 },
 "nbformat": 4,
 "nbformat_minor": 2
}
