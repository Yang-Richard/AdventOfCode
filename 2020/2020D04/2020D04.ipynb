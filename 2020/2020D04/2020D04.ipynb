{
 "cells": [
  {
   "cell_type": "code",
   "execution_count": 89,
   "metadata": {
    "scrolled": false
   },
   "outputs": [
    {
     "name": "stdout",
     "output_type": "stream",
     "text": [
      "r1: 160   r2:  0\n",
      "0:00:00.002\n"
     ]
    }
   ],
   "source": [
    "from datetime import datetime\n",
    "startTime = datetime.now()\n",
    "\n",
    "from functools import reduce\n",
    "\n",
    "filepath = 'input.txt'\n",
    "#filepath = 'test.txt'\n",
    "\n",
    "r1, r2 = 0, 0\n",
    "data = []\n",
    "\n",
    "with open(filepath, 'r') as f:\n",
    "    data = [line.strip() for line in f.readlines()]\n",
    "    \n",
    "def valid(val):\n",
    "    a, b = val.split(':')\n",
    "    \n",
    "    if a == 'byr':\n",
    "        if 1920 <= int(b) <= 2002:\n",
    "            return 1\n",
    "    elif a == 'iyr':\n",
    "        if 2010 <= int(b) <= 2020:\n",
    "            return 1\n",
    "    elif a == 'eyr':\n",
    "        if 2020 <= int(b) <= 2030:\n",
    "            return 1\n",
    "    elif a == 'hgt':\n",
    "        if b[-2:] == 'cm':\n",
    "            if 150 <= int(b[:-2]) <= 193: \n",
    "                return 1\n",
    "        elif b[-2:] == 'in':\n",
    "            if 59 <= int(b[:-2]) <= 76: \n",
    "                return 1\n",
    "        else:\n",
    "            pass\n",
    "    elif a == 'hcl':\n",
    "        if b[0] == '#' and b[1:].isalnum() and len(b[1:]) == 6:\n",
    "            return 1\n",
    "    elif a == 'ecl':\n",
    "        if b in ('amb', 'blu', 'brn', 'gry', 'grn', 'hzl', 'oth'):\n",
    "            return 1\n",
    "    elif a == 'pid':\n",
    "        if b.isnumeric() and len(b) == 9:\n",
    "            return 1\n",
    "    elif a == 'cid':\n",
    "        return 1\n",
    "    else:\n",
    "        pass\n",
    "    \n",
    "    return 0\n",
    "        \n",
    "codes = ['byr', 'iyr', 'eyr', 'hgt', 'hcl', 'ecl', 'pid', 'cid']\n",
    "current = codes.copy()\n",
    "\n",
    "for line in data:\n",
    "    for i in line.split():\n",
    "        if valid(i):\n",
    "            current.remove(i.split(':')[0])\n",
    "            \n",
    "    if len(line) == 0:\n",
    "        if len(current) <= 0 or current[0] == 'cid':\n",
    "            r1 += 1\n",
    "        current = codes.copy() \n",
    "        \n",
    "if len(current) == 0 or current[0] == 'cid':\n",
    "    #print('ok')\n",
    "    r1 += 1        \n",
    "\n",
    "print('r1:', r1, '  r2: ', r2)\n",
    "print(str(datetime.now() - startTime)[:-3])"
   ]
  },
  {
   "cell_type": "code",
   "execution_count": 36,
   "metadata": {},
   "outputs": [
    {
     "name": "stdout",
     "output_type": "stream",
     "text": [
      "2345\n"
     ]
    }
   ],
   "source": [
    "a = '12345'\n",
    "print(a[1:])"
   ]
  },
  {
   "cell_type": "code",
   "execution_count": 38,
   "metadata": {},
   "outputs": [
    {
     "name": "stdout",
     "output_type": "stream",
     "text": [
      "True\n"
     ]
    }
   ],
   "source": [
    "a = '12345'\n",
    "print(a.isnumeric())"
   ]
  },
  {
   "cell_type": "code",
   "execution_count": null,
   "metadata": {},
   "outputs": [],
   "source": [
    "\n",
    "codes = ['byr', 'iyr', 'eyr', 'hgt', 'hcl', 'ecl', 'pid', 'cid']\n",
    "current = codes[:]\n",
    "for line in data:\n",
    "    #print(line)\n",
    "    for i in line.split():\n",
    "        if valid(i):\n",
    "            current.remove(i[:i.index(':')])\n",
    "        #print(current)\n",
    "    \n",
    "    if len(line) == 0:\n",
    "        #print('empty', current)\n",
    "        if len(current) == 0 or current[0] == 'cid':\n",
    "            #print('ok')\n",
    "            r1 += 1\n",
    "        current = codes[:]\n",
    "    break\n",
    "        \n",
    "if len(current) == 0 or current[0] == 'cid':\n",
    "    #print('ok')\n",
    "    r1 += 1        "
   ]
  }
 ],
 "metadata": {
  "kernelspec": {
   "display_name": "Python 3",
   "language": "python",
   "name": "python3"
  },
  "language_info": {
   "codemirror_mode": {
    "name": "ipython",
    "version": 3
   },
   "file_extension": ".py",
   "mimetype": "text/x-python",
   "name": "python",
   "nbconvert_exporter": "python",
   "pygments_lexer": "ipython3",
   "version": "3.6.9"
  }
 },
 "nbformat": 4,
 "nbformat_minor": 2
}
