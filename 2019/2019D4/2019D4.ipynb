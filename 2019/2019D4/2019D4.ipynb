{
 "cells": [
  {
   "cell_type": "code",
   "execution_count": 43,
   "metadata": {},
   "outputs": [
    {
     "name": "stdout",
     "output_type": "stream",
     "text": [
      "[544, 334]\n",
      "0:00:01.168\n"
     ]
    }
   ],
   "source": [
    "from datetime import datetime\n",
    "startTime = datetime.now()\n",
    "\n",
    "def check_value(val):    \n",
    "    p1 = list(val) == sorted(val) and sum(val.count(i) >= 2 for i in '0123456789') >= 1\n",
    "    p2 = list(val) == sorted(val) and sum(val.count(i) == 2 for i in '0123456789') >= 1\n",
    "    return p1, p2\n",
    "    \n",
    "low, high = 356261, 846303\n",
    "print(list(map(sum, zip(*(check_value(str(i)) for i in range(low, high - 4))))))\n",
    "print(str(datetime.now() - startTime)[:-3])"
   ]
  },
  {
   "cell_type": "code",
   "execution_count": null,
   "metadata": {},
   "outputs": [],
   "source": []
  }
 ],
 "metadata": {
  "kernelspec": {
   "display_name": "Python 3",
   "language": "python",
   "name": "python3"
  },
  "language_info": {
   "codemirror_mode": {
    "name": "ipython",
    "version": 3
   },
   "file_extension": ".py",
   "mimetype": "text/x-python",
   "name": "python",
   "nbconvert_exporter": "python",
   "pygments_lexer": "ipython3",
   "version": "3.6.8"
  }
 },
 "nbformat": 4,
 "nbformat_minor": 2
}
