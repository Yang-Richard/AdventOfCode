{
 "cells": [
  {
   "cell_type": "code",
   "execution_count": 2,
   "metadata": {
    "scrolled": true
   },
   "outputs": [
    {
     "name": "stdout",
     "output_type": "stream",
     "text": [
      "397771\n",
      "3126714\n",
      "0:00:00.185\n"
     ]
    }
   ],
   "source": [
    "from datetime import datetime\n",
    "startTime = datetime.now()\n",
    "\n",
    "from collections import defaultdict\n",
    "import math\n",
    "\n",
    "filepath = 'input.txt'\n",
    "\n",
    "recipes = {}\n",
    "with open(filepath, 'r') as f:\n",
    "    for line in f.readlines():\n",
    "        data = line.strip().split('=>')\n",
    "        end = tuple(data[1].split())\n",
    "        start = (' ' + data[0])[:-1]\n",
    "        start = tuple([i[1:].split(' ') for i in start.split(',')]) # time to learn regex..\n",
    "        recipes[end] = start\n",
    "f.close()\n",
    "\n",
    "def calculate_ores(fuel_required):\n",
    "    needed = [[fuel_required, 'FUEL']]\n",
    "    leftovers = defaultdict(int)\n",
    "    ores_required = 0\n",
    "    \n",
    "    while len(needed) != 0:\n",
    "        current_needed = needed[0]\n",
    "\n",
    "        if current_needed[1] in leftovers.keys():\n",
    "            if leftovers[current_needed[1]] >= current_needed[0]:\n",
    "                leftovers[current_needed[1]] -= current_needed[0]\n",
    "                del needed[0]\n",
    "                continue\n",
    "            else:\n",
    "                current_needed[0] -= leftovers[current_needed[1]]\n",
    "                leftovers[current_needed[1]] = 0\n",
    "\n",
    "        for key, val in recipes.items():\n",
    "            if key[1] == current_needed[1]:\n",
    "                \n",
    "                quantity = math.ceil(current_needed[0] / int(key[0]))\n",
    "                leftover = int(key[0])*quantity - current_needed[0]\n",
    "                \n",
    "                if leftover != 0:\n",
    "                    leftovers[key[1]] += leftover\n",
    "\n",
    "                del needed[0]\n",
    "                for item in val:\n",
    "                    if item[1] == 'ORE':\n",
    "                        ores_required += int(item[0]) * quantity\n",
    "                    else:\n",
    "                        needed.append([int(item[0]) * quantity, item[1]])\n",
    "                        \n",
    "    return ores_required\n",
    "        \n",
    "num_fuel = 0\n",
    "jump = 1000000\n",
    "while True:\n",
    "    ore = calculate_ores(num_fuel)\n",
    "    if ore < 1000000000000:\n",
    "        num_fuel += jump\n",
    "    elif jump != 1:\n",
    "        num_fuel -= jump\n",
    "        jump //= 10\n",
    "    else:\n",
    "        break\n",
    "        \n",
    "print(calculate_ores(1))        \n",
    "print(num_fuel-1)\n",
    "print(str(datetime.now() - startTime)[:-3])\n",
    "\n",
    "#397771\n",
    "#3126714\n",
    "#0:00:00.185"
   ]
  },
  {
   "cell_type": "code",
   "execution_count": null,
   "metadata": {},
   "outputs": [],
   "source": []
  }
 ],
 "metadata": {
  "kernelspec": {
   "display_name": "Python 3",
   "language": "python",
   "name": "python3"
  },
  "language_info": {
   "codemirror_mode": {
    "name": "ipython",
    "version": 3
   },
   "file_extension": ".py",
   "mimetype": "text/x-python",
   "name": "python",
   "nbconvert_exporter": "python",
   "pygments_lexer": "ipython3",
   "version": "3.6.8"
  }
 },
 "nbformat": 4,
 "nbformat_minor": 2
}
