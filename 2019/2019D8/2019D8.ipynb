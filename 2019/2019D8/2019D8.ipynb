{
 "cells": [
  {
   "cell_type": "code",
   "execution_count": 50,
   "metadata": {
    "scrolled": false
   },
   "outputs": [
    {
     "name": "stdout",
     "output_type": "stream",
     "text": [
      "2048\n",
      "#..#.####.#...#.##..#..#.\n",
      "#..#.#....#...##..#.#.#..\n",
      "####.###...#.#.#..#.##...\n",
      "#..#.#......#..####.#.#..\n",
      "#..#.#......#..#..#.#.#..\n",
      "#..#.#......#..#..#.#..#.\n",
      "0:00:00.006\n"
     ]
    }
   ],
   "source": [
    "from datetime import datetime\n",
    "startTime = datetime.now()\n",
    "\n",
    "filepath = 'input.txt'\n",
    "        \n",
    "with open(filepath, 'r') as f:\n",
    "    for line in f.readlines():\n",
    "        data = [int(i) for i in line.strip()]\n",
    "f.close()\n",
    "\n",
    "width, height = 25, 6\n",
    "pixel_size = width * height\n",
    "min_zeros_index, min_zeros_val = 0, data[:pixel_size].count(0)\n",
    "layer_final = [-1]  * pixel_size\n",
    "\n",
    "for i in range(len(data)//pixel_size):\n",
    "    layer = data[i*pixel_size:i*pixel_size + pixel_size]\n",
    "    for n, pixel in enumerate(layer):\n",
    "        if layer_final[n] == -1 and pixel != 2:\n",
    "            layer_final[n] = pixel\n",
    "\n",
    "    if layer.count(0) < min_zeros_val:\n",
    "        min_zeros_val = layer.count(0)\n",
    "        min_zeros_index = i\n",
    "    \n",
    "selected_layer = data[min_zeros_index*pixel_size:min_zeros_index*pixel_size + pixel_size]\n",
    "print(selected_layer.count(1) * selected_layer.count(2))\n",
    "\n",
    "for i in range(height):\n",
    "    line = ['#' if i == 1 else '.' for i in layer_final[i*width: i*width + width]]\n",
    "    print(''.join(line))\n",
    "    \n",
    "print(str(datetime.now() - startTime)[:-3])"
   ]
  }
 ],
 "metadata": {
  "kernelspec": {
   "display_name": "Python 3",
   "language": "python",
   "name": "python3"
  },
  "language_info": {
   "codemirror_mode": {
    "name": "ipython",
    "version": 3
   },
   "file_extension": ".py",
   "mimetype": "text/x-python",
   "name": "python",
   "nbconvert_exporter": "python",
   "pygments_lexer": "ipython3",
   "version": "3.6.8"
  }
 },
 "nbformat": 4,
 "nbformat_minor": 2
}
