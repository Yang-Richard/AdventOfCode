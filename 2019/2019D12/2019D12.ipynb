{
 "cells": [
  {
   "cell_type": "code",
   "execution_count": 7,
   "metadata": {
    "scrolled": false
   },
   "outputs": [
    {
     "name": "stdout",
     "output_type": "stream",
     "text": [
      "6735\n",
      "326489627728984\n",
      "0:00:02.502\n"
     ]
    }
   ],
   "source": [
    "from datetime import datetime\n",
    "startTime = datetime.now()\n",
    " \n",
    "from itertools import combinations\n",
    "import copy\n",
    "from functools import reduce\n",
    "import math\n",
    " \n",
    "filepath = 'input.txt'\n",
    "moons = {'x': [], 'y': [], 'z': []}\n",
    "\n",
    "with open(filepath, 'r') as f:\n",
    "    for line in f.readlines():\n",
    "        l = line.strip().split(',')\n",
    "        x, y, z = int(l[0][l[0].index('=')+1:]), int(l[1][l[0].index('=')+1:]), int(l[2][l[0].index('=')+1:-1])\n",
    "        moons['x'].append([x, 0])\n",
    "        moons['y'].append([y, 0])\n",
    "        moons['z'].append([z, 0])\n",
    "\n",
    "def next_timestep(current_axis):\n",
    "    for combo in combinations(current_axis, 2):\n",
    "        if combo[0][0] < combo[1][0]: change = 1     \n",
    "        elif combo[0][0] > combo[1][0]: change = -1\n",
    "        else: change = 0\n",
    "           \n",
    "        combo[0][1] += change\n",
    "        combo[1][1] += change * -1\n",
    "\n",
    "    for moon in current_axis:\n",
    "        moon[0] += moon[1]\n",
    "        \n",
    "    return current_axis\n",
    "\n",
    "initial_state = copy.deepcopy(moons)\n",
    "axis_repeats, p1_data = [], []\n",
    "\n",
    "for axis in 'xyz':\n",
    "    t = 0\n",
    "    while True:\n",
    "        t += 1\n",
    "        moons[axis] = next_timestep(moons[axis])\n",
    "        \n",
    "        if moons[axis] == initial_state[axis]:\n",
    "            axis_repeats.append(t)\n",
    "            break\n",
    "    \n",
    "        if t == 1000:\n",
    "            p1_data.append(copy.deepcopy(moons[axis]))\n",
    "            \n",
    "total_energy = 0\n",
    "for i in zip(*p1_data):\n",
    "    total_energy += sum(abs(p[0]) for p in i) * sum(abs(p[1]) for p in i)\n",
    "    \n",
    "print(total_energy)\n",
    "print(reduce(lambda a, b: ((a*b)//math.gcd(a, b)), axis_repeats))\n",
    "print(str(datetime.now() - startTime)[:-3])\n",
    "\n",
    "# 6735\n",
    "# 326489627728984"
   ]
  },
  {
   "cell_type": "code",
   "execution_count": null,
   "metadata": {},
   "outputs": [],
   "source": []
  }
 ],
 "metadata": {
  "kernelspec": {
   "display_name": "Python 3",
   "language": "python",
   "name": "python3"
  },
  "language_info": {
   "codemirror_mode": {
    "name": "ipython",
    "version": 3
   },
   "file_extension": ".py",
   "mimetype": "text/x-python",
   "name": "python",
   "nbconvert_exporter": "python",
   "pygments_lexer": "ipython3",
   "version": "3.7.2"
  }
 },
 "nbformat": 4,
 "nbformat_minor": 2
}
