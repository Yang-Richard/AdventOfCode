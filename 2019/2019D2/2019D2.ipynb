{
 "cells": [
  {
   "cell_type": "code",
   "execution_count": 3,
   "metadata": {},
   "outputs": [
    {
     "name": "stdout",
     "output_type": "stream",
     "text": [
      "2890696\n",
      "8226\n",
      "0:00:00.071\n"
     ]
    }
   ],
   "source": [
    "from datetime import datetime\n",
    "startTime = datetime.now()\n",
    "\n",
    "filepath = 'input.txt'\n",
    "\n",
    "def run_program(data):\n",
    "    i = 0\n",
    "        \n",
    "    while i < len(data) and data[i] != 99:\n",
    "        if data[i] == 1:\n",
    "            data[data[i+3]] = data[data[i+1]] + data[data[i+2]]\n",
    "        elif data[i] == 2:\n",
    "            data[data[i+3]] = data[data[i+1]] * data[data[i+2]]\n",
    "        else:\n",
    "            print('sad elf.')\n",
    "            \n",
    "        i += 4\n",
    "        \n",
    "    return data[0]\n",
    "\n",
    "def p1(data):\n",
    "    data[1] = 12\n",
    "    data[2] = 2\n",
    "    return run_program(data[:])\n",
    "    \n",
    "def p2(data):\n",
    "    p2_check = 19690720\n",
    "    for noun in range(99):\n",
    "        for verb in range(99):\n",
    "            data[1] = noun\n",
    "            data[2] = verb\n",
    "            if run_program(data[:]) == p2_check:\n",
    "                return 100 * noun + verb\n",
    "        \n",
    "if __name__ == '__main__':\n",
    "    data = []\n",
    "    with open(filepath, 'r') as f:\n",
    "        for line in f.readlines():\n",
    "            data = [int(i) for i in line.strip().split(',')]\n",
    "    f.close()\n",
    "    \n",
    "    print(p1(data))\n",
    "    print(p2(data))\n",
    "    print(str(datetime.now() - startTime)[:-3])\n",
    "    \n",
    "    '''\n",
    "    2890696\n",
    "    8226\n",
    "    0:00:00.071\n",
    "    '''"
   ]
  },
  {
   "cell_type": "code",
   "execution_count": null,
   "metadata": {},
   "outputs": [],
   "source": []
  }
 ],
 "metadata": {
  "kernelspec": {
   "display_name": "Python 3",
   "language": "python",
   "name": "python3"
  },
  "language_info": {
   "codemirror_mode": {
    "name": "ipython",
    "version": 3
   },
   "file_extension": ".py",
   "mimetype": "text/x-python",
   "name": "python",
   "nbconvert_exporter": "python",
   "pygments_lexer": "ipython3",
   "version": "3.6.8"
  }
 },
 "nbformat": 4,
 "nbformat_minor": 2
}
