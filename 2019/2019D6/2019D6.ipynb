{
 "cells": [
  {
   "cell_type": "code",
   "execution_count": 113,
   "metadata": {
    "scrolled": false
   },
   "outputs": [
    {
     "name": "stdout",
     "output_type": "stream",
     "text": [
      "(308790, 472)\n",
      "0:00:00.251\n"
     ]
    }
   ],
   "source": [
    "from datetime import datetime\n",
    "startTime = datetime.now()\n",
    "\n",
    "filepath = 'input.txt'\n",
    "\n",
    "class Planet():\n",
    "    def __init__(self, name):\n",
    "        self.name = name\n",
    "        self.children = []\n",
    "        self.immediate_children = []\n",
    "        self.parent = None\n",
    "    \n",
    "    def add_children(self, planet_name):\n",
    "        self.children.append(planet_name)\n",
    "        \n",
    "    def add_immediate_children(self, planet_name):\n",
    "        self.immediate_children.append(planet_name)\n",
    "        \n",
    "def run_program(data):\n",
    "    planets = {}\n",
    "    \n",
    "    for i in data:\n",
    "        a, b = i.split(')')\n",
    "        if a not in planets:\n",
    "            planets[a] = Planet(a)  \n",
    "        if b not in planets:\n",
    "            planets[b] = Planet(b)\n",
    "        \n",
    "        planets[b].parent = a\n",
    "        for planet in planets.values():\n",
    "            if a in planet.immediate_children:\n",
    "                planets[a].parent = planet.name\n",
    "                break\n",
    "                \n",
    "        planets[a].add_immediate_children(b)\n",
    "        for child in planets[b].children + [b]:\n",
    "            planet = planets[b]\n",
    "            while planet.parent != None:\n",
    "                planets[planet.parent].add_children(child)\n",
    "                planet = planets[planet.parent]\n",
    "    \n",
    "    orbits = 0\n",
    "    for planet in planets.values():\n",
    "        while planet.parent != None:\n",
    "            orbits += 1\n",
    "            planet = planets[planet.parent]\n",
    "    \n",
    "    start, end = 'YOU', 'SAN'\n",
    "    orbital_transfers = 0\n",
    "    end_planet = planets[end]\n",
    "    planet = planets[planets[start].parent]\n",
    "    \n",
    "    while end_planet.name not in planet.children:\n",
    "        planet = planets[planet.parent]\n",
    "        orbital_transfers += 1\n",
    "    \n",
    "    while end_planet.name not in planet.immediate_children:\n",
    "        for child in planet.immediate_children:\n",
    "            if end_planet.name in planets[child].children:\n",
    "                planet = planets[child]\n",
    "                orbital_transfers += 1\n",
    "                break\n",
    "                \n",
    "    return orbits, orbital_transfers\n",
    "    \n",
    "data = []\n",
    "with open(filepath, 'r') as f:\n",
    "    for line in f.readlines():\n",
    "        data.append(line.strip())\n",
    "f.close()\n",
    "\n",
    "print(run_program(data[:]))\n",
    "print(str(datetime.now() - startTime)[:-3])"
   ]
  },
  {
   "cell_type": "code",
   "execution_count": null,
   "metadata": {},
   "outputs": [],
   "source": []
  }
 ],
 "metadata": {
  "kernelspec": {
   "display_name": "Python 3",
   "language": "python",
   "name": "python3"
  },
  "language_info": {
   "codemirror_mode": {
    "name": "ipython",
    "version": 3
   },
   "file_extension": ".py",
   "mimetype": "text/x-python",
   "name": "python",
   "nbconvert_exporter": "python",
   "pygments_lexer": "ipython3",
   "version": "3.6.8"
  }
 },
 "nbformat": 4,
 "nbformat_minor": 2
}
