{
 "cells": [
  {
   "cell_type": "code",
   "execution_count": 2,
   "metadata": {
    "scrolled": false
   },
   "outputs": [
    {
     "name": "stdout",
     "output_type": "stream",
     "text": [
      "3429606717\n",
      "33679\n",
      "0:00:01.568\n"
     ]
    }
   ],
   "source": [
    "from datetime import datetime\n",
    "startTime = datetime.now()\n",
    "\n",
    "filepath = 'input.txt'\n",
    "\n",
    "INSTRUCTION_JUMPS = {'01': 4, '02': 4, '03': 2, '04': 2, '05': 3, '06': 3, '07': 4, '08': 4, '09': 2}\n",
    "MODES = {'0': lambda i, n, data, relative_base: data[data[i+n]], \n",
    "         '1': lambda i, n, data, relative_base: data[i+n],\n",
    "         '2': lambda i, n, data, relative_base: data[data[i+n] + relative_base]}\n",
    "\n",
    "def run_program(data, input_vals):\n",
    "    #data = data + [0] * 1000\n",
    "    i, num_inputs = 0, 0\n",
    "    relative_base = 0\n",
    "    \n",
    "    while data[i] != 99:\n",
    "        opcode = str(data[i])[-2:].zfill(2)\n",
    "        mode = str(data[i])[:-2].zfill(3)\n",
    "        \n",
    "        if opcode in ('01', '02', '04', '05', '06', '07', '08', '09'):\n",
    "            p1 = MODES[mode[2]](i, 1, data, relative_base)                 \n",
    "        if opcode in ('01', '02', '05', '06', '07', '08'):\n",
    "            p2 = MODES[mode[1]](i, 2, data, relative_base)\n",
    "            \n",
    "        if opcode in ['03']:\n",
    "            if mode[2] == '2':\n",
    "                p3 = data[i+1] + relative_base\n",
    "            else:\n",
    "                p3 = data[i+1]\n",
    "            data = data + [0] * (p3+1-len(data))                  \n",
    "            \n",
    "        if opcode in ['01', '02', '07', '08']:\n",
    "            if mode[0] == '2':\n",
    "                p3 = data[i+3] + relative_base\n",
    "            else:\n",
    "                p3 = data[i+3]\n",
    "            data = data + [0] * (p3+1-len(data))\n",
    "\n",
    "        if opcode == '01':\n",
    "            data[p3] = p1 + p2\n",
    "        elif opcode == '02':\n",
    "            data[p3] = p1 * p2\n",
    "        elif opcode == '03':\n",
    "            data[p3] = input_vals[num_inputs]\n",
    "            num_inputs += 1\n",
    "        elif opcode == '04':\n",
    "            return p1 \n",
    "        elif opcode == '05' and p1 != 0:\n",
    "            i = p2\n",
    "            continue\n",
    "        elif opcode == '06' and p1 == 0:\n",
    "            i = p2\n",
    "            continue \n",
    "        elif opcode == '07':\n",
    "            data[p3] = int(p1 < p2) \n",
    "        elif opcode == '08':\n",
    "            data[p3] = int(p1 == p2)\n",
    "        elif opcode == '09':\n",
    "            relative_base += p1\n",
    "        else:\n",
    "            pass\n",
    "            \n",
    "        i += INSTRUCTION_JUMPS[opcode]\n",
    "        \n",
    "    return None\n",
    "        \n",
    "with open(filepath, 'r') as f:\n",
    "    for line in f.readlines():\n",
    "        data = [int(i) for i in line.strip().split(',')]\n",
    "f.close()\n",
    "\n",
    "print(run_program(data[:], [1]))\n",
    "print(run_program(data[:], [2]))\n",
    "print(str(datetime.now() - startTime)[:-3])\n",
    "\n",
    "# 3429606717\n",
    "# 33679"
   ]
  },
  {
   "cell_type": "code",
   "execution_count": null,
   "metadata": {},
   "outputs": [],
   "source": []
  }
 ],
 "metadata": {
  "kernelspec": {
   "display_name": "Python 3",
   "language": "python",
   "name": "python3"
  },
  "language_info": {
   "codemirror_mode": {
    "name": "ipython",
    "version": 3
   },
   "file_extension": ".py",
   "mimetype": "text/x-python",
   "name": "python",
   "nbconvert_exporter": "python",
   "pygments_lexer": "ipython3",
   "version": "3.7.2"
  }
 },
 "nbformat": 4,
 "nbformat_minor": 2
}
