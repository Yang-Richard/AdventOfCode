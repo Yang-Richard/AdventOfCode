{
 "cells": [
  {
   "cell_type": "code",
   "execution_count": 62,
   "metadata": {},
   "outputs": [
    {
     "name": "stdout",
     "output_type": "stream",
     "text": [
      "6731945\n",
      "9571668\n",
      "0:00:00.001\n"
     ]
    }
   ],
   "source": [
    "from datetime import datetime\n",
    "startTime = datetime.now()\n",
    "\n",
    "filepath = 'input.txt'\n",
    "\n",
    "INSTRUCTION_JUMPS = {'01': 4, '02': 4, '03': 2, '04': 2, '05': 3, '06': 3, '07': 4, '08': 4}\n",
    "MODES = {'0': lambda i, n, data: data[data[i+n]], '1': lambda i, n, data: data[i+n]}\n",
    "\n",
    "def run_program(data, val):\n",
    "    i = 0\n",
    "    while data[i] != 99:\n",
    "        opcode = str(data[i])[-2:].zfill(2)\n",
    "        mode = str(data[i])[:-2].zfill(3)\n",
    "        \n",
    "        if opcode in ['01', '02', '04', '05', '06', '07', '08']:\n",
    "            p1 = MODES[mode[2]](i, 1, data)                 \n",
    "        if opcode in ['01', '02', '05', '06', '07', '08']:\n",
    "            p2 = MODES[mode[1]](i, 2, data)                                     \n",
    "        \n",
    "        if opcode == '01':\n",
    "            data[data[i+3]] = p1 + p2\n",
    "        elif opcode == '02':\n",
    "            data[data[i+3]] = p1 * p2\n",
    "        elif opcode == '03':\n",
    "            data[data[i+1]] = val\n",
    "        elif opcode == '04' and p1 != 0:\n",
    "            return p1\n",
    "        elif opcode == '05' and p1 != 0:\n",
    "            i = p2\n",
    "            continue\n",
    "        elif opcode == '06' and p1 == 0:\n",
    "            i = p2\n",
    "            continue \n",
    "        elif opcode == '07':\n",
    "            data[data[i+3]] = int(p1 < p2) \n",
    "        elif opcode == '08':\n",
    "            data[data[i+3]] = int(p1 == p2)\n",
    "        else:\n",
    "            pass\n",
    "            \n",
    "        i += INSTRUCTION_JUMPS[opcode]\n",
    "        \n",
    "data = []\n",
    "with open(filepath, 'r') as f:\n",
    "    for line in f.readlines():\n",
    "        data = [int(i) for i in line.strip().split(',')]\n",
    "f.close()\n",
    "\n",
    "print(run_program(data[:], 1))\n",
    "print(run_program(data[:], 5))\n",
    "print(str(datetime.now() - startTime)[:-3])"
   ]
  },
  {
   "cell_type": "code",
   "execution_count": null,
   "metadata": {},
   "outputs": [],
   "source": []
  }
 ],
 "metadata": {
  "kernelspec": {
   "display_name": "Python 3",
   "language": "python",
   "name": "python3"
  },
  "language_info": {
   "codemirror_mode": {
    "name": "ipython",
    "version": 3
   },
   "file_extension": ".py",
   "mimetype": "text/x-python",
   "name": "python",
   "nbconvert_exporter": "python",
   "pygments_lexer": "ipython3",
   "version": "3.6.8"
  }
 },
 "nbformat": 4,
 "nbformat_minor": 2
}
