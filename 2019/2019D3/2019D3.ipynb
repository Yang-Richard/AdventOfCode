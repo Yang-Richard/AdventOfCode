{
 "cells": [
  {
   "cell_type": "code",
   "execution_count": 8,
   "metadata": {},
   "outputs": [
    {
     "name": "stdout",
     "output_type": "stream",
     "text": [
      "(1017, 11432)\n",
      "0:00:00.355\n"
     ]
    }
   ],
   "source": [
    "from datetime import datetime\n",
    "startTime = datetime.now()\n",
    "\n",
    "filepath = 'input.txt'\n",
    "DIRECTIONS = {'U': (0, 1), 'D': (0, -1), 'L': (-1, 0), 'R':(1, 0)}\n",
    "\n",
    "def create_path(path):\n",
    "    path_positions = {}\n",
    "    cur_x, cur_y, path_steps = 0, 0, 0\n",
    "    for movement in path.split(','):\n",
    "        d, l = movement[:1], int(movement[1:])\n",
    "        for _ in range(l):\n",
    "            path_steps += 1\n",
    "            cur_x, cur_y = cur_x + DIRECTIONS[d][0], cur_y + DIRECTIONS[d][1]\n",
    "            if (cur_x, cur_y) not in path_positions.keys():\n",
    "                path_positions[cur_x, cur_y] = path_steps\n",
    "   \n",
    "    return path_positions\n",
    "\n",
    "def find_intersections(path1, path2):\n",
    "    p1 = create_path(path1)\n",
    "    p2 = create_path(path2)\n",
    "    intersections = p1.keys() & p2.keys()\n",
    "   \n",
    "    closest_intersection = min(abs(a) + abs(b) for a, b in intersections)\n",
    "    lowest_steps = min(p1[pos] + p2[pos] for pos in intersections)\n",
    "   \n",
    "    return closest_intersection, lowest_steps\n",
    "   \n",
    "with open(filepath, 'r') as f:\n",
    "    data = f.readlines()\n",
    "\n",
    "print(find_intersections(*data))\n",
    "print(str(datetime.now() - startTime)[:-3])"
   ]
  },
  {
   "cell_type": "code",
   "execution_count": 3,
   "metadata": {},
   "outputs": [
    {
     "name": "stdout",
     "output_type": "stream",
     "text": [
      "(1017, 11432)\n",
      "0:00:00.267\n"
     ]
    }
   ],
   "source": [
    "from datetime import datetime\n",
    "startTime = datetime.now()\n",
    "\n",
    "filepath = 'input.txt'\n",
    "DIRECTIONS = {'U': (0, 1), 'D': (0, -1), 'L': (-1, 0), 'R':(1, 0)}\n",
    "\n",
    "def find_intersections(path1, path2):\n",
    "    path1_positions = dict()\n",
    "    cur_x, cur_y = 0, 0\n",
    "    path1_steps = 0\n",
    "    \n",
    "    for movement in path1:\n",
    "        d, l = movement[:1], int(movement[1:])\n",
    "        for _ in range(1, l+1):\n",
    "            path1_steps += 1\n",
    "            cur_x, cur_y = cur_x + DIRECTIONS[d][0], cur_y + DIRECTIONS[d][1]\n",
    "            if (cur_x, cur_y) not in path1_positions.keys():\n",
    "                path1_positions[cur_x, cur_y] = path1_steps\n",
    "            \n",
    "    closest_manhattan, lowest_steps = float('inf'), float('inf')\n",
    "    cur_x, cur_y = 0, 0\n",
    "    path2_steps = 0\n",
    "    \n",
    "    for movement in path2:\n",
    "        d, l = movement[:1], int(movement[1:])\n",
    "        for _ in range(1, l+1):\n",
    "            path2_steps += 1\n",
    "            cur_x, cur_y = cur_x + DIRECTIONS[d][0], cur_y + DIRECTIONS[d][1]\n",
    "            \n",
    "            if (cur_x, cur_y) in path1_positions.keys(): # intersection\n",
    "                manhattan_distance = abs(cur_x) + abs(cur_y)\n",
    "                steps = path2_steps + path1_positions[(cur_x, cur_y)]\n",
    "                \n",
    "                if manhattan_distance < closest_manhattan:\n",
    "                    closest_manhattan = manhattan_distance\n",
    "                    \n",
    "                if steps < lowest_steps:\n",
    "                    lowest_steps = steps\n",
    "    \n",
    "    return closest_manhattan, lowest_steps\n",
    "        \n",
    "if __name__ == '__main__':\n",
    "    data = []\n",
    "    with open(filepath, 'r') as f:\n",
    "        for line in f.readlines():\n",
    "            data.append(line.strip().split(','))\n",
    "    f.close()\n",
    "    \n",
    "    print(find_intersections(data[0], data[1]))\n",
    "    print(str(datetime.now() - startTime)[:-3])\n",
    "    \n",
    "    '''\n",
    "    (1017, 11432)\n",
    "    0:00:00.267\n",
    "    '''"
   ]
  },
  {
   "cell_type": "code",
   "execution_count": null,
   "metadata": {},
   "outputs": [],
   "source": []
  }
 ],
 "metadata": {
  "kernelspec": {
   "display_name": "Python 3",
   "language": "python",
   "name": "python3"
  },
  "language_info": {
   "codemirror_mode": {
    "name": "ipython",
    "version": 3
   },
   "file_extension": ".py",
   "mimetype": "text/x-python",
   "name": "python",
   "nbconvert_exporter": "python",
   "pygments_lexer": "ipython3",
   "version": "3.7.2"
  }
 },
 "nbformat": 4,
 "nbformat_minor": 2
}
