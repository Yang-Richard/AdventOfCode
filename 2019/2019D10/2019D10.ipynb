{
 "cells": [
  {
   "cell_type": "code",
   "execution_count": 6,
   "metadata": {},
   "outputs": [
    {
     "name": "stdout",
     "output_type": "stream",
     "text": [
      "303 408\n",
      "0:00:00.225\n"
     ]
    }
   ],
   "source": [
    "from datetime import datetime\n",
    "startTime = datetime.now()\n",
    "\n",
    "import math\n",
    "from collections import defaultdict\n",
    "\n",
    "filepath = 'input.txt'\n",
    " \n",
    "asteroids = []\n",
    "with open(filepath, 'r') as f:\n",
    "    for y, line in enumerate(f.readlines()):\n",
    "        for x, v in enumerate(line.strip()):\n",
    "            if v == '#':\n",
    "                asteroids.append([x, y])\n",
    "\n",
    "max_in_view = 0\n",
    "for asteroid in asteroids:\n",
    "    slopes = defaultdict(list)\n",
    "    for other in asteroids:\n",
    "        if other != asteroid:\n",
    "            dx = other[0] -  asteroid[0]\n",
    "            dy = other[1] -  asteroid[1]\n",
    "            slopes[math.atan2(dx, dy)].append(tuple(other + [abs(dx)+abs(dy)]))\n",
    "\n",
    "    if max_in_view < len(slopes):\n",
    "        max_in_view = len(slopes)\n",
    "        max_slopes = slopes\n",
    "\n",
    "keys = sorted(max_slopes.keys(), reverse = True)\n",
    "i, asteroids_deleted = 0, 0\n",
    "\n",
    "while True:\n",
    "    if len(max_slopes[keys[i%len(keys)]]) != 0:\n",
    "        if asteroids_deleted + 1 == 200:\n",
    "            last_vaporized = max_slopes[keys[i%len(keys)]][0][0] * 100 + max_slopes[keys[i%len(keys)]][0][1]\n",
    "            break\n",
    "        max_slopes[keys[i%len(keys)]].remove(sorted(max_slopes[keys[i%len(keys)]], key = lambda x: x[2])[0])\n",
    "        asteroids_deleted += 1\n",
    "    i += 1\n",
    "    \n",
    "print(max_view, last_vaporized)\n",
    "print(str(datetime.now() - startTime)[:-3])\n"
   ]
  },
  {
   "cell_type": "code",
   "execution_count": null,
   "metadata": {},
   "outputs": [],
   "source": []
  }
 ],
 "metadata": {
  "kernelspec": {
   "display_name": "Python 3",
   "language": "python",
   "name": "python3"
  },
  "language_info": {
   "codemirror_mode": {
    "name": "ipython",
    "version": 3
   },
   "file_extension": ".py",
   "mimetype": "text/x-python",
   "name": "python",
   "nbconvert_exporter": "python",
   "pygments_lexer": "ipython3",
   "version": "3.7.2"
  }
 },
 "nbformat": 4,
 "nbformat_minor": 2
}
