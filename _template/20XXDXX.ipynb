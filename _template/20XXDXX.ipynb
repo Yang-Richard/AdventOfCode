{
 "cells": [
  {
   "cell_type": "code",
   "execution_count": 1,
   "metadata": {
    "scrolled": false
   },
   "outputs": [
    {
     "name": "stdout",
     "output_type": "stream",
     "text": [
      "0:00:00.000\n"
     ]
    }
   ],
   "source": [
    "from datetime import datetime\n",
    "startTime = datetime.now()\n",
    "\n",
    "import re\n",
    "from collections import deque, Counter, defaultdict\n",
    "from itertools import permutations, combinations, count, product\n",
    "from operator import *\n",
    "\n",
    "filepath = 'input.txt'\n",
    "filepath = 'test.txt'\n",
    "\n",
    "def p1():\n",
    "    return 1\n",
    "\n",
    "def p2():\n",
    "    return 1\n",
    "\n",
    "def main():\n",
    "    r1, r2 = 0, 0\n",
    "    data = []\n",
    "    \n",
    "    with open(filepath, 'r') as f:\n",
    "        for line in f.readlines():\n",
    "            data.append(line)\n",
    "    f.close()\n",
    "                \n",
    "    return r1, r2\n",
    "        \n",
    "if __name__ == '__main__':\n",
    "    main()\n",
    "    print(str(datetime.now() - startTime)[:-3])\n",
    "    '''\n",
    "\n",
    "\n",
    "    '''"
   ]
  },
  {
   "cell_type": "code",
   "execution_count": null,
   "metadata": {},
   "outputs": [],
   "source": []
  }
 ],
 "metadata": {
  "kernelspec": {
   "display_name": "Python 3",
   "language": "python",
   "name": "python3"
  },
  "language_info": {
   "codemirror_mode": {
    "name": "ipython",
    "version": 3
   },
   "file_extension": ".py",
   "mimetype": "text/x-python",
   "name": "python",
   "nbconvert_exporter": "python",
   "pygments_lexer": "ipython3",
   "version": "3.7.2"
  }
 },
 "nbformat": 4,
 "nbformat_minor": 2
}
