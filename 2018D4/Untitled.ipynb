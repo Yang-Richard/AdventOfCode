{
 "cells": [
  {
   "cell_type": "code",
   "execution_count": 11,
   "metadata": {},
   "outputs": [
    {
     "name": "stdout",
     "output_type": "stream",
     "text": [
      "0\n",
      "1\n",
      "2\n",
      "3\n",
      "4\n",
      "True\n",
      "0\n"
     ]
    }
   ],
   "source": [
    "for i in range(5):\n",
    "    print(i)\n",
    "    \n",
    "print(1 <= 1)\n",
    "print(2^2)"
   ]
  },
  {
   "cell_type": "code",
   "execution_count": 65,
   "metadata": {
    "scrolled": true
   },
   "outputs": [
    {
     "name": "stdout",
     "output_type": "stream",
     "text": [
      "y\n",
      "y\n",
      "y\n",
      "y\n",
      "y\n",
      "y\n",
      "y\n",
      "y\n",
      "y\n",
      "y\n",
      "['[1518-06-26 23:58] Guard #3023 begins shift\\n'\n",
      " '[1518-06-28 00:00] Guard #727 begins shift\\n'\n",
      " '[1518-06-28 00:14] falls asleep\\n'\n",
      " '[1518-06-28 23:56] Guard #2017 begins shift\\n'\n",
      " '[1518-06-29 00:06] falls asleep\\n' '[1518-06-29 00:44] wakes up\\n'\n",
      " '[1518-06-29 23:57] Guard #2371 begins shift\\n'\n",
      " '[1518-06-30 00:16] falls asleep\\n' '[1518-06-30 00:26] wakes up\\n'\n",
      " '[1518-06-30 00:53] falls asleep\\n' '[1518-06-30 00:58] wakes up\\n'\n",
      " '[1518-06-30 23:59] Guard #71 begins shift\\n'\n",
      " '[1518-07-01 00:46] falls asleep\\n' '[1518-07-01 00:59] wakes up\\n'\n",
      " '[1518-07-02 00:40] falls asleep\\n' '[1518-07-02 00:43] wakes up\\n'\n",
      " '[1518-07-02 00:47] falls asleep\\n' '[1518-07-02 00:55] wakes up\\n'\n",
      " '[1518-07-02 23:53] Guard #3023 begins shift\\n'\n",
      " '[1518-07-03 00:03] falls asleep\\n']\n",
      "(0, 0)\n"
     ]
    }
   ],
   "source": [
    "#!/usr/bin/python\n",
    "\n",
    "filepath = 'input.txt'\n",
    "import numpy as np\n",
    "import math\n",
    "\n",
    "def oneCameFirst(one, two):\n",
    "    sumOne = int(one[1:5])*10**8 + int(one[6:8])*10**6 + int(one[9:11])*10**4 + int(one[12:14])*10**2 + int(one[15:17])\n",
    "    sumTwo = int(two[1:5])*10**8 + int(two[6:8])*10**6 + int(two[9:11])*10**4 + int(two[12:14])*10**2 + int(two[15:17])\n",
    "    if sumOne < sumTwo:\n",
    "        return True\n",
    "    else:\n",
    "        return False\n",
    "\n",
    "def main():\n",
    "    nums = []\n",
    "    result1 , result2 = 0, 0\n",
    "    with open(filepath) as f:\n",
    "        for line in f.readlines():\n",
    "            nums.append(line)\n",
    "        f.close()\n",
    "        \n",
    "    # a crappy implementation of merge sort\n",
    "    #print(len)\n",
    "    \n",
    "    merge = [[0 for x in range(2)] for y in range(round(len(nums)/2))] \n",
    "    #print(len(merge))\n",
    "    #print(merge)\n",
    "    for i, timestamp in enumerate(nums):\n",
    "        #if i % 2 == 0:\n",
    "        #print(i)\n",
    "        #        even = 1     odd = 1\n",
    "        merge[int(i/2)-1][i%2] = timestamp\n",
    "    #print(merge)    \n",
    "    #for i, timestamp in enumerate(nums):\n",
    "    \n",
    "    #print(oneCameFirst(merge[0][1], merge[0][0]))\n",
    "    \n",
    "    #print(nums)\n",
    "    #array = np.asarray(nums)\n",
    "    #print(len(array))\n",
    "    #print('\\n')\n",
    "    #np.insert(array, 2, 'asdadawdas')\n",
    "    ##print(array)\n",
    "    a = nums\n",
    "    currentCompare = 2 \n",
    "    while(currentCompare <= len(a)): #each layer\n",
    "        #print('looped large')\n",
    "        size = int(currentCompare/2)\n",
    "        # 2: 0, 2, 4 \n",
    "        #    1, 3, 5\n",
    "        # 4: 01, 45, 89\n",
    "        #    23, 67, 1011\n",
    "        for num in range(math.ceil(len(a)/currentCompare)): # num is the current grouping in each round\n",
    "            #print('looped')\n",
    "            #first = a[num*currentCompare:num*currentCompare+currentCompare-1]\n",
    "            first = a[num*currentCompare:num*currentCompare+size]\n",
    "            if len(a)-num*currentCompare < currentCompare:\n",
    "                second = a[num*currentCompare+size:]\n",
    "                print('y')\n",
    "            else:\n",
    "                second = a[num*currentCompare+size:num*currentCompare+size*2]\n",
    "            checked = [len(first), len(second)]\n",
    "            #print(first,second)\n",
    "            #print(second)\n",
    "            for i in range(len(first) + len(second)):\n",
    "                #print(checked)\n",
    "                #print(len(first), len(first)-checked[0])\n",
    "                #print(len(second), len(second)-checked[1])  \n",
    "                \n",
    "                #if len(second) == 0 and i == currentCompare - 1:\n",
    "                #    pass\n",
    "                if size-checked[0] == size:\n",
    "                    a[num*currentCompare+i] = second[len(second)-checked[1]]\n",
    "                    checked[1] = checked[1]-1  \n",
    "                elif size-checked[1] == size:\n",
    "                    a[num*currentCompare+i] = first[len(first)-checked[0]]\n",
    "                    checked[0] = checked[0]-1  \n",
    "                elif oneCameFirst(first[len(first)-checked[0]], second[len(second)-checked[1]]):\n",
    "                    a[num*currentCompare+i] = first[len(first)-checked[0]]\n",
    "                    checked[0] = checked[0]-1\n",
    "                else:\n",
    "                    a[num*currentCompare+i] = second[len(second)-checked[1]]\n",
    "                    checked[1] = checked[1]-1\n",
    "        currentCompare = currentCompare*2\n",
    "    \n",
    "    arr = np.array(a)\n",
    "    print(arr[500:520])\n",
    "    \n",
    "    '''\n",
    "    print(nums[0])\n",
    "    print(nums[0][1:5])\n",
    "    print(nums[0][6:8])\n",
    "    print(nums[0][9:11])\n",
    "    \n",
    "    print(nums[0][12:14])\n",
    "    print(nums[0][15:17])\n",
    "    print(nums[0][19:])\n",
    "    \n",
    "        [1518-11-01 00:25] wakes up]\n",
    "    \n",
    "        \n",
    "    print(one)\n",
    "    print(one[1:5])\n",
    "    print(one[6:8])\n",
    "    print(one[9:11])\n",
    "    \n",
    "    print(one[12:14])\n",
    "    print(one[15:17])\n",
    "    print(one[19:])\n",
    "    \n",
    "    1518\n",
    "11\n",
    "01\n",
    "00\n",
    "25\n",
    "wakes up\n",
    "    '''\n",
    "        \n",
    "    \n",
    "    #[1518-06-03 00:24] falls asleep\n",
    "    \n",
    "    #print(nums)\n",
    "\n",
    "    return result1, result2\n",
    "\n",
    "if __name__ == '__main__':\n",
    "    print(main())\n"
   ]
  },
  {
   "cell_type": "code",
   "execution_count": 42,
   "metadata": {},
   "outputs": [
    {
     "name": "stdout",
     "output_type": "stream",
     "text": [
      "[[1 1]\n",
      " [2 2]\n",
      " [3 3]]\n",
      "\n",
      "\n",
      "[[1 1]\n",
      " [2 2]\n",
      " [3 3]]\n"
     ]
    }
   ],
   "source": [
    "a = np.array([[1, 1], [2, 2], [3, 3]])\n",
    "print(a)\n",
    "print('\\n')\n",
    "np.insert(a, 1, 5)\n",
    "print(a)"
   ]
  },
  {
   "cell_type": "code",
   "execution_count": 20,
   "metadata": {},
   "outputs": [
    {
     "name": "stdout",
     "output_type": "stream",
     "text": [
      "[0, 0]\n",
      "2\n",
      "2\n"
     ]
    }
   ],
   "source": [
    "print([0]*2)\n",
    "a = [0, 1, 1, 0]\n",
    "print(sum(a))\n",
    "\n",
    "t = '1231'\n",
    "print(t[1:2])\n"
   ]
  },
  {
   "cell_type": "code",
   "execution_count": 55,
   "metadata": {},
   "outputs": [
    {
     "name": "stdout",
     "output_type": "stream",
     "text": [
      "0\n"
     ]
    }
   ],
   "source": [
    "for i in range(1):\n",
    "    print(i)"
   ]
  },
  {
   "cell_type": "code",
   "execution_count": null,
   "metadata": {},
   "outputs": [],
   "source": []
  }
 ],
 "metadata": {
  "kernelspec": {
   "display_name": "Python 3",
   "language": "python",
   "name": "python3"
  },
  "language_info": {
   "codemirror_mode": {
    "name": "ipython",
    "version": 3
   },
   "file_extension": ".py",
   "mimetype": "text/x-python",
   "name": "python",
   "nbconvert_exporter": "python",
   "pygments_lexer": "ipython3",
   "version": "3.7.1"
  }
 },
 "nbformat": 4,
 "nbformat_minor": 2
}
