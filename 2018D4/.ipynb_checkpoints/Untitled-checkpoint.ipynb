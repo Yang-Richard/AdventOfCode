{
 "cells": [
  {
   "cell_type": "code",
   "execution_count": 82,
   "metadata": {},
   "outputs": [
    {
     "ename": "IndentationError",
     "evalue": "unindent does not match any outer indentation level (<tokenize>, line 53)",
     "output_type": "error",
     "traceback": [
      "\u001b[0;36m  File \u001b[0;32m\"<tokenize>\"\u001b[0;36m, line \u001b[0;32m53\u001b[0m\n\u001b[0;31m    for i in range(currentCompare/2): # i is the current\u001b[0m\n\u001b[0m    ^\u001b[0m\n\u001b[0;31mIndentationError\u001b[0m\u001b[0;31m:\u001b[0m unindent does not match any outer indentation level\n"
     ]
    }
   ],
   "source": [
    "#!/usr/bin/python\n",
    "\n",
    "filepath = 'input.txt'\n",
    "import numpy as np\n",
    "import math\n",
    "\n",
    "def oneCameFirst(one, two):\n",
    "    sumOne = int(one[1:5])*10**8 + int(one[6:8])*10**6 + int(one[9:11])*10**4 + int(one[12:14])*10**2 + int(one[15:17])\n",
    "    sumTwo = int(two[1:5])*10**8 + int(two[6:8])*10**6 + int(two[9:11])*10**4 + int(two[12:14])*10**2 + int(two[15:17])\n",
    "    if sumOne < sumTwo:\n",
    "        return True\n",
    "    else:\n",
    "        return False\n",
    "\n",
    "def main():\n",
    "    nums = []\n",
    "    result1 , result2 = 0, 0\n",
    "    with open(filepath) as f:\n",
    "        for line in f.readlines():\n",
    "            nums.append(line)\n",
    "        f.close()\n",
    "        \n",
    "    # a crappy implementation of merge sort\n",
    "    #print(len)\n",
    "    \n",
    "    merge = [[0 for x in range(2)] for y in range(round(len(nums)/2))] \n",
    "    #print(len(merge))\n",
    "    print(merge)\n",
    "    for i, timestamp in enumerate(nums):\n",
    "        #if i % 2 == 0:\n",
    "        #print(i)\n",
    "        #        even = 1     odd = 1\n",
    "        merge[int(i/2)-1][i%2] = timestamp\n",
    "    #print(merge)    \n",
    "    #for i, timestamp in enumerate(nums):\n",
    "    \n",
    "    #print(oneCameFirst(merge[0][1], merge[0][0]))\n",
    "    \n",
    "    #print(nums)\n",
    "    #array = np.asarray(nums)\n",
    "    #print(len(array))\n",
    "    #print('\\n')\n",
    "    #np.insert(array, 2, 'asdadawdas')\n",
    "    ##print(array)\n",
    "    a = nums\n",
    "    while(currentCompare < len(a)): #each layer\n",
    "        currentCompare = 2 \n",
    "        # 2: 01, 23, 45\n",
    "        # 4: 03, 47, 811\n",
    "        for num in math.ceil(len(a)/currentCompare): # num is the current grouping in each round\n",
    "                first = a[num*currentCompare:num*currentCompare+1] 0\n",
    "                if \n",
    "                checked\n",
    "                checked = [currentCompare/2-1, currentCompare/2]\n",
    "            for i in range(currentCompare/2): # i is the current \n",
    "\n",
    "                while(sum(checked) != 0):\n",
    "                    for j in range(curentCompare):\n",
    "                        if oneCameFirst(,):\n",
    "                \n",
    "                \n",
    "                    for j in range(len(checked))\n",
    "                        if oneCameFirst(a[num*i], a[num*i+j]):\n",
    "                            pass\n",
    "                        else:\n",
    "                            buffer = a[num*i]\n",
    "                            a[num*i] = a[num*i+j]\n",
    "                            \n",
    "        \n",
    "        currentCompare = currentCompare*2\n",
    "    \n",
    "    '''\n",
    "    print(nums[0])\n",
    "    print(nums[0][1:5])\n",
    "    print(nums[0][6:8])\n",
    "    print(nums[0][9:11])\n",
    "    \n",
    "    print(nums[0][12:14])\n",
    "    print(nums[0][15:17])\n",
    "    print(nums[0][19:])\n",
    "    \n",
    "        [1518-11-01 00:25] wakes up]\n",
    "    \n",
    "        \n",
    "    print(one)\n",
    "    print(one[1:5])\n",
    "    print(one[6:8])\n",
    "    print(one[9:11])\n",
    "    \n",
    "    print(one[12:14])\n",
    "    print(one[15:17])\n",
    "    print(one[19:])\n",
    "    \n",
    "    1518\n",
    "11\n",
    "01\n",
    "00\n",
    "25\n",
    "wakes up\n",
    "    '''\n",
    "        \n",
    "    \n",
    "    #[1518-06-03 00:24] falls asleep\n",
    "    \n",
    "    #print(nums)\n",
    "\n",
    "    return result1, result2\n",
    "\n",
    "if __name__ == '__main__':\n",
    "    print(main())\n"
   ]
  },
  {
   "cell_type": "code",
   "execution_count": 56,
   "metadata": {},
   "outputs": [
    {
     "name": "stdout",
     "output_type": "stream",
     "text": [
      "0\n",
      "1\n",
      "2\n",
      "3\n",
      "4\n",
      "True\n",
      "0\n"
     ]
    }
   ],
   "source": [
    "for i in range(5):\n",
    "    print(i)\n",
    "    \n",
    "print(1 <= 1)\n",
    "print(2^2)"
   ]
  },
  {
   "cell_type": "code",
   "execution_count": 75,
   "metadata": {},
   "outputs": [
    {
     "name": "stdout",
     "output_type": "stream",
     "text": [
      "[[1 1]\n",
      " [2 2]\n",
      " [3 3]]\n",
      "\n",
      "\n",
      "[[1 1]\n",
      " [2 2]\n",
      " [3 3]]\n"
     ]
    }
   ],
   "source": [
    "a = np.array([[1, 1], [2, 2], [3, 3]])\n",
    "print(a)\n",
    "print('\\n')\n",
    "np.insert(a, 1, 5)\n",
    "print(a)"
   ]
  },
  {
   "cell_type": "code",
   "execution_count": 80,
   "metadata": {},
   "outputs": [
    {
     "name": "stdout",
     "output_type": "stream",
     "text": [
      "[0, 0]\n",
      "2\n"
     ]
    }
   ],
   "source": [
    "print([0]*2)\n",
    "a = [0, 1, 1, 0]\n",
    "print(sum(a))\n"
   ]
  },
  {
   "cell_type": "code",
   "execution_count": null,
   "metadata": {},
   "outputs": [],
   "source": []
  }
 ],
 "metadata": {
  "kernelspec": {
   "display_name": "Python 3",
   "language": "python",
   "name": "python3"
  },
  "language_info": {
   "codemirror_mode": {
    "name": "ipython",
    "version": 3
   },
   "file_extension": ".py",
   "mimetype": "text/x-python",
   "name": "python",
   "nbconvert_exporter": "python",
   "pygments_lexer": "ipython3",
   "version": "3.7.1"
  }
 },
 "nbformat": 4,
 "nbformat_minor": 2
}
