{
 "cells": [
  {
   "cell_type": "code",
   "execution_count": 138,
   "metadata": {},
   "outputs": [
    {
     "name": "stdout",
     "output_type": "stream",
     "text": [
      "{2, 3, 4, 6, 13, 17, 18, 19, 21, 22, 23, 28, 29, 35, 37, 38, 39, 42, 43, 46, 47, 48, 49}\n",
      "(array([35, 35, 35, 35, 35, 35, 35, 35, 35, 35, nan, 21, 21, 21, 21, 21,\n",
      "       21, 21, 21, 21, 21, 21, 21, 21, 21, 21, 21, 21, 21, 21, 21, 21, 21,\n",
      "       21, 21, 21, 21, 21, 21, 21, 21, 21, 21, 21, 21, 21, 21, 21, 21, 21,\n",
      "       21, 21, 21, 21, 21, 21, 21, 21, 21, 21, 21, 21, 21, 21, 21, 21, 21,\n",
      "       21, 21, 21, 21, 21, 21, 21, 21, 21, 21, 21, 21, 21, 21, 21, 21, 21,\n",
      "       21, 21, 21, 21, 21, 21, 21, 21, 21, 21, 21, 21, 21, nan, nan, nan,\n",
      "       nan, nan, nan, nan, nan, nan, nan, nan, nan, nan, nan, 13, 13, 13,\n",
      "       13, 13, 13, 13, 13, 13, 13, 13, 13, nan, 29, 29, 29, 29, 29, 29,\n",
      "       29, 29, 29, 29, 29, 29, 29, 29, 29, 29, 29, 29, 29, 29, 29, 29, 29,\n",
      "       nan, 23, 23, 23, 23, 23, 23, 23, 23, 23, 23, 23, 23, 23, 23, 23,\n",
      "       23, 23, 23, 23, 23, 23, 23, 23, 23, 23, 23, nan, 43, 43, 43, 43,\n",
      "       43, 43, 43, 43, 43, 43, 43, 43, 43, 43, 43, 43, 43, 43, 43, 43, 43,\n",
      "       43, 43, 43, 43, 43, 43, 43, 43, 43, 43, 43, 43, 37, 37, 37, 37, 37,\n",
      "       37, 37, 18, 18, 18, 18, 18, 18, 18, 18, 18, 18, 18, 18, 18, 18, 18,\n",
      "       18, 18, 18, 18, 18, nan, nan, nan, nan, nan, nan, nan, nan, nan,\n",
      "       nan, nan, nan, nan, nan, nan, nan, nan, nan, nan, nan, nan, nan,\n",
      "       nan, nan, nan, nan, nan, nan, nan, nan, nan, nan, nan, nan, 4, 4,\n",
      "       4, 4, 4, 4, 4, 4, 4, 4, 4, 4, 4, 4, 4, 4, 4, 4, 4, 4, 4, 4, 4, 4,\n",
      "       4, 4, 4, 4, 4, 4, 4, 4, 4, 4, 4, 4, 4, 4, 4, 4], dtype=object), array([35, 35, 35, 35, 35, 35, 35, 35, 35, 35, 35, nan, 21, 21, 21, 21,\n",
      "       21, 21, 21, 21, 21, 21, 21, 21, 21, 21, 21, 21, 21, 21, 21, 21, 21,\n",
      "       21, 21, 21, 21, 21, 21, 21, 21, 21, 21, 21, 21, 21, 21, 21, 21, 21,\n",
      "       21, 21, 21, 21, 21, 21, 21, 21, 21, 21, 21, 21, 21, 21, 21, 21, 21,\n",
      "       21, 21, 21, 21, 21, 21, 21, 21, 21, 21, 21, 21, 21, 21, 21, 21, 21,\n",
      "       21, 21, 21, 21, 21, 21, 21, 21, 21, 21, 21, 21, nan, nan, nan, nan,\n",
      "       nan, nan, nan, nan, nan, nan, nan, nan, nan, nan, nan, 13, 13, 13,\n",
      "       13, 13, 13, 13, 13, 13, 13, 13, 13, nan, 29, 29, 29, 29, 29, 29,\n",
      "       29, 29, 29, 29, 29, 29, 29, 29, 29, 29, 29, 29, 29, 29, 29, 29, 29,\n",
      "       nan, 23, 23, 23, 23, 23, 23, 23, 23, 23, 23, 23, 23, 23, 23, 23,\n",
      "       23, 23, 23, 23, 23, 23, 23, 23, 23, 23, 23, nan, 43, 43, 43, 43,\n",
      "       43, 43, 43, 43, 43, 43, 43, 43, 43, 43, 43, 43, 43, 43, 43, 43, 43,\n",
      "       43, 43, 43, 43, 43, 43, 43, 43, 43, 43, 43, 43, 37, 37, 37, 37, 37,\n",
      "       37, 37, 18, 18, 18, 18, 18, 18, 18, 18, 18, 18, 18, 18, 18, 18, 18,\n",
      "       18, 18, 18, 18, 18, nan, nan, nan, nan, nan, nan, nan, nan, nan,\n",
      "       nan, nan, nan, nan, nan, nan, nan, nan, nan, nan, nan, nan, nan,\n",
      "       nan, nan, nan, nan, nan, nan, nan, nan, nan, nan, nan, nan, 4, 4,\n",
      "       4, 4, 4, 4, 4, 4, 4, 4, 4, 4, 4, 4, 4, 4, 4, 4, 4, 4, 4, 4, 4, 4,\n",
      "       4, 4, 4, 4, 4, 4, 4, 4, 4, 4, 4, 4, 4, 4, 4, 4], dtype=object))\n"
     ]
    },
    {
     "data": {
      "image/png": "[encoded data removed]",
      "text/plain": [
       "<Figure size 432x288 with 1 Axes>"
      ]
     },
     "metadata": {
      "needs_background": "light"
     },
     "output_type": "display_data"
    },
    {
     "data": {
      "image/png": "[encoded data removed]",
      "text/plain": [
       "<Figure size 432x288 with 1 Axes>"
      ]
     },
     "metadata": {
      "needs_background": "light"
     },
     "output_type": "display_data"
    },
    {
     "name": "stdout",
     "output_type": "stream",
     "text": [
      "(3251, 47841) 0:00:03.303\n"
     ]
    },
    {
     "data": {
      "text/plain": [
       "<Figure size 432x288 with 0 Axes>"
      ]
     },
     "metadata": {},
     "output_type": "display_data"
    }
   ],
   "source": [
    "#!/usr/bin/python\n",
    "\n",
    "filepath = 'input.txt' \n",
    "\n",
    "from datetime import datetime\n",
    "import re\n",
    "import numpy as np\n",
    "import matplotlib.pyplot as plt\n",
    "startTime = datetime.now()\n",
    "\n",
    "def main() -> \"result1, result2\":\n",
    "    nums = set()\n",
    "    result1 , result2 = 0, 0\n",
    "    \n",
    "    with open(filepath) as f:\n",
    "        for line in f.readlines():\n",
    "            nums.add(tuple(int(x) for x in re.findall(r'\\d+', line)))\n",
    "        f.close()\n",
    "        \n",
    "    minx, maxx = min(pos[0] for pos in nums), max(pos[0] for pos in nums) # define domain\n",
    "    miny, maxy = min(pos[1] for pos in nums), max(pos[1] for pos in nums)\n",
    "    \n",
    "    array = np.array([[None] * (maxx - minx + 1)] * (maxy - miny + 1)) # array = y, array[0] = x\n",
    "    region = np.array([[False] * (maxx - minx + 1)] * (maxy - miny + 1))\n",
    "    \n",
    "    for x in range(len(array[0])): # for every position in grid\n",
    "        for y in range(len(array)):  \n",
    "            scores = []\n",
    "            for i, bomb in enumerate(nums): # obtain list of manhattan scores for all mines\n",
    "                scores.append(abs(x + minx - bomb[0]) + abs(y + miny - bomb[1]))\n",
    "            if scores.count(min(scores)) > 1: # if 2 mines tie\n",
    "                array[y, x] = np.nan\n",
    "            else:\n",
    "                array[y, x] = scores.index(min(scores))\n",
    "            region[y,x] = sum(scores) < 10000 # part 2 sum of manhattan\n",
    "\n",
    "    edges = set() # init and add values to edge indexes\n",
    "    for y in [0, len(array)-1]: # top, bottom\n",
    "        for x in range(len(array[0])): \n",
    "            edges.add(array[y,x])     \n",
    "    for y in range(len(array)): #left, right\n",
    "        for x in [0, len(array[0])-1]: \n",
    "            edges.add(array[y,x])\n",
    "    edges.remove(np.nan)\n",
    "    \n",
    "    sizes = dict(collections.Counter(array.flatten()))\n",
    "    sort = [None]*(len(sizes))\n",
    "    for key, value in sizes.items(): # convert dict to list\n",
    "        if key is not np.nan:\n",
    "            sort[key] = value\n",
    "\n",
    "    sort = [x for x in sort if x != None]\n",
    "    reference = sort.copy() # obtain reference of the pre-sorted set, to alter index value to\n",
    "                            # the new post-sorted value in the edges set\n",
    "    sort.sort(reverse=True)\n",
    "\n",
    "    newEdges = set() # create new edge set\n",
    "    for i in edges: \n",
    "        newEdges.add(sort.index(reference[i]))\n",
    "\n",
    "    for i, count in enumerate(sort): # check if i is hit on any edges \n",
    "        if i in newEdges:\n",
    "            continue\n",
    "        else: # not diverging to infinity\n",
    "            result1 = count\n",
    "            break\n",
    "            \n",
    "    print(edges)\n",
    "    \n",
    "    name = []\n",
    "    for x in range(len(array[0])): # for every position in grid\n",
    "        for y in range(len(array)):\n",
    "    \n",
    "    \n",
    "    print(name)\n",
    "    result2 = sum(sum(region))\n",
    "    plotter(nums)\n",
    "    \n",
    "    plotter(name)\n",
    "    \n",
    "    return result1, result2\n",
    "\n",
    "def plotter(inlet):\n",
    "    plt.scatter(list(x[0] for x in inlet), list(x[1] for x in inlet), s=10, alpha=0.75)\n",
    "    plt.show()\n",
    "    plt.clf()\n",
    "\n",
    "if __name__ == '__main__':\n",
    "    print(main(), str(datetime.now() - startTime)[:-3]) # (3251, 47841) 0:00:02.997"
   ]
  },
  {
   "cell_type": "code",
   "execution_count": null,
   "metadata": {},
   "outputs": [],
   "source": [
    "\n",
    "\n",
    "\n"
   ]
  }
 ],
 "metadata": {
  "kernelspec": {
   "display_name": "Python 3",
   "language": "python",
   "name": "python3"
  },
  "language_info": {
   "codemirror_mode": {
    "name": "ipython",
    "version": 3
   },
   "file_extension": ".py",
   "mimetype": "text/x-python",
   "name": "python",
   "nbconvert_exporter": "python",
   "pygments_lexer": "ipython3",
   "version": "3.7.1"
  }
 },
 "nbformat": 4,
 "nbformat_minor": 2
}
