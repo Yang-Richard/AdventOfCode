{
 "cells": [
  {
   "cell_type": "code",
   "execution_count": 5,
   "metadata": {},
   "outputs": [
    {
     "name": "stdout",
     "output_type": "stream",
     "text": [
      "(9562, 4934) 0:00:11.241\n"
     ]
    }
   ],
   "source": [
    "#!/usr/bin/python3\n",
    "# map, zip, nonlocal vs global, pairwise = lambda xs: zip(xs, xs[1:])\n",
    "from string import ascii_lowercase\n",
    "from datetime import datetime\n",
    "\n",
    "startTime = datetime.now()\n",
    "filepath = 'input.txt'\n",
    "\n",
    "polymerList = set()\n",
    "for i, char in enumerate(ascii_lowercase):\n",
    "    polymerList.add('{}{}'.format(char,char.upper()))\n",
    "    polymerList.add('{}{}'.format(char.upper(),char))\n",
    "\n",
    "def reduce(nums):\n",
    "    while(True):\n",
    "        val = len(nums)\n",
    "        for rem in polymerList:\n",
    "            nums = nums.replace(rem,'')\n",
    "        if val == len(nums):\n",
    "            break\n",
    "    return nums\n",
    "\n",
    "def main() -> \"result1, result2\":\n",
    "    result1 , result2 = 0, 0\n",
    "    \n",
    "    with open(filepath) as f:\n",
    "        nums = f.read().strip()\n",
    "        f.close()\n",
    "\n",
    "    result1 = len(reduce(nums))\n",
    "    \n",
    "    score = [0]*26 # 0 = a, 25 = z\n",
    "    for i, char in enumerate(ascii_lowercase):\n",
    "        result = reduce(nums.replace(char,'').replace(char.upper(),''))\n",
    "        score[i] = len(result) \n",
    "    result2 = min(score)\n",
    "    \n",
    "    return result1, result2\n",
    "    \n",
    "if __name__ == '__main__':\n",
    "    print(main(), str(datetime.now() - startTime)[:-3])"
   ]
  }
 ],
 "metadata": {
  "kernelspec": {
   "display_name": "Python 3",
   "language": "python",
   "name": "python3"
  },
  "language_info": {
   "codemirror_mode": {
    "name": "ipython",
    "version": 3
   },
   "file_extension": ".py",
   "mimetype": "text/x-python",
   "name": "python",
   "nbconvert_exporter": "python",
   "pygments_lexer": "ipython3",
   "version": "3.7.1"
  }
 },
 "nbformat": 4,
 "nbformat_minor": 2
}
