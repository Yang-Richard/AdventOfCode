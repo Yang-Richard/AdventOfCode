{
 "cells": [
  {
   "cell_type": "code",
   "execution_count": 17,
   "metadata": {},
   "outputs": [
    {
     "name": "stdout",
     "output_type": "stream",
     "text": [
      "[399745, 3349098263] 2:04:17.096\n"
     ]
    }
   ],
   "source": [
    "#!/usr/bin/python\n",
    "# slow version\n",
    "# TODO: import collections \n",
    "#       circle = collections.deque()\n",
    "\n",
    "rules = '427 players; last marble is worth 70723 points'\n",
    "\n",
    "from datetime import datetime\n",
    "startTime = datetime.now()\n",
    "\n",
    "def main(factor):\n",
    "    players, numballs = int(rules[:rules.index(' ')]), int(rules[rules.index('worth ')+6:rules.index(' points')])\n",
    "    numballs = numballs * factor\n",
    "    circle, scores = [0], [0] * players\n",
    "    ball, currentballposition = 0, 0\n",
    "\n",
    "    while (ball <= numballs-1):\n",
    "        ball += 1\n",
    "\n",
    "        if ball % 23 == 0 and ball != 0: # special ball\n",
    "            scores[ball%players-1] += ball  \n",
    "            if currentballposition >= 7:\n",
    "                currentballposition = currentballposition - 7\n",
    "            else:\n",
    "                remove = 7 - currentballposition\n",
    "                currentballposition = len(circle) - remove\n",
    "            scores[ball%players-1] += circle[currentballposition]\n",
    "            del circle[currentballposition]\n",
    "        else:    \n",
    "            if currentballposition <= len(circle) - 2: # same line\n",
    "                currentballposition = currentballposition + 2\n",
    "                circle.insert(currentballposition, ball)\n",
    "            else: # must continue clockwise\n",
    "                currentballposition = 1\n",
    "                circle.insert(currentballposition, ball)\n",
    "    return max(scores)\n",
    "\n",
    "if __name__ == '__main__':\n",
    "    print([main(i) for i in (1,0)], str(datetime.now() - startTime)[:-3]) #[399745, 3349098263] 2:04:17.096\n",
    "    "
   ]
  }
 ],
 "metadata": {
  "kernelspec": {
   "display_name": "Python 3",
   "language": "python",
   "name": "python3"
  },
  "language_info": {
   "codemirror_mode": {
    "name": "ipython",
    "version": 3
   },
   "file_extension": ".py",
   "mimetype": "text/x-python",
   "name": "python",
   "nbconvert_exporter": "python",
   "pygments_lexer": "ipython3",
   "version": "3.7.1"
  }
 },
 "nbformat": 4,
 "nbformat_minor": 2
}
