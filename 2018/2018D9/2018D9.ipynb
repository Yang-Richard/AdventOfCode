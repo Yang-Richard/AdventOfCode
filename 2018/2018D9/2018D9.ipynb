{
 "cells": [
  {
   "cell_type": "code",
   "execution_count": 17,
   "metadata": {},
   "outputs": [
    {
     "name": "stdout",
     "output_type": "stream",
     "text": [
      "[399745, 3349098263] 2:04:17.096\n"
     ]
    }
   ],
   "source": [
    "#!/usr/bin/python\n",
    "# slow version\n",
    "# TODO: import collections \n",
    "#       circle = collections.deque()\n",
    "\n",
    "rules = '427 players; last marble is worth 70723 points'\n",
    "\n",
    "from datetime import datetime\n",
    "startTime = datetime.now()\n",
    "\n",
    "def main(factor):\n",
    "    players, numballs = int(rules[:rules.index(' ')]), int(rules[rules.index('worth ')+6:rules.index(' points')])\n",
    "    numballs = numballs * factor\n",
    "    circle, scores = [0], [0] * players\n",
    "    ball, currentballposition = 0, 0\n",
    "\n",
    "    while (ball <= numballs-1):\n",
    "        ball += 1\n",
    "\n",
    "        if ball % 23 == 0 and ball != 0: # special ball\n",
    "            scores[ball%players-1] += ball  \n",
    "            if currentballposition >= 7:\n",
    "                currentballposition = currentballposition - 7\n",
    "            else:\n",
    "                remove = 7 - currentballposition\n",
    "                currentballposition = len(circle) - remove\n",
    "            scores[ball%players-1] += circle[currentballposition]\n",
    "            del circle[currentballposition]\n",
    "        else:    \n",
    "            if currentballposition <= len(circle) - 2: # same line\n",
    "                currentballposition = currentballposition + 2\n",
    "                circle.insert(currentballposition, ball)\n",
    "            else: # must continue clockwise\n",
    "                currentballposition = 1\n",
    "                circle.insert(currentballposition, ball)\n",
    "    return max(scores)\n",
    "\n",
    "if __name__ == '__main__':\n",
    "    print([main(i) for i in (1,0)], str(datetime.now() - startTime)[:-3]) #[399745, 3349098263] 2:04:17.096\n",
    "    "
   ]
  },
  {
   "cell_type": "code",
   "execution_count": 2,
   "metadata": {},
   "outputs": [
    {
     "name": "stdout",
     "output_type": "stream",
     "text": [
      "399745\n",
      "3349098263\n",
      "0:00:02.484\n"
     ]
    }
   ],
   "source": [
    "from collections import deque\n",
    "from datetime import datetime\n",
    "startTime = datetime.now()\n",
    "\n",
    "def run_marbles(numballs):\n",
    "    circle = deque([0])\n",
    "    players = 427\n",
    "    score = [0] * players\n",
    "\n",
    "    for i in range(1, numballs+1):\n",
    "        if i%23 == 0:\n",
    "            score[(i-1)%players] += i + circle[-9]\n",
    "            del circle[-9]\n",
    "            circle.rotate(6)\n",
    "        else:\n",
    "            circle.append(i)\n",
    "            circle.rotate(-1)\n",
    "\n",
    "    return max(score)\n",
    "\n",
    "if __name__ == '__main__':\n",
    "    print(run_marbles(70723))\n",
    "    print(run_marbles(70723*100))\n",
    "    print(str(datetime.now() - startTime)[:-3])\n",
    "    \n",
    "    '''\n",
    "    399745\n",
    "    3349098263\n",
    "    0:00:02.484\n",
    "    '''"
   ]
  },
  {
   "cell_type": "code",
   "execution_count": null,
   "metadata": {},
   "outputs": [],
   "source": []
  }
 ],
 "metadata": {
  "kernelspec": {
   "display_name": "Python 3",
   "language": "python",
   "name": "python3"
  },
  "language_info": {
   "codemirror_mode": {
    "name": "ipython",
    "version": 3
   },
   "file_extension": ".py",
   "mimetype": "text/x-python",
   "name": "python",
   "nbconvert_exporter": "python",
   "pygments_lexer": "ipython3",
   "version": "3.6.8"
  }
 },
 "nbformat": 4,
 "nbformat_minor": 2
}
