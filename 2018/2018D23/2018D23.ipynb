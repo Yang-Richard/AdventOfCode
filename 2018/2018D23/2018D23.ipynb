{
 "cells": [
  {
   "cell_type": "code",
   "execution_count": 3,
   "metadata": {
    "scrolled": false
   },
   "outputs": [
    {
     "name": "stdout",
     "output_type": "stream",
     "text": [
      "397056660\n",
      "343307489\n",
      "219846958\n",
      "[218550620, 201652446, 123269970] [-178506040, -141655043, -96576988]\n",
      "599\n"
     ]
    }
   ],
   "source": [
    "from datetime import datetime\n",
    "startTime = datetime.now()\n",
    "\n",
    "\n",
    "from collections import defaultdict\n",
    "\n",
    "filepath = 'input.txt'\n",
    "\n",
    "nanobots = []\n",
    "largest_nanobot = [0, 0, 0, 0]\n",
    "i = 0\n",
    "ma = [0, 0, 0]\n",
    "mi = [0, 0, 0]\n",
    "with open(filepath, 'r') as f:\n",
    "    for line in f.readlines():\n",
    "        pos = [int(i) for i in line.strip()[line.index('<') +1:line.index('>')].split(',')]\n",
    "        radius = int(line.strip()[line.index('r=') +2:])\n",
    "        nanobots.append(pos + [radius])\n",
    "        if radius > largest_nanobot[3]:\n",
    "            largest_nanobot = pos + [radius]\n",
    "            \n",
    "        for n, i in enumerate(pos):\n",
    "            if i > ma[n]:\n",
    "                ma[n] = i\n",
    "            if i < mi[n]:\n",
    "                mi[n] = i\n",
    "            \n",
    "for i in range(3):\n",
    "    print(ma[i] - mi[i])\n",
    "print(ma, mi)\n",
    "#print(largest_nanobot)\n",
    "\n",
    "in_range = 0\n",
    "for nanobot in nanobots:\n",
    "    distance = sum(abs(largest_nanobot[i] - nanobot[i]) for i in range(3))\n",
    "    if distance <= largest_nanobot[3]:\n",
    "        in_range += 1\n",
    "        #print(nanobot)\n",
    "            \n",
    "print(in_range)"
   ]
  },
  {
   "cell_type": "code",
   "execution_count": 4,
   "metadata": {},
   "outputs": [
    {
     "name": "stdout",
     "output_type": "stream",
     "text": [
      "29967893944330730525056920\n"
     ]
    }
   ],
   "source": [
    "print(397056660*343307489*219846958)"
   ]
  },
  {
   "cell_type": "code",
   "execution_count": null,
   "metadata": {},
   "outputs": [],
   "source": []
  }
 ],
 "metadata": {
  "kernelspec": {
   "display_name": "Python 3",
   "language": "python",
   "name": "python3"
  },
  "language_info": {
   "codemirror_mode": {
    "name": "ipython",
    "version": 3
   },
   "file_extension": ".py",
   "mimetype": "text/x-python",
   "name": "python",
   "nbconvert_exporter": "python",
   "pygments_lexer": "ipython3",
   "version": "3.7.2"
  }
 },
 "nbformat": 4,
 "nbformat_minor": 2
}
