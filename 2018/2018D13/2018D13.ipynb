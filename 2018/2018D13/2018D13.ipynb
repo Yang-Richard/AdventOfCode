{
 "cells": [
  {
   "cell_type": "code",
   "execution_count": 21,
   "metadata": {
    "scrolled": false
   },
   "outputs": [
    {
     "name": "stdout",
     "output_type": "stream",
     "text": [
      "('16,45', '21,91') 0:11:07.615\n"
     ]
    }
   ],
   "source": [
    "#!/usr/bin/python\n",
    "\n",
    "filepath = 'input.txt'\n",
    "from datetime import datetime\n",
    "startTime = datetime.now()\n",
    "\n",
    "def main():\n",
    "    grid = []\n",
    "    result1, result2 = None, None\n",
    "    with open(filepath) as f:\n",
    "        for line in f.readlines():\n",
    "            grid.append(line.rstrip())\n",
    "        f.close()\n",
    "        \n",
    "    turns = ''\n",
    "    cart_img = 'v<^>'\n",
    "    normal_track_img = '|-|-'\n",
    "    carts = dict()\n",
    "    special = {'/': '<v>^', '\\\\': '>^<v', '+': '>v<^'}\n",
    "    special_chars = set(special.keys())\n",
    "    firstCrash = True\n",
    "    \n",
    "    for y, line in enumerate(grid):\n",
    "        for x, item in enumerate(line):\n",
    "            if item in cart_img:\n",
    "                carts[str(x) + ',' + str(y)] = ([0, item, normal_track_img[cart_img.index(item)]]) # x, y, turn num, direction, track underneath\n",
    "                \n",
    "    while(len(carts) > 1):\n",
    "        moved = []\n",
    "        for y, line in enumerate(grid):\n",
    "            for x, cart in enumerate(line):\n",
    "                crash = False\n",
    "                next_pos = []\n",
    "                key = str(x) + ',' + str(y)\n",
    "                \n",
    "                if key not in moved and cart in cart_img:\n",
    "                    if cart == 'v':\n",
    "                        next_pos = [x, y+1]\n",
    "\n",
    "                    elif cart == '<':\n",
    "                        next_pos = [x-1, y]\n",
    "\n",
    "                    elif cart == '^':\n",
    "                        next_pos = [x, y-1]\n",
    "\n",
    "                    elif cart == '>':\n",
    "                        next_pos = [x+1, y]\n",
    "                    else:\n",
    "                        pass\n",
    "                        \n",
    "                    next_track = grid[next_pos[1]][next_pos[0]]\n",
    "                    next_key = (str(next_pos[0]) + ',' + str(next_pos[1]))\n",
    "                    \n",
    "                    grid[y] = grid[y][0:x] + carts[key][2] + grid[y][x+1:len(grid[y])]\n",
    "                    carts[key][2] = next_track\n",
    "                    \n",
    "                    if next_track in cart_img:\n",
    "                        if firstCrash:    \n",
    "                            result1 = *next_pos,\n",
    "                            firstCrash = False\n",
    "\n",
    "                        grid[next_pos[1]] = grid[next_pos[1]][0:next_pos[0]] + carts[next_key][2] + grid[next_pos[1]][next_pos[0]+1:len(grid[next_pos[1]])]\n",
    "                        \n",
    "                        del carts[key]\n",
    "                        del carts[next_key]\n",
    "                        \n",
    "                    else: \n",
    "                        if next_track == '/':\n",
    "                            carts[key][1] = special['/'][cart_img.index(cart)]\n",
    "                        elif next_track == '\\\\':\n",
    "                            carts[key][1] = special['\\\\'][cart_img.index(cart)]\n",
    "                        elif next_track == '+':\n",
    "                            carts[key][1] = special['+'][(cart_img.index(cart) + carts[key][0]) % 4]\n",
    "                            carts[key][0] = (carts[key][0] + 1)%3                \n",
    "                        else:\n",
    "                            pass\n",
    "                        \n",
    "                        grid[next_pos[1]] = grid[next_pos[1]][0:next_pos[0]] + carts[key][1] + grid[next_pos[1]][next_pos[0]+1:len(grid[next_pos[1]])]\n",
    "                        carts[next_key] = carts.pop(key)\n",
    "                        moved.append(next_key)\n",
    "                        \n",
    "    return str(result1[0]) + ',' + str(result1[1]), tuple(carts.keys())[0]\n",
    "\n",
    "if __name__ == '__main__':\n",
    "    print(main(), str(datetime.now() - startTime)[:-3]) # ('16,45', '21,91') 0:11:07.615"
   ]
  },
  {
   "cell_type": "code",
   "execution_count": null,
   "metadata": {},
   "outputs": [],
   "source": []
  }
 ],
 "metadata": {
  "kernelspec": {
   "display_name": "Python 3",
   "language": "python",
   "name": "python3"
  },
  "language_info": {
   "codemirror_mode": {
    "name": "ipython",
    "version": 3
   },
   "file_extension": ".py",
   "mimetype": "text/x-python",
   "name": "python",
   "nbconvert_exporter": "python",
   "pygments_lexer": "ipython3",
   "version": "3.7.2"
  }
 },
 "nbformat": 4,
 "nbformat_minor": 2
}
