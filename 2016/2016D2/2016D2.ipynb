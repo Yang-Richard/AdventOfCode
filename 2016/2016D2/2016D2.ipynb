{
 "cells": [
  {
   "cell_type": "code",
   "execution_count": 41,
   "metadata": {
    "scrolled": false
   },
   "outputs": [
    {
     "name": "stdout",
     "output_type": "stream",
     "text": [
      "('69642', '8CB23') 0:00:00.002\n"
     ]
    }
   ],
   "source": [
    "#!/usr/bin/python\n",
    "filepath = 'test.txt'\n",
    "filepath = 'input.txt'\n",
    "\n",
    "from datetime import datetime\n",
    "import re\n",
    "startTime = datetime.now()\n",
    "\n",
    "KEYPAD_1 = ((1,2,3), (4,5,6), (7,8,9))\n",
    "LIMITS_1 = 3\n",
    "START_1 = (1,1)\n",
    "\n",
    "KEYPAD_2 = ((-1, -1, 1, -1, -1), (-1, 2, 3, 4, -1), (5, 6, 7, 8, 9), (-1, 'A', 'B', 'C', -1), (-1, -1, 'D', -1, -1))\n",
    "LIMITS_2 = 5\n",
    "START_2 = (0, 2)\n",
    "\n",
    "MOVEMENTS = {'U': (0, -1), 'L': (-1, 0), 'R': (1, 0), 'D': (0, 1)}\n",
    "\n",
    "instructions = []\n",
    "with open(filepath) as f:\n",
    "    for line in f.readlines():\n",
    "        instructions.append(line.strip())\n",
    "    f.close()\n",
    "\n",
    "def find_code(keypad, limit, start):\n",
    "    code = ''\n",
    "    pos = start # x, y\n",
    "    \n",
    "    for instruction in instructions: \n",
    "        for movement in instruction:\n",
    "            new_x, new_y = pos[0] + MOVEMENTS[movement][0], pos[1] + MOVEMENTS[movement][1]\n",
    "            \n",
    "            if new_x > -1 and new_x < limit and new_y > -1 and new_y < limit and keypad[new_y][new_x] != -1:\n",
    "                pos = (new_x, new_y)\n",
    "        \n",
    "        code = code + str(keypad[pos[1]][pos[0]])\n",
    "        \n",
    "    return code\n",
    "\n",
    "def main():\n",
    "    result1 = find_code(KEYPAD_1, LIMITS_1, START_1)\n",
    "    result2 = find_code(KEYPAD_2, LIMITS_2, START_2)\n",
    "\n",
    "    return result1, result2\n",
    "            \n",
    "if __name__ == '__main__':\n",
    "    print(main(), str(datetime.now() - startTime)[:-3]) # ('69642', '8CB23') 0:00:00.002"
   ]
  },
  {
   "cell_type": "code",
   "execution_count": null,
   "metadata": {},
   "outputs": [],
   "source": []
  }
 ],
 "metadata": {
  "kernelspec": {
   "display_name": "Python 3",
   "language": "python",
   "name": "python3"
  },
  "language_info": {
   "codemirror_mode": {
    "name": "ipython",
    "version": 3
   },
   "file_extension": ".py",
   "mimetype": "text/x-python",
   "name": "python",
   "nbconvert_exporter": "python",
   "pygments_lexer": "ipython3",
   "version": "3.7.2"
  }
 },
 "nbformat": 4,
 "nbformat_minor": 2
}
