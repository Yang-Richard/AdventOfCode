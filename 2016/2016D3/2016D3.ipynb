{
 "cells": [
  {
   "cell_type": "code",
   "execution_count": 57,
   "metadata": {
    "scrolled": false
   },
   "outputs": [
    {
     "name": "stdout",
     "output_type": "stream",
     "text": [
      "(1032, 1838) 0:00:00.004\n"
     ]
    }
   ],
   "source": [
    "#!/usr/bin/python\n",
    "filepath = 'test.txt'\n",
    "filepath = 'input.txt'\n",
    "\n",
    "from datetime import datetime\n",
    "import re\n",
    "startTime = datetime.now()\n",
    "\n",
    "triangles = []\n",
    "with open(filepath) as f:\n",
    "    for line in f.readlines():\n",
    "        triangles.append([int(side) for side in line.strip().split()])\n",
    "    f.close()\n",
    "    \n",
    "def test_validity(a, b, c):\n",
    "    return a + b > c and a + c > b and b + c > a\n",
    "\n",
    "def main():\n",
    "    result1 = 0\n",
    "    result2 = 0\n",
    "    \n",
    "    for triangle in triangles:\n",
    "        result1 += test_validity(*triangle)\n",
    "        \n",
    "    i = 0\n",
    "    while i < len(triangles):\n",
    "        result2 += test_validity(triangles[i][0], triangles[i+1][0], triangles[i+2][0]) # col1\n",
    "        result2 += test_validity(triangles[i][1], triangles[i+1][1], triangles[i+2][1]) # col2\n",
    "        result2 += test_validity(triangles[i][2], triangles[i+1][2], triangles[i+2][2]) # col3\n",
    "        i += 3\n",
    "        \n",
    "    return result1, result2\n",
    "            \n",
    "if __name__ == '__main__':\n",
    "    print(main(), str(datetime.now() - startTime)[:-3]) # (1032, 1838) 0:00:00.004"
   ]
  },
  {
   "cell_type": "code",
   "execution_count": null,
   "metadata": {},
   "outputs": [],
   "source": []
  }
 ],
 "metadata": {
  "kernelspec": {
   "display_name": "Python 3",
   "language": "python",
   "name": "python3"
  },
  "language_info": {
   "codemirror_mode": {
    "name": "ipython",
    "version": 3
   },
   "file_extension": ".py",
   "mimetype": "text/x-python",
   "name": "python",
   "nbconvert_exporter": "python",
   "pygments_lexer": "ipython3",
   "version": "3.7.2"
  }
 },
 "nbformat": 4,
 "nbformat_minor": 2
}
