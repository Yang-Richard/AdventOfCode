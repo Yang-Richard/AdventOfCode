{
 "cells": [
  {
   "cell_type": "code",
   "execution_count": 17,
   "metadata": {
    "scrolled": false
   },
   "outputs": [
    {
     "name": "stdout",
     "output_type": "stream",
     "text": [
      "('nabgqlcw', 'ovtrjcjh') 0:00:00.005\n"
     ]
    }
   ],
   "source": [
    "#!/usr/bin/python\n",
    "\n",
    "filepath = 'test.txt'\n",
    "filepath = 'input.txt'\n",
    "\n",
    "from datetime import datetime\n",
    "from collections import Counter\n",
    "startTime = datetime.now()\n",
    "\n",
    "NUM_CHARS = 8\n",
    "message = [''] * NUM_CHARS\n",
    "\n",
    "with open(filepath) as f:\n",
    "    for line in f.readlines():\n",
    "        for i in range(NUM_CHARS):\n",
    "            message[i] = message[i] + line.strip()[i]\n",
    "    f.close()\n",
    "\n",
    "def main():\n",
    "    result1, result2 = '', ''\n",
    "    \n",
    "    for i in message:\n",
    "        count = dict(Counter(i))\n",
    "        result1 = result1 + max(count, key=count.get)\n",
    "        result2 = result2 + min(count, key=count.get)\n",
    "        \n",
    "    return result1, result2\n",
    "            \n",
    "if __name__ == '__main__':\n",
    "    print(main(), str(datetime.now() - startTime)[:-3]) # ('nabgqlcw', 'ovtrjcjh') 0:00:00.005"
   ]
  },
  {
   "cell_type": "code",
   "execution_count": null,
   "metadata": {},
   "outputs": [],
   "source": []
  }
 ],
 "metadata": {
  "kernelspec": {
   "display_name": "Python 3",
   "language": "python",
   "name": "python3"
  },
  "language_info": {
   "codemirror_mode": {
    "name": "ipython",
    "version": 3
   },
   "file_extension": ".py",
   "mimetype": "text/x-python",
   "name": "python",
   "nbconvert_exporter": "python",
   "pygments_lexer": "ipython3",
   "version": "3.7.2"
  }
 },
 "nbformat": 4,
 "nbformat_minor": 2
}
