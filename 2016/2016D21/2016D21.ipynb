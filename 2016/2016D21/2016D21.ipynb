{
 "cells": [
  {
   "cell_type": "code",
   "execution_count": 2,
   "metadata": {
    "scrolled": false
   },
   "outputs": [
    {
     "name": "stdout",
     "output_type": "stream",
     "text": [
      "bfheacgd\n",
      "gcehdbfa\n",
      "0:00:01.722\n"
     ]
    }
   ],
   "source": [
    "from datetime import datetime\n",
    "startTime = datetime.now()\n",
    "\n",
    "from collections import deque\n",
    "import itertools\n",
    "\n",
    "filepath = 'input.txt'\n",
    "\n",
    "def scramble_password(initial_password):\n",
    "    scramble = deque(initial_password)\n",
    "\n",
    "    for instruction in instructions:\n",
    "        if instruction[0] == 'swap':\n",
    "            if instruction[1] == 'position':\n",
    "                temp = scramble[int(instruction[2])]\n",
    "                scramble[int(instruction[2])] = scramble[int(instruction[5])]\n",
    "                scramble[int(instruction[5])] = temp\n",
    "\n",
    "            elif instruction[1] == 'letter':\n",
    "                index1 = scramble.index(instruction[2])\n",
    "                index2 = scramble.index(instruction[5])\n",
    "                scramble[index1] = instruction[5]\n",
    "                scramble[index2] = instruction[2]\n",
    "\n",
    "        elif instruction[0] == 'reverse':\n",
    "            start = deque(itertools.islice(scramble, 0, int(instruction[2])))\n",
    "            capture = deque(itertools.islice(scramble, int(instruction[2]), int(instruction[4]) + 1))\n",
    "            capture.reverse()\n",
    "            end = deque(itertools.islice(scramble, int(instruction[4]) + 1, len(scramble)))\n",
    "            scramble =  start + capture + end\n",
    "\n",
    "        elif instruction[0] == 'rotate':\n",
    "            if instruction[1] == 'based':\n",
    "                index = scramble.index(instruction[6])\n",
    "                index += 1\n",
    "                if index >= 5:\n",
    "                    index += 1\n",
    "                scramble.rotate(index)\n",
    "            else:\n",
    "                direction = {'left': -1, 'right': 1}\n",
    "                scramble.rotate(direction[instruction[1]] * int(instruction[2]))\n",
    "\n",
    "        elif instruction[0] == 'move':\n",
    "            value = scramble[int(instruction[2])]\n",
    "            del scramble[int(instruction[2])]\n",
    "            scramble.insert(int(instruction[5]), value)\n",
    "\n",
    "        else:\n",
    "            pass\n",
    "        \n",
    "    return ''.join(scramble)\n",
    "\n",
    "\n",
    "instructions = []\n",
    "with open(filepath) as f:\n",
    "    for line in f.readlines():\n",
    "        instructions.append(line.strip().split())\n",
    "\n",
    "string = 'abcdefgh'\n",
    "print(scramble_password(string))\n",
    "\n",
    "goal = 'fbgdceah'\n",
    "for attempt in itertools.permutations(goal):\n",
    "    if scramble_password(attempt) == goal:\n",
    "        print(''.join(attempt))\n",
    "        break\n",
    "        \n",
    "print(str(datetime.now() - startTime)[:-3])\n",
    "\n",
    "# bfheacgd\n",
    "# gcehdbfa\n",
    "# 0:00:01.722"
   ]
  },
  {
   "cell_type": "code",
   "execution_count": null,
   "metadata": {},
   "outputs": [],
   "source": []
  }
 ],
 "metadata": {
  "kernelspec": {
   "display_name": "Python 3",
   "language": "python",
   "name": "python3"
  },
  "language_info": {
   "codemirror_mode": {
    "name": "ipython",
    "version": 3
   },
   "file_extension": ".py",
   "mimetype": "text/x-python",
   "name": "python",
   "nbconvert_exporter": "python",
   "pygments_lexer": "ipython3",
   "version": "3.7.2"
  }
 },
 "nbformat": 4,
 "nbformat_minor": 2
}
