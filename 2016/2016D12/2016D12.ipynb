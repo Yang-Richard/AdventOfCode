{
 "cells": [
  {
   "cell_type": "code",
   "execution_count": 55,
   "metadata": {
    "scrolled": false
   },
   "outputs": [
    {
     "name": "stdout",
     "output_type": "stream",
     "text": [
      "(318007, 9227661) 0:00:27.508\n"
     ]
    }
   ],
   "source": [
    "#!/usr/bin/python\n",
    "\n",
    "filepath = 'input.txt'\n",
    "#filepath = 'test.txt'\n",
    "\n",
    "from datetime import datetime\n",
    "startTime = datetime.now()\n",
    "\n",
    "instructions = []\n",
    "\n",
    "with open(filepath) as f:\n",
    "    for line in f.readlines():\n",
    "        instructions.append(line.strip().split(' '))            \n",
    "f.close()\n",
    "\n",
    "def run_instructions(registers):\n",
    "    i = 0\n",
    "    while i < len(instructions):\n",
    "        instruction = instructions[i][::1]\n",
    "        \n",
    "        if len(instruction) == 3 and str(instruction[1]).isalpha():\n",
    "            instruction[1] = registers[instruction[1]]\n",
    "         \n",
    "        if instruction[0] == 'cpy':\n",
    "            registers[instruction[2]] = int(instruction[1])\n",
    "        elif instruction[0] == 'inc':\n",
    "            registers[instruction[1]] += 1\n",
    "        elif instruction[0] == 'dec':\n",
    "            registers[instruction[1]] -= 1\n",
    "        else:\n",
    "            pass\n",
    "        \n",
    "        if instruction[0] == 'jnz' and instruction[1] != 0:\n",
    "            i += int(instruction[2])\n",
    "        else:\n",
    "            i += 1\n",
    "            \n",
    "    return registers['a']\n",
    "\n",
    "def main():\n",
    "    result1 = run_instructions({'a': 0, 'b': 0, 'c': 0, 'd': 0})\n",
    "    result2 = run_instructions({'a': 0, 'b': 0, 'c': 1, 'd': 0})\n",
    "    \n",
    "    return result1, result2\n",
    "    \n",
    "if __name__ == '__main__':\n",
    "    print(main(), str(datetime.now() - startTime)[:-3]) # (318007, 9227661) 0:00:27.508"
   ]
  },
  {
   "cell_type": "code",
   "execution_count": null,
   "metadata": {},
   "outputs": [],
   "source": []
  }
 ],
 "metadata": {
  "kernelspec": {
   "display_name": "Python 3",
   "language": "python",
   "name": "python3"
  },
  "language_info": {
   "codemirror_mode": {
    "name": "ipython",
    "version": 3
   },
   "file_extension": ".py",
   "mimetype": "text/x-python",
   "name": "python",
   "nbconvert_exporter": "python",
   "pygments_lexer": "ipython3",
   "version": "3.7.2"
  }
 },
 "nbformat": 4,
 "nbformat_minor": 2
}
