{
 "cells": [
  {
   "cell_type": "code",
   "execution_count": 38,
   "metadata": {},
   "outputs": [
    {
     "name": "stdout",
     "output_type": "stream",
     "text": [
      "1816277\n",
      "1410967\n",
      "0:00:02.715\n"
     ]
    }
   ],
   "source": [
    "from datetime import datetime\n",
    "from collections import deque\n",
    "startTime = datetime.now()\n",
    "\n",
    "def p1(elfs):\n",
    "    presents = list(range(1, elfs+1))\n",
    "    \n",
    "    while len(presents) > 1:\n",
    "        do_reverse = len(presents)%2\n",
    "        presents = presents[::2]\n",
    "\n",
    "        if do_reverse:\n",
    "            presents = presents[-1:] + presents[:-1]\n",
    "\n",
    "    return presents[0]\n",
    "\n",
    "def p2(elfs):\n",
    "    first, second = deque(list(range(1, (elfs+1)//2+1))), deque(list(range((elfs+1)//2+1, elfs+1)))\n",
    "    \n",
    "    while len(first) > 1:\n",
    "        if len(first) != len(second):\n",
    "            first.pop()\n",
    "        else:\n",
    "            second.popleft()\n",
    "\n",
    "        a = first.popleft()\n",
    "        b = second.popleft()\n",
    "        first.append(b)\n",
    "        second.append(a)\n",
    "        \n",
    "    return first[0]\n",
    "    \n",
    "if __name__ == '__main__':\n",
    "    print(p1(3005290))\n",
    "    print(p2(3005290))\n",
    "    print(str(datetime.now() - startTime)[:-3]) \n",
    "    \n",
    "    '''\n",
    "    1816277\n",
    "    1410967\n",
    "    0:00:02.715\n",
    "    '''"
   ]
  },
  {
   "cell_type": "code",
   "execution_count": null,
   "metadata": {},
   "outputs": [],
   "source": []
  }
 ],
 "metadata": {
  "kernelspec": {
   "display_name": "Python 3",
   "language": "python",
   "name": "python3"
  },
  "language_info": {
   "codemirror_mode": {
    "name": "ipython",
    "version": 3
   },
   "file_extension": ".py",
   "mimetype": "text/x-python",
   "name": "python",
   "nbconvert_exporter": "python",
   "pygments_lexer": "ipython3",
   "version": "3.7.2"
  }
 },
 "nbformat": 4,
 "nbformat_minor": 2
}
