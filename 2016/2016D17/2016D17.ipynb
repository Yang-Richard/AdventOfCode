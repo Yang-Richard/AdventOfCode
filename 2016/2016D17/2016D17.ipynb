{
 "cells": [
  {
   "cell_type": "code",
   "execution_count": 2,
   "metadata": {
    "scrolled": false
   },
   "outputs": [
    {
     "name": "stdout",
     "output_type": "stream",
     "text": [
      "DDRRUDLRRD 488\n",
      "0:00:00.165\n"
     ]
    }
   ],
   "source": [
    "from datetime import datetime\n",
    "startTime = datetime.now()\n",
    "\n",
    "import hashlib \n",
    "start_hash = 'pslxynzg'\n",
    "\n",
    "ADJACENT = {0: (0, -1), 1: (0, 1), 2: (-1, 0), 3: (1, 0)}\n",
    "MOVES = 'UDLR'\n",
    "\n",
    "def search():\n",
    "    paths = [[start_hash, 0, 0, 0]]\n",
    "    acceptable_paths = []\n",
    "    \n",
    "    while paths:\n",
    "        spot = paths[0]\n",
    "\n",
    "        if spot[1] == 3 and spot[2] == 3:\n",
    "            acceptable_paths.append((spot[0][len(start_hash):], spot[3]))\n",
    "        else:\n",
    "            result = hashlib.md5(spot[0].encode('utf-8')).hexdigest()[:4]\n",
    "            for n, i in enumerate(result):\n",
    "                if i in ('bcdef') and 0 <= spot[1] + ADJACENT[n][0] < 4 and 0 <= spot[2] + ADJACENT[n][1] < 4:\n",
    "                        paths.append([spot[0] + MOVES[n], spot[1] + ADJACENT[n][0], spot[2] + ADJACENT[n][1], spot[3] + 1])\n",
    "        del paths[0]\n",
    "\n",
    "    return acceptable_paths\n",
    "\n",
    "acceptable_paths = search()\n",
    "print(acceptable_paths[0][0], acceptable_paths[-1][1])\n",
    "print(str(datetime.now() - startTime)[:-3])\n",
    "\n",
    "# DDRRUDLRRD 488\n",
    "# 0:00:00.165"
   ]
  },
  {
   "cell_type": "code",
   "execution_count": null,
   "metadata": {},
   "outputs": [],
   "source": []
  }
 ],
 "metadata": {
  "kernelspec": {
   "display_name": "Python 3",
   "language": "python",
   "name": "python3"
  },
  "language_info": {
   "codemirror_mode": {
    "name": "ipython",
    "version": 3
   },
   "file_extension": ".py",
   "mimetype": "text/x-python",
   "name": "python",
   "nbconvert_exporter": "python",
   "pygments_lexer": "ipython3",
   "version": "3.7.2"
  }
 },
 "nbformat": 4,
 "nbformat_minor": 2
}
