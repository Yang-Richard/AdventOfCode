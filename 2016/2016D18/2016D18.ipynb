{
 "cells": [
  {
   "cell_type": "code",
   "execution_count": 4,
   "metadata": {},
   "outputs": [
    {
     "name": "stdout",
     "output_type": "stream",
     "text": [
      "2016\n",
      "19998750\n",
      "0:00:09.522\n"
     ]
    }
   ],
   "source": [
    "from datetime import datetime\n",
    "startTime = datetime.now()\n",
    "\n",
    "def main(num_rows):\n",
    "    row = '^..^^.^^^..^^.^...^^^^^....^.^..^^^.^.^.^^...^.^.^.^.^^.....^.^^.^.^.^.^.^.^^..^^^^^...^.....^....^.'\n",
    "    safe_tiles = row.count('.')\n",
    "    \n",
    "    for i in range(1, num_rows):\n",
    "        row = '.' + row + '.'\n",
    "        new_row = ''\n",
    "        \n",
    "        for i in range(1, len(row)-1):\n",
    "            if row[i-1] == row[i+1]:\n",
    "                new_row = new_row + '.'\n",
    "            else:\n",
    "                new_row = new_row + '^'\n",
    "        \n",
    "        row = new_row\n",
    "        safe_tiles += row.count('.')\n",
    "        \n",
    "    return safe_tiles\n",
    "        \n",
    "if __name__ == '__main__':\n",
    "    print(main(40))\n",
    "    print(main(400000))\n",
    "    print(str(datetime.now() - startTime)[:-3]) \n",
    "    \n",
    "    '''\n",
    "    2016\n",
    "    19998750\n",
    "    0:00:09.522\n",
    "    '''"
   ]
  },
  {
   "cell_type": "code",
   "execution_count": null,
   "metadata": {},
   "outputs": [],
   "source": []
  }
 ],
 "metadata": {
  "kernelspec": {
   "display_name": "Python 3",
   "language": "python",
   "name": "python3"
  },
  "language_info": {
   "codemirror_mode": {
    "name": "ipython",
    "version": 3
   },
   "file_extension": ".py",
   "mimetype": "text/x-python",
   "name": "python",
   "nbconvert_exporter": "python",
   "pygments_lexer": "ipython3",
   "version": "3.7.2"
  }
 },
 "nbformat": 4,
 "nbformat_minor": 2
}
