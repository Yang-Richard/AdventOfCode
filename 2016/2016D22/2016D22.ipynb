{
 "cells": [
  {
   "cell_type": "code",
   "execution_count": 3,
   "metadata": {
    "scrolled": false
   },
   "outputs": [
    {
     "name": "stdout",
     "output_type": "stream",
     "text": [
      "941\n",
      "0:00:00.449\n"
     ]
    }
   ],
   "source": [
    "from datetime import datetime\n",
    "startTime = datetime.now()\n",
    "\n",
    "filepath = 'input.txt'\n",
    "\n",
    "nodes = {}\n",
    "with open(filepath) as f:\n",
    "    for line in f.readlines():\n",
    "        if line[0] == '/':\n",
    "            data = list(filter(None, line.strip().split(' ')))\n",
    "            x, y = int(data[0].split('-')[1][1:]), int(data[0].split('-')[2][1:])\n",
    "            nodes[x, y] = [int(data[1][:-1]), int(data[2][:-1]), int(data[3][:-1]), int(data[4][:-1])]\n",
    "#print(nodes)\n",
    "#print(len(nodes))\n",
    "\n",
    "viable_pairs = 0\n",
    "from itertools import combinations\n",
    "\n",
    "for a, b in combinations(nodes, 2):\n",
    "    #print(nodes[a], nodes[b])\n",
    "    if a != b:\n",
    "        if (nodes[a][1] != 0 and nodes[a][1] < nodes[b][2]) or (nodes[b][1] != 0 and nodes[b][1] < nodes[a][2]):\n",
    "            viable_pairs += 1\n",
    "            \n",
    "print(viable_pairs)\n",
    "\n",
    "#Filesystem              Size  Used  Avail  Use%\n",
    "\n",
    "\n",
    "print(str(datetime.now() - startTime)[:-3])\n",
    "# 3429606717\n",
    "# 33679"
   ]
  },
  {
   "cell_type": "code",
   "execution_count": null,
   "metadata": {},
   "outputs": [],
   "source": []
  }
 ],
 "metadata": {
  "kernelspec": {
   "display_name": "Python 3",
   "language": "python",
   "name": "python3"
  },
  "language_info": {
   "codemirror_mode": {
    "name": "ipython",
    "version": 3
   },
   "file_extension": ".py",
   "mimetype": "text/x-python",
   "name": "python",
   "nbconvert_exporter": "python",
   "pygments_lexer": "ipython3",
   "version": "3.7.2"
  }
 },
 "nbformat": 4,
 "nbformat_minor": 2
}
