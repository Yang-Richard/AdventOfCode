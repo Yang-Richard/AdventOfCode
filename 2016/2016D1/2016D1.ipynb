{
 "cells": [
  {
   "cell_type": "code",
   "execution_count": 37,
   "metadata": {
    "scrolled": false
   },
   "outputs": [
    {
     "name": "stdout",
     "output_type": "stream",
     "text": [
      "(236, 182) 0:00:00.001\n"
     ]
    }
   ],
   "source": [
    "#!/usr/bin/python\n",
    "filepath = 'test.txt'\n",
    "filepath = 'input.txt'\n",
    "\n",
    "from datetime import datetime\n",
    "import re\n",
    "startTime = datetime.now()\n",
    "\n",
    "def main():\n",
    "    with open(filepath) as f:\n",
    "        for line in f.readlines():\n",
    "            movements = line.strip().split(', ')\n",
    "        f.close() \n",
    "    \n",
    "    pos = (0,0) # x, y\n",
    "    direction = 0\n",
    "    visited = set()\n",
    "    result2 = -1\n",
    "    \n",
    "    direction_mulitply = [[0, 1], [1, 0], [0, -1],[-1, 0]] # N, E, S, W\n",
    "    direction_change = {'R': lambda x: (x+1) % 4, 'L': lambda x: (x-1) % 4}\n",
    "    \n",
    "    for movement in movements:\n",
    "        \n",
    "        d, n = movement[0], int(movement[1:])\n",
    "        direction = direction_change[d](direction)\n",
    "        \n",
    "        for move in range(n):\n",
    "            pos = (pos[0] + direction_mulitply[direction%4][0], pos[1] + direction_mulitply[direction%4][1])\n",
    "\n",
    "            if pos in visited and result2 == -1:\n",
    "                result2 = abs(pos[0]) + abs(pos[1])\n",
    "\n",
    "            visited.add(pos)\n",
    "\n",
    "    return abs(pos[0]) + abs(pos[1]), result2\n",
    "            \n",
    "if __name__ == '__main__':\n",
    "    print(main(), str(datetime.now() - startTime)[:-3]) # (236, 182) 0:00:00.001"
   ]
  },
  {
   "cell_type": "code",
   "execution_count": null,
   "metadata": {},
   "outputs": [],
   "source": []
  }
 ],
 "metadata": {
  "kernelspec": {
   "display_name": "Python 3",
   "language": "python",
   "name": "python3"
  },
  "language_info": {
   "codemirror_mode": {
    "name": "ipython",
    "version": 3
   },
   "file_extension": ".py",
   "mimetype": "text/x-python",
   "name": "python",
   "nbconvert_exporter": "python",
   "pygments_lexer": "ipython3",
   "version": "3.7.2"
  }
 },
 "nbformat": 4,
 "nbformat_minor": 2
}
