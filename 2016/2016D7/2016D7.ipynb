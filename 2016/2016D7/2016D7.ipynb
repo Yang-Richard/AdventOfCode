{
 "cells": [
  {
   "cell_type": "code",
   "execution_count": 34,
   "metadata": {
    "scrolled": false
   },
   "outputs": [
    {
     "name": "stdout",
     "output_type": "stream",
     "text": [
      "(118, 260) 0:00:00.095\n"
     ]
    }
   ],
   "source": [
    "#!/usr/bin/python\n",
    "\n",
    "#filepath = 'test.txt'\n",
    "#filepath = 'test2.txt'\n",
    "filepath = 'input.txt'\n",
    "\n",
    "from datetime import datetime\n",
    "startTime = datetime.now()\n",
    "\n",
    "ip_list = []\n",
    "with open(filepath) as f:\n",
    "    for line in f.readlines():\n",
    "        ip_list.append(line.strip())\n",
    "    f.close()\n",
    "    \n",
    "def check_TLS(phrases):\n",
    "    for phrase in phrases:\n",
    "        for i in range(0, len(phrase)-3):\n",
    "            chars = phrase[i:i+4]\n",
    "            if chars[1] == chars[2] and chars[0] == chars[3] and chars[0] != chars[1]:\n",
    "                return True\n",
    "    return False\n",
    "\n",
    "def check_SLS(phrases):\n",
    "    valid = set()\n",
    "    for phrase in phrases:\n",
    "        for i in range(0, len(phrase)-2):\n",
    "            chars = phrase[i:i+3]\n",
    "            if chars[0] == chars[2] and chars[0] != chars[1]:\n",
    "                valid.add(chars)\n",
    "    return valid\n",
    "\n",
    "def check_SLS_pair(good, bad):\n",
    "    good_chars, bad_chars = check_SLS(good), check_SLS(bad)\n",
    "    for good_char in good_chars:\n",
    "        if good_char[1] + good_char[0] + good_char[1] in bad_chars:\n",
    "            return True\n",
    "    return False\n",
    "    \n",
    "def main():\n",
    "    result1, result2 = 0, 0\n",
    "    \n",
    "    for ip in ip_list:\n",
    "        good, bad = [], []\n",
    "        \n",
    "        while ip.find('[') != -1:\n",
    "            good.append(ip[:ip.find('[')])\n",
    "            bad.append(ip[ip.find('[')+1:ip.find(']')])\n",
    "            ip = ip[ip.find(']')+1:]\n",
    "        good.append(ip)\n",
    "\n",
    "        result1 += check_TLS(good) and not check_TLS(bad)\n",
    "        result2 += check_SLS_pair(good, bad)\n",
    "            \n",
    "    return result1, result2\n",
    "            \n",
    "if __name__ == '__main__':\n",
    "    print(main(), str(datetime.now() - startTime)[:-3]) # (118, 260) 0:00:00.094"
   ]
  },
  {
   "cell_type": "code",
   "execution_count": null,
   "metadata": {},
   "outputs": [],
   "source": []
  }
 ],
 "metadata": {
  "kernelspec": {
   "display_name": "Python 3",
   "language": "python",
   "name": "python3"
  },
  "language_info": {
   "codemirror_mode": {
    "name": "ipython",
    "version": 3
   },
   "file_extension": ".py",
   "mimetype": "text/x-python",
   "name": "python",
   "nbconvert_exporter": "python",
   "pygments_lexer": "ipython3",
   "version": "3.7.2"
  }
 },
 "nbformat": 4,
 "nbformat_minor": 2
}
