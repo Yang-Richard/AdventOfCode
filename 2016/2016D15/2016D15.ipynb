{
 "cells": [
  {
   "cell_type": "code",
   "execution_count": 34,
   "metadata": {
    "scrolled": false
   },
   "outputs": [
    {
     "name": "stdout",
     "output_type": "stream",
     "text": [
      "148737 2353212 0:00:01.631\n"
     ]
    }
   ],
   "source": [
    "from datetime import datetime\n",
    "startTime = datetime.now()\n",
    "\n",
    "filepath = 'input.txt'\n",
    "\n",
    "def main(discs):\n",
    "    wait_time = 0\n",
    "    valid_wait_time = True\n",
    "    \n",
    "    while 1:\n",
    "        valid_wait_time = True\n",
    "        \n",
    "        for n, disc in enumerate(discs):\n",
    "            if (wait_time + n + 1 + disc[1]) % disc[0] != 0:\n",
    "                valid_wait_time = False\n",
    "                break\n",
    "                \n",
    "        if valid_wait_time:\n",
    "            return wait_time\n",
    "        \n",
    "        wait_time += 1\n",
    "        \n",
    "if __name__ == '__main__':\n",
    "    discs = []\n",
    "    with open(filepath) as f:\n",
    "        for line in f.readlines():\n",
    "            positions, initial = int(line.strip().split(' ')[3]), int(line.strip().split(' ')[-1][:-1])\n",
    "            discs.append((positions, initial))\n",
    "    f.close()\n",
    "    \n",
    "    print(main(discs), main(discs + [(11, 0)]), str(datetime.now() - startTime)[:-3]) # 148737 2353212 0:00:01.631"
   ]
  },
  {
   "cell_type": "code",
   "execution_count": null,
   "metadata": {},
   "outputs": [],
   "source": []
  }
 ],
 "metadata": {
  "kernelspec": {
   "display_name": "Python 3",
   "language": "python",
   "name": "python3"
  },
  "language_info": {
   "codemirror_mode": {
    "name": "ipython",
    "version": 3
   },
   "file_extension": ".py",
   "mimetype": "text/x-python",
   "name": "python",
   "nbconvert_exporter": "python",
   "pygments_lexer": "ipython3",
   "version": "3.7.2"
  }
 },
 "nbformat": 4,
 "nbformat_minor": 2
}
