{
 "cells": [
  {
   "cell_type": "code",
   "execution_count": 138,
   "metadata": {
    "scrolled": false
   },
   "outputs": [
    {
     "name": "stdout",
     "output_type": "stream",
     "text": [
      "11100111011101111\n",
      "10001110010000110\n",
      "0:00:04.190\n"
     ]
    }
   ],
   "source": [
    "from datetime import datetime\n",
    "startTime = datetime.now()\n",
    "\n",
    "def main(min_length):\n",
    "    a = '01110110101001000'\n",
    "\n",
    "    while len(a) < min_length:\n",
    "        a = a + '0' + ''.join('0' if i == '1' else '1' for i in reversed(a))\n",
    "    a = a[:min_length]\n",
    "    \n",
    "    size = len(a)\n",
    "    while size%2 != 1:\n",
    "        size //= 2\n",
    "    check_size = len(a)//size\n",
    "\n",
    "    checksum = ''\n",
    "    for i in range(size):\n",
    "        checksum = checksum + str(a[i*check_size:(i+1)*check_size].count('1')%2^1)\n",
    "\n",
    "    return checksum\n",
    "        \n",
    "if __name__ == '__main__':\n",
    "    print(main(272))\n",
    "    print(main(35651584))\n",
    "    print(str(datetime.now() - startTime)[:-3]) \n",
    "    \n",
    "    '''\n",
    "    11100111011101111\n",
    "    10001110010000110\n",
    "    0:00:04.190\n",
    "    '''"
   ]
  },
  {
   "cell_type": "code",
   "execution_count": null,
   "metadata": {},
   "outputs": [],
   "source": []
  }
 ],
 "metadata": {
  "kernelspec": {
   "display_name": "Python 3",
   "language": "python",
   "name": "python3"
  },
  "language_info": {
   "codemirror_mode": {
    "name": "ipython",
    "version": 3
   },
   "file_extension": ".py",
   "mimetype": "text/x-python",
   "name": "python",
   "nbconvert_exporter": "python",
   "pygments_lexer": "ipython3",
   "version": "3.7.2"
  }
 },
 "nbformat": 4,
 "nbformat_minor": 2
}
