{
 "cells": [
  {
   "cell_type": "code",
   "execution_count": 140,
   "metadata": {
    "scrolled": false
   },
   "outputs": [
    {
     "name": "stdout",
     "output_type": "stream",
     "text": [
      "(278221, 267) 0:00:00.019\n"
     ]
    }
   ],
   "source": [
    "#!/usr/bin/python\n",
    "filepath = 'test.txt'\n",
    "filepath = 'input.txt'\n",
    "\n",
    "from datetime import datetime\n",
    "from collections import Counter\n",
    "import re\n",
    "startTime = datetime.now()\n",
    "\n",
    "rooms = []\n",
    "with open(filepath) as f:\n",
    "    for line in f.readlines():\n",
    "        rooms.append(line.strip())\n",
    "    f.close()\n",
    "    \n",
    "ALPHABET = 'abcdefghijklmnopqrstuvwxyz'\n",
    "    \n",
    "def check_room_validity(room):\n",
    "    name, sector_id, checksum = room[:-10].replace('-', ''), int(room[-10:-7]), room[-6:-1]\n",
    "    occurances = Counter(name)\n",
    "    \n",
    "    for i in range(4):\n",
    "        if occurances[checksum[i]] < occurances[checksum[i+1]]:       \n",
    "            return 0\n",
    "        elif occurances[checksum[i]] == occurances[checksum[i+1]] and checksum[i] > checksum[i+1]:\n",
    "            return 0\n",
    "        else:\n",
    "            pass\n",
    "        \n",
    "    for check in checksum:\n",
    "        del occurances[check]\n",
    "    if occurances and max(occurances.values()) > name.count(checksum[4]):\n",
    "        return 0\n",
    "        \n",
    "    return sector_id\n",
    "    \n",
    "def decrypt_name(room):\n",
    "    decrypted = ''\n",
    "    name, sector_id = room[:-10], int(room[-10:-7])\n",
    "    \n",
    "    for letter in name:\n",
    "        if letter != '-':\n",
    "            decrypted = decrypted + ALPHABET[(ALPHABET.index(letter) + sector_id)%26]\n",
    "        else:\n",
    "            decrypted = decrypted + ' '\n",
    "            \n",
    "    return decrypted\n",
    "\n",
    "def main():\n",
    "    result1, result2 = 0, 0\n",
    "    \n",
    "    for room in rooms:\n",
    "        val = check_room_validity(room)\n",
    "        if val != 0:\n",
    "            result1 += check_room_validity(room)\n",
    "            \n",
    "            if decrypt_name(room) == 'northpole object storage ' and result2 == 0:\n",
    "                result2 = int(room[-10:-7])\n",
    "        \n",
    "    return result1, result2\n",
    "            \n",
    "if __name__ == '__main__':\n",
    "    print(main(), str(datetime.now() - startTime)[:-3]) # (278221, 267) 0:00:00.019"
   ]
  },
  {
   "cell_type": "code",
   "execution_count": null,
   "metadata": {},
   "outputs": [],
   "source": []
  }
 ],
 "metadata": {
  "kernelspec": {
   "display_name": "Python 3",
   "language": "python",
   "name": "python3"
  },
  "language_info": {
   "codemirror_mode": {
    "name": "ipython",
    "version": 3
   },
   "file_extension": ".py",
   "mimetype": "text/x-python",
   "name": "python",
   "nbconvert_exporter": "python",
   "pygments_lexer": "ipython3",
   "version": "3.6.8"
  }
 },
 "nbformat": 4,
 "nbformat_minor": 2
}
