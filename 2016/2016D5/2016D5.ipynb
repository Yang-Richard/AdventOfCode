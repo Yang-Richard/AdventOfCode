{
 "cells": [
  {
   "cell_type": "code",
   "execution_count": 33,
   "metadata": {
    "scrolled": false
   },
   "outputs": [
    {
     "name": "stdout",
     "output_type": "stream",
     "text": [
      "____c___\n",
      "____cb__\n",
      "___0cb__\n",
      "_0_0cb__\n",
      "_050cb__\n",
      "_050cb_d\n",
      "_050cbbd\n",
      "1050cbbd\n",
      "\n",
      "('4543c154', '1050cbbd') 0:00:48.458\n"
     ]
    }
   ],
   "source": [
    "#!/usr/bin/python\n",
    "\n",
    "from datetime import datetime\n",
    "import hashlib\n",
    "startTime = datetime.now()\n",
    "\n",
    "ID = 'ojvtpuvg'\n",
    "\n",
    "def main():\n",
    "    result1, result2 = '', ['_']*8\n",
    "    index, result2_valid = 0, 0\n",
    "    \n",
    "    while 1:\n",
    "        a = hashlib.md5((ID+str(index)).encode())\n",
    "        \n",
    "        if a.hexdigest()[:5] == '00000':\n",
    "            result1 = result1 + a.hexdigest()[5]\n",
    "            \n",
    "            if a.hexdigest()[5].isdigit() and int(a.hexdigest()[5]) < 8 and result2[int(a.hexdigest()[5])] == '_':\n",
    "                result2[int(a.hexdigest()[5])] = a.hexdigest()[6]\n",
    "                result2_valid += 1\n",
    "                print(''.join(result2))\n",
    "                \n",
    "        index += 1\n",
    "        \n",
    "        if result2_valid == 8:\n",
    "            print()\n",
    "            return result1[:8], ''.join(result2)\n",
    "        \n",
    "    return result1, result2\n",
    "            \n",
    "if __name__ == '__main__':\n",
    "    print(main(), str(datetime.now() - startTime)[:-3]) # ('4543c154', '1050cbbd') 0:00:48.458"
   ]
  },
  {
   "cell_type": "code",
   "execution_count": null,
   "metadata": {},
   "outputs": [],
   "source": []
  }
 ],
 "metadata": {
  "kernelspec": {
   "display_name": "Python 3",
   "language": "python",
   "name": "python3"
  },
  "language_info": {
   "codemirror_mode": {
    "name": "ipython",
    "version": 3
   },
   "file_extension": ".py",
   "mimetype": "text/x-python",
   "name": "python",
   "nbconvert_exporter": "python",
   "pygments_lexer": "ipython3",
   "version": "3.7.2"
  }
 },
 "nbformat": 4,
 "nbformat_minor": 2
}
