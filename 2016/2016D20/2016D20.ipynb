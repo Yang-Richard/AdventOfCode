{
 "cells": [
  {
   "cell_type": "code",
   "execution_count": 84,
   "metadata": {},
   "outputs": [
    {
     "name": "stdout",
     "output_type": "stream",
     "text": [
      "31053880\n",
      "117\n",
      "0:00:00.161\n"
     ]
    }
   ],
   "source": [
    "from datetime import datetime\n",
    "startTime = datetime.now()\n",
    "\n",
    "filepath = 'input.txt'\n",
    "MAX_IP = 4294967295\n",
    "\n",
    "def find_lowest_ip(blocked_ips):\n",
    "    ip = 0\n",
    "    while True:\n",
    "        i = 0\n",
    "        while i < len(blocked_ips):\n",
    "            if blocked_ips[i][0] <= ip <= blocked_ips[i][1]:\n",
    "                ip = blocked_ips[i][1] + 1\n",
    "                break\n",
    "            i += 1\n",
    "        else:\n",
    "            return ip\n",
    "\n",
    "def find_num_ips(blocked_ips):\n",
    "    ip, allowed_ips, last_blocked = 0, 0, 0\n",
    "\n",
    "    while True:\n",
    "        i, max_allowed = 0, -1\n",
    "        \n",
    "        while i < len(blocked):\n",
    "            if blocked_ips[i][0] <= ip <= blocked_ips[i][1]:\n",
    "                ip = blocked_ips[i][1] + 1\n",
    "                last_blocked = blocked_ips[i][1]\n",
    "                if ip == MAX_IP + 1:\n",
    "                    return allowed_ips\n",
    "                break\n",
    "            elif last_blocked < ip < blocked_ips[i][0]:\n",
    "                if blocked_ips[i][0] < max_allowed or max_allowed == -1:\n",
    "                    max_allowed = blocked_ips[i][0]\n",
    "            else:\n",
    "                pass\n",
    "            \n",
    "            i += 1\n",
    "        else:  \n",
    "            ip = max_allowed\n",
    "            allowed_ips += max_allowed - 1 - last_blocked\n",
    "                \n",
    "blocked_ips = []\n",
    "with open(filepath, 'r') as f:\n",
    "    for line in f.readlines():\n",
    "        blocked_ips.append([int(i) for i in line.split('-')])\n",
    "\n",
    "        \n",
    "print(find_lowest_ip(blocked_ips))\n",
    "print(find_num_ips(blocked_ips))\n",
    "print(str(datetime.now() - startTime)[:-3])"
   ]
  },
  {
   "cell_type": "code",
   "execution_count": null,
   "metadata": {},
   "outputs": [],
   "source": []
  }
 ],
 "metadata": {
  "kernelspec": {
   "display_name": "Python 3",
   "language": "python",
   "name": "python3"
  },
  "language_info": {
   "codemirror_mode": {
    "name": "ipython",
    "version": 3
   },
   "file_extension": ".py",
   "mimetype": "text/x-python",
   "name": "python",
   "nbconvert_exporter": "python",
   "pygments_lexer": "ipython3",
   "version": "3.7.2"
  }
 },
 "nbformat": 4,
 "nbformat_minor": 2
}
