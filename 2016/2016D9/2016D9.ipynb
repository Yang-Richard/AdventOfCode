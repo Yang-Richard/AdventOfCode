{
 "cells": [
  {
   "cell_type": "code",
   "execution_count": 82,
   "metadata": {},
   "outputs": [
    {
     "name": "stdout",
     "output_type": "stream",
     "text": [
      "(150914, 11052855125) 0:00:00.026\n"
     ]
    }
   ],
   "source": [
    "#!/usr/bin/python\n",
    "\n",
    "filepath = 'input.txt'\n",
    "\n",
    "from datetime import datetime\n",
    "startTime = datetime.now()\n",
    "\n",
    "def p1(data):\n",
    "    decompressed_size = 0\n",
    "    \n",
    "    while '(' in data:\n",
    "        decompressed_size += len(data[:data.find('(')])\n",
    "        length = int(data[data.find('(')+1:data.find('x')])\n",
    "        times = int(data[data.find('x')+1:data.find(')')])\n",
    "        \n",
    "        decompressed_size += len(data[data.find(')')+1:data.find(')') + length + 1] * times)\n",
    "        data = data[data.find(')') + length + 1:]\n",
    "\n",
    "    return decompressed_size + len(data)\n",
    "\n",
    "def p2(data_raw):\n",
    "    data = []\n",
    "    decompressed_size = 0\n",
    "    \n",
    "    while len(data_raw) != 0:\n",
    "        if data_raw.find('(') == 0:\n",
    "            length = int(data_raw[data_raw.find('(')+1:data_raw.find('x')])\n",
    "            times = int(data_raw[data_raw.find('x')+1:data_raw.find(')')])\n",
    "            data.append([length, times, len(str(length) + str(times)) + 3])\n",
    "            data_raw = data_raw[data_raw.find(')')+1:]\n",
    "            \n",
    "        else:\n",
    "            data.append([data_raw[0], 1])\n",
    "            data_raw = data_raw[1:]\n",
    "             \n",
    "    i = 0\n",
    "    while i < len(data):\n",
    "        if type(data[i][0]) == int:\n",
    "            spread, influence = 0, 1\n",
    "            \n",
    "            while spread < data[i][0]:\n",
    "                if type(data[i + influence][0]) == int:\n",
    "                    spread += data[i + influence][2]\n",
    "                    \n",
    "                else: \n",
    "                    data[i + influence][1] = data[i + influence][1] * data[i][1]\n",
    "                    spread += len(data[i + influence][0])\n",
    "                    \n",
    "                influence += 1\n",
    "        else:\n",
    "            decompressed_size += data[i][1]\n",
    "            \n",
    "        i += 1\n",
    "\n",
    "    return decompressed_size\n",
    "\n",
    "def main():\n",
    "    data = ''\n",
    "    with open(filepath) as f:\n",
    "        for line in f.readlines():\n",
    "            data = line.strip()\n",
    "        f.close()\n",
    "    \n",
    "    return p1(data), p2(data)\n",
    "    \n",
    "if __name__ == '__main__':\n",
    "    print(main(), str(datetime.now() - startTime)[:-3]) # (150914, 11052855125) 0:00:00.029"
   ]
  }
 ],
 "metadata": {
  "kernelspec": {
   "display_name": "Python 3",
   "language": "python",
   "name": "python3"
  },
  "language_info": {
   "codemirror_mode": {
    "name": "ipython",
    "version": 3
   },
   "file_extension": ".py",
   "mimetype": "text/x-python",
   "name": "python",
   "nbconvert_exporter": "python",
   "pygments_lexer": "ipython3",
   "version": "3.6.8"
  }
 },
 "nbformat": 4,
 "nbformat_minor": 2
}
