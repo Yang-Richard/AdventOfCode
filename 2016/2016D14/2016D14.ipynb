{
 "cells": [
  {
   "cell_type": "code",
   "execution_count": 102,
   "metadata": {
    "scrolled": false
   },
   "outputs": [
    {
     "name": "stdout",
     "output_type": "stream",
     "text": [
      "15035 19968 0:00:55.043\n"
     ]
    }
   ],
   "source": [
    "from datetime import datetime\n",
    "import hashlib\n",
    "from collections import deque\n",
    "startTime = datetime.now()\n",
    "\n",
    "ID = 'ihaygndm'\n",
    "\n",
    "def main(stretching = 1):\n",
    "    index, keys = 0, 0 \n",
    "    five_count = dict()\n",
    "    h = deque()\n",
    "    h.append(hashlib.md5((ID+str(index)).encode()).hexdigest())\n",
    "    \n",
    "    for n in range(1, 1001):\n",
    "        md5 = hashlib.md5((ID+str(n)).encode()).hexdigest()\n",
    "        for i in range(stretching-1):\n",
    "            md5 = hashlib.md5(md5.encode()).hexdigest() \n",
    "        h.append(md5)\n",
    "        \n",
    "        for i in range(len(md5) - 4):\n",
    "            vals = set([md5[i + n] for n in range(5)])\n",
    "            if len(vals) == 1:\n",
    "                (value,) = vals\n",
    "                if n not in five_count.keys():\n",
    "                    five_count[n] = []\n",
    "                five_count[n].append(value)\n",
    "    \n",
    "    while keys < 64:\n",
    "        md5 = h[0]\n",
    "        h.popleft()\n",
    "    \n",
    "        for i in range(len(md5) - 2):\n",
    "            vals = set([md5[i + n ] for n in range(3)])\n",
    "            if len(vals) == 1:\n",
    "                (value,) = vals\n",
    "                if value in {x for v in five_count.values() for x in v}:\n",
    "                    keys += 1 \n",
    "                break\n",
    "                \n",
    "        index += 1\n",
    "        five_count.pop(index, None)\n",
    "        \n",
    "        md5 = hashlib.md5((ID+str(index+1000)).encode()).hexdigest()\n",
    "        for i in range(stretching - 1):    \n",
    "            md5 = hashlib.md5(md5.encode()).hexdigest()    \n",
    "        h.append(md5)\n",
    "        \n",
    "        for i in range(len(md5) - 4):\n",
    "            vals = set([md5[i + n] for n in range(5)])\n",
    "            if len(vals) == 1:\n",
    "                (value,) = vals\n",
    "                if index+1000 not in five_count.keys():\n",
    "                    five_count[index+1000] = []\n",
    "                five_count[index+1000].append(value)\n",
    "                \n",
    "    return index - 1\n",
    "            \n",
    "if __name__ == '__main__':\n",
    "    print(main(), main(2017), str(datetime.now() - startTime)[:-3]) # 15035 19968 0:00:55.043"
   ]
  },
  {
   "cell_type": "code",
   "execution_count": null,
   "metadata": {},
   "outputs": [],
   "source": []
  }
 ],
 "metadata": {
  "kernelspec": {
   "display_name": "Python 3",
   "language": "python",
   "name": "python3"
  },
  "language_info": {
   "codemirror_mode": {
    "name": "ipython",
    "version": 3
   },
   "file_extension": ".py",
   "mimetype": "text/x-python",
   "name": "python",
   "nbconvert_exporter": "python",
   "pygments_lexer": "ipython3",
   "version": "3.7.2"
  }
 },
 "nbformat": 4,
 "nbformat_minor": 2
}
