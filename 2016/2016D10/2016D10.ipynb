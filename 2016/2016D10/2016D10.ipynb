{
 "cells": [
  {
   "cell_type": "code",
   "execution_count": 6,
   "metadata": {
    "scrolled": false
   },
   "outputs": [
    {
     "name": "stdout",
     "output_type": "stream",
     "text": [
      "(73, 3965) 0:00:00.012\n"
     ]
    }
   ],
   "source": [
    "#!/usr/bin/python\n",
    "\n",
    "filepath = 'input.txt'\n",
    "\n",
    "from datetime import datetime\n",
    "startTime = datetime.now()\n",
    "\n",
    "RESULT_1_COMPARISON = {17, 61}\n",
    "\n",
    "def main():\n",
    "    result1 = 0\n",
    "    init, instructions = [], []\n",
    "    bots, outputs = dict(), dict()\n",
    "    \n",
    "    with open(filepath) as f:\n",
    "        for line in f.readlines():\n",
    "            if line[0] == 'v':\n",
    "                i = line.strip().split(' ')\n",
    "                value, bot = int(i[1]), int(i[5])\n",
    "                \n",
    "                if bot not in bots:\n",
    "                    bots[bot] = set()\n",
    "                    \n",
    "                bots[bot].add(value)\n",
    "                assert len(bots[bot]) < 3, 'BOT HOLDS MORE THAN 2'\n",
    "                \n",
    "            else:\n",
    "                instructions.append(line.strip())            \n",
    "    f.close()\n",
    "        \n",
    "    i = 0\n",
    "    while True:\n",
    "        a = instructions[i].split(' ')  \n",
    "        bot, low_type, low_recipient, high_type, high_recipient = int(a[1]), a[5], int(a[6]), a[10], int(a[11])\n",
    "        \n",
    "        if bot in bots.keys() and len(bots[bot]) == 2:\n",
    "            low, high = min(bots[bot]), max(bots[bot])\n",
    "\n",
    "            if low_type == 'bot':\n",
    "                if low_recipient not in bots:\n",
    "                    bots[low_recipient] = set()\n",
    "                bots[low_recipient].add(low)\n",
    "                assert len(bots[low_recipient]) < 3, 'LOW BOT HOLDS MORE THAN 2'\n",
    "            else:\n",
    "                outputs[low_recipient] = low\n",
    "\n",
    "            if high_type == 'bot':\n",
    "                if high_recipient not in bots:\n",
    "                    bots[high_recipient] = set()\n",
    "                bots[high_recipient].add(high)\n",
    "                assert len(bots[high_recipient]) < 3, 'HIGH BOT HOLDS MORE THAN 2'\n",
    "            else:\n",
    "                outputs[high_recipient] = high\n",
    "\n",
    "            if {low, high} == RESULT_1_COMPARISON:\n",
    "                result1 = bot\n",
    "\n",
    "            bots[bot].clear()\n",
    "            del instructions[i]\n",
    "            \n",
    "        else:\n",
    "            i += 1\n",
    "        \n",
    "        if i >= len(instructions):\n",
    "            i = 0\n",
    "            \n",
    "        if len(instructions) == 0:\n",
    "            break\n",
    "            \n",
    "    return result1, outputs[0] * outputs[1] * outputs[2]\n",
    "    \n",
    "if __name__ == '__main__':\n",
    "    print(main(), str(datetime.now() - startTime)[:-3]) # (73, 3965) 0:00:00.012"
   ]
  },
  {
   "cell_type": "code",
   "execution_count": null,
   "metadata": {},
   "outputs": [],
   "source": []
  }
 ],
 "metadata": {
  "kernelspec": {
   "display_name": "Python 3",
   "language": "python",
   "name": "python3"
  },
  "language_info": {
   "codemirror_mode": {
    "name": "ipython",
    "version": 3
   },
   "file_extension": ".py",
   "mimetype": "text/x-python",
   "name": "python",
   "nbconvert_exporter": "python",
   "pygments_lexer": "ipython3",
   "version": "3.7.2"
  }
 },
 "nbformat": 4,
 "nbformat_minor": 2
}
