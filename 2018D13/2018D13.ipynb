{
 "cells": [
  {
   "cell_type": "code",
   "execution_count": 75,
   "metadata": {
    "scrolled": false
   },
   "outputs": [
    {
     "name": "stdout",
     "output_type": "stream",
     "text": [
      "8,25 [0, 'v', '|']\n",
      "67,25 [0, 'v', '|']\n",
      "140,26 [0, '^', '|']\n",
      "92,28 [0, '>', '-']\n",
      "145,36 [0, '^', '|']\n",
      "0,41 [0, '^', '|']\n",
      "118,57 [0, '<', '-']\n",
      "31,61 [0, '^', '|']\n",
      "124,67 [0, '<', '-']\n",
      "51,80 [0, '<', '-']\n",
      "72,80 [0, '>', '-']\n",
      "25,96 [0, '<', '-']\n",
      "127,109 [0, '^', '|']\n",
      "86,112 [0, '>', '-']\n",
      "115,124 [0, 'v', '|']\n",
      "8,145 [0, '<', '-']\n",
      "77,148 [0, '>', '-']\n",
      "\n",
      "\n"
     ]
    },
    {
     "ename": "KeyboardInterrupt",
     "evalue": "",
     "output_type": "error",
     "traceback": [
      "\u001b[0;31m---------------------------------------------------------------------------\u001b[0m",
      "\u001b[0;31mKeyboardInterrupt\u001b[0m                         Traceback (most recent call last)",
      "\u001b[0;32m<ipython-input-75-2784869a161a>\u001b[0m in \u001b[0;36m<module>\u001b[0;34m\u001b[0m\n\u001b[1;32m    150\u001b[0m \u001b[0;34m\u001b[0m\u001b[0m\n\u001b[1;32m    151\u001b[0m \u001b[0;32mif\u001b[0m \u001b[0m__name__\u001b[0m \u001b[0;34m==\u001b[0m \u001b[0;34m'__main__'\u001b[0m\u001b[0;34m:\u001b[0m\u001b[0;34m\u001b[0m\u001b[0;34m\u001b[0m\u001b[0m\n\u001b[0;32m--> 152\u001b[0;31m     \u001b[0mprint\u001b[0m\u001b[0;34m(\u001b[0m\u001b[0mmain\u001b[0m\u001b[0;34m(\u001b[0m\u001b[0;34m)\u001b[0m\u001b[0;34m,\u001b[0m \u001b[0mstr\u001b[0m\u001b[0;34m(\u001b[0m\u001b[0mdatetime\u001b[0m\u001b[0;34m.\u001b[0m\u001b[0mnow\u001b[0m\u001b[0;34m(\u001b[0m\u001b[0;34m)\u001b[0m \u001b[0;34m-\u001b[0m \u001b[0mstartTime\u001b[0m\u001b[0;34m)\u001b[0m\u001b[0;34m[\u001b[0m\u001b[0;34m:\u001b[0m\u001b[0;34m-\u001b[0m\u001b[0;36m3\u001b[0m\u001b[0;34m]\u001b[0m\u001b[0;34m)\u001b[0m \u001b[0;31m# 65,26 not correct\u001b[0m\u001b[0;34m\u001b[0m\u001b[0;34m\u001b[0m\u001b[0m\n\u001b[0m",
      "\u001b[0;32m<ipython-input-75-2784869a161a>\u001b[0m in \u001b[0;36mmain\u001b[0;34m()\u001b[0m\n\u001b[1;32m     46\u001b[0m                 \u001b[0mkey\u001b[0m \u001b[0;34m=\u001b[0m \u001b[0mstr\u001b[0m\u001b[0;34m(\u001b[0m\u001b[0mx\u001b[0m\u001b[0;34m)\u001b[0m \u001b[0;34m+\u001b[0m \u001b[0;34m','\u001b[0m \u001b[0;34m+\u001b[0m \u001b[0mstr\u001b[0m\u001b[0;34m(\u001b[0m\u001b[0my\u001b[0m\u001b[0;34m)\u001b[0m\u001b[0;34m\u001b[0m\u001b[0;34m\u001b[0m\u001b[0m\n\u001b[1;32m     47\u001b[0m \u001b[0;34m\u001b[0m\u001b[0m\n\u001b[0;32m---> 48\u001b[0;31m                 \u001b[0;32mif\u001b[0m \u001b[0mkey\u001b[0m \u001b[0;32mnot\u001b[0m \u001b[0;32min\u001b[0m \u001b[0mmoved\u001b[0m \u001b[0;32mand\u001b[0m \u001b[0mcart\u001b[0m \u001b[0;32min\u001b[0m \u001b[0mcart_img\u001b[0m\u001b[0;34m:\u001b[0m \u001b[0;31m#hasnt been moved yet, and is a cart\u001b[0m\u001b[0;34m\u001b[0m\u001b[0;34m\u001b[0m\u001b[0m\n\u001b[0m\u001b[1;32m     49\u001b[0m \u001b[0;34m\u001b[0m\u001b[0m\n\u001b[1;32m     50\u001b[0m                     \u001b[0;32mif\u001b[0m \u001b[0mcart\u001b[0m \u001b[0;34m==\u001b[0m \u001b[0;34m'v'\u001b[0m\u001b[0;34m:\u001b[0m\u001b[0;34m\u001b[0m\u001b[0;34m\u001b[0m\u001b[0m\n",
      "\u001b[0;31mKeyboardInterrupt\u001b[0m: "
     ]
    }
   ],
   "source": [
    "#!/usr/bin/python\n",
    "\n",
    "filepath = 'test.txt'\n",
    "filepath = 'input.txt'\n",
    "\n",
    "from datetime import datetime\n",
    "startTime = datetime.now()\n",
    "\n",
    "def main() -> \"result1, result2\":\n",
    "    grid = []\n",
    "    result1 , result2 = 0, 0\n",
    "    with open(filepath) as f:\n",
    "        for line in f.readlines():\n",
    "            grid.append(line.rstrip())\n",
    "        f.close()\n",
    "        \n",
    "    turns = ''\n",
    "    cart_img = 'v<^>'\n",
    "    normal_track_img = '|-|-'\n",
    "    carts = dict()\n",
    "    for y, line in enumerate(grid):\n",
    "        for x, item in enumerate(line):\n",
    "            if item in cart_img:\n",
    "                carts[str(x) + ',' + str(y)] = ([0, item, normal_track_img[cart_img.index(item)]]) # x, y, turn num, direction, track underneath\n",
    "                print(str(x) + ',' + str(y), carts[str(x) + ',' + str(y)])\n",
    "                \n",
    "    special = {'/': '<v>^', '\\\\': '>^<v', '+': '>v<^'}\n",
    "    special_chars = set(special.keys())\n",
    "\n",
    "    #for z in grid:\n",
    "    #   print(z)\n",
    "    print('\\n')\n",
    "    i = 0\n",
    "    crash, firstCrash = False, False\n",
    "    while(len(carts) > 1):# and i < 2):\n",
    "        i += 1\n",
    "        if i % 1000 == 0:\n",
    "            print(i,len(carts), carts)\n",
    "        #print('iteration', i)\n",
    "        moved = []\n",
    "        for y, line in enumerate(grid):\n",
    "            for x, cart in enumerate(line):\n",
    "                # EACH POSITION ON THE GRID\n",
    "                crash = False\n",
    "                next_pos = []\n",
    "                key = str(x) + ',' + str(y)\n",
    "                \n",
    "                if key not in moved and cart in cart_img: #hasnt been moved yet, and is a cart\n",
    "                    \n",
    "                    if cart == 'v':\n",
    "                        next_pos = [x, y+1]\n",
    "\n",
    "                    elif cart == '<':\n",
    "                        next_pos = [x-1, y]\n",
    "\n",
    "                    elif cart == '^':\n",
    "                        next_pos = [x, y-1]\n",
    "\n",
    "                    elif cart == '>':\n",
    "                        next_pos = [x+1, y]\n",
    "                        \n",
    "                    next_track = grid[next_pos[1]][next_pos[0]]\n",
    "                    next_key = (str(next_pos[0]) + ',' + str(next_pos[1]))\n",
    "                    \n",
    "\n",
    "                    if next_track in cart_img: #ie if crash\n",
    "                        #print(carts)\n",
    "\n",
    "                        #if x == 40 and y == 8:\n",
    "                        #    print(carts)\n",
    "                        for a in range(5):\n",
    "                            print(grid[y-2+a][x-5:x+5])\n",
    "\n",
    "                        print('iteration', i)\n",
    "                        print(x,y, cart, carts[key][2])\n",
    "                        print(next_pos, next_track, carts[next_key][2])\n",
    "\n",
    "\n",
    "\n",
    "                    #replaces current grid spot with what used to be underneath\n",
    "                    grid[y] = grid[y][0:x] + carts[key][2] + grid[y][x+1:len(grid[y])]\n",
    "                    carts[key][2] = next_track\n",
    "                    \n",
    "                    if next_track in cart_img: #ie if crash\n",
    "\n",
    "                        \n",
    "                    \n",
    "                        # ONLY SEES A CART, CRASHES AND UPDATES RESULT 1 WITH CRASH LOCATION\n",
    "                        # CART IS STILL IN OLD POSITION, WHILE NEW POSITION HOLDS OPPOSING CART\n",
    "                        \n",
    "                        '''\n",
    "                        print('crash', carts)\n",
    "                        print('key, next key', key, next_key)\n",
    "                        print('current cart, crash cart', carts[key][1], next_track)\n",
    "                        print(next_pos[0], next_pos[1])\n",
    "                        print(crash, len(carts))\n",
    "                        \n",
    "                        '''\n",
    "                        #return str(result1[0]) + ',' + str(result1[1]), tuple(carts.keys())[0]\n",
    "                        if not firstCrash:\n",
    "                            \n",
    "                            result1 = *next_pos,\n",
    "                            print(\"FIRST CRASH\", result1)\n",
    "                            firstCrash = True\n",
    "                            #return result1\n",
    "                        \n",
    "                        \n",
    "                        # PUTS BOTH GRIDS BACK TO TRACK UNDERNEATH\n",
    "                        #grid[y] = grid[y][0:x] + normal_track_img[cart_img.index(cart)] + grid[y][x+1:len(grid[y])]\n",
    "                        grid[next_pos[1]] = grid[next_pos[1]][0:next_pos[0]] + carts[next_key][2] + grid[next_pos[1]][next_pos[0]+1:len(grid[next_pos[1]])]\n",
    "                        \n",
    "                        # DELETES BOTH CARTS FROM CARTS LIST\n",
    "                        del carts[key]\n",
    "                        del carts[next_key]\n",
    "                        crash = True\n",
    "                    \n",
    "                        for a in range(5):\n",
    "                            print(grid[y-2+a][x-5:x+5])\n",
    "                            print(cart)\n",
    "                            print(len(carts), carts)\n",
    "                            print('\\n\\n\\n')\n",
    "\n",
    "\n",
    "                    else: # elif next_track in special_chars or next_track in normal_track_img \n",
    "                        if next_track == '/':\n",
    "                            #print('updating special', key, next_track)\n",
    "                            carts[key][1] = special['/'][cart_img.index(cart)]\n",
    "                        elif next_track == '\\\\':\n",
    "                            #print('updating special', key, next_track)\n",
    "                            carts[key][1] = special['\\\\'][cart_img.index(cart)]\n",
    "                        elif next_track == '+':\n",
    "                            #print('updating special', key, next_track)    \n",
    "                            carts[key][1] = special['+'][(cart_img.index(cart) + carts[key][0]%3) % 4]\n",
    "                            carts[key][0] += 1\n",
    "                        else: # next cart is still the same, hasnt changed direction\n",
    "                            pass\n",
    "                        \n",
    "                        grid[next_pos[1]] = grid[next_pos[1]][0:next_pos[0]] + carts[key][1] + grid[next_pos[1]][next_pos[0]+1:len(grid[next_pos[1]])]\n",
    "                        carts[next_key] = carts.pop(key)\n",
    "                        moved.append(next_key)\n",
    "\n",
    "        #print(len(carts))\n",
    "    \n",
    "    #print(carts)\n",
    "    for z in grid:\n",
    "        print(z)\n",
    "\n",
    "    \n",
    "    return str(result1[0]) + ',' + str(result1[1]), tuple(carts.keys())[0]\n",
    "\n",
    "if __name__ == '__main__':\n",
    "    print(main(), str(datetime.now() - startTime)[:-3]) # 65,26 not correct"
   ]
  },
  {
   "cell_type": "code",
   "execution_count": null,
   "metadata": {},
   "outputs": [],
   "source": []
  },
  {
   "cell_type": "code",
   "execution_count": 21,
   "metadata": {},
   "outputs": [
    {
     "name": "stdout",
     "output_type": "stream",
     "text": [
      "2342\n"
     ]
    }
   ],
   "source": [
    "a = '1234231313'\n",
    "print(a[1:5])"
   ]
  },
  {
   "cell_type": "code",
   "execution_count": null,
   "metadata": {},
   "outputs": [],
   "source": [
    "# it is a blank spot\n",
    "# it is a normal cart movement\n",
    "# it is a crash"
   ]
  },
  {
   "cell_type": "code",
   "execution_count": 56,
   "metadata": {},
   "outputs": [
    {
     "name": "stdout",
     "output_type": "stream",
     "text": [
      "['a', 'b']\n"
     ]
    }
   ],
   "source": [
    "a = {'a':'1', 'b':'2'}\n",
    "print(list(a.keys()))"
   ]
  },
  {
   "cell_type": "code",
   "execution_count": null,
   "metadata": {},
   "outputs": [],
   "source": []
  }
 ],
 "metadata": {
  "kernelspec": {
   "display_name": "Python 3",
   "language": "python",
   "name": "python3"
  },
  "language_info": {
   "codemirror_mode": {
    "name": "ipython",
    "version": 3
   },
   "file_extension": ".py",
   "mimetype": "text/x-python",
   "name": "python",
   "nbconvert_exporter": "python",
   "pygments_lexer": "ipython3",
   "version": "3.7.2"
  }
 },
 "nbformat": 4,
 "nbformat_minor": 2
}