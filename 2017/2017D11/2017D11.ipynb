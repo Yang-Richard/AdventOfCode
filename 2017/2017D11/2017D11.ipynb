{
 "cells": [
  {
   "cell_type": "code",
   "execution_count": 27,
   "metadata": {
    "scrolled": false
   },
   "outputs": [
    {
     "name": "stdout",
     "output_type": "stream",
     "text": [
      "[-414, 306, -17]\n",
      "414\n",
      "None 0:00:00.006\n"
     ]
    }
   ],
   "source": [
    "#!/usr/bin/python\n",
    "filepath = 'test.txt'\n",
    "filepath = 'input.txt'\n",
    "\n",
    "from datetime import datetime\n",
    "import re\n",
    "startTime = datetime.now()\n",
    "\n",
    "def main():\n",
    "    path = []\n",
    "    \n",
    "    with open(filepath) as f:\n",
    "        for line in f.readlines():\n",
    "            path = line.strip().split(',')\n",
    "        f.close() \n",
    "    \n",
    "    move = {'nw': [-1,0,0], 'se': [1,0,0], 's': [0,-1,0], \n",
    "           'n': [0,1,0], 'ne': [0,0,-1], 'sw': [0,0,1],}\n",
    "    \n",
    "    pos = [0,0,0] # x y z\n",
    "    # x -> nw, se\n",
    "    # y -> s, n\n",
    "    # z -> ne, sw\n",
    "    for step in path:\n",
    "        #print(step)\n",
    "        pos = [a + b for a, b in zip(pos, move[step])]\n",
    "    print(pos)    \n",
    "    print(max([abs(val) for val in pos]))\n",
    "        \n",
    "if __name__ == '__main__':\n",
    "    print(main(), str(datetime.now() - startTime)[:-3]) # (4074, 2793) 0:00:00.317"
   ]
  },
  {
   "cell_type": "code",
   "execution_count": 23,
   "metadata": {},
   "outputs": [
    {
     "name": "stdout",
     "output_type": "stream",
     "text": [
      "['ne', 'ne', 'ne']\n",
      "3\n",
      "['ne', 'ne', 'ne']\n",
      "0\n",
      "['ne', 'ne', 'ne']\n",
      "2\n",
      "['ne', 'ne', 'ne']\n",
      "3\n"
     ]
    }
   ],
   "source": [
    "main('ne,ne,ne')\n",
    "main('ne,ne,sw,sw')\n",
    "main('ne,ne,s,s')\n",
    "main('se,sw,se,sw,sw')"
   ]
  },
  {
   "cell_type": "code",
   "execution_count": 14,
   "metadata": {},
   "outputs": [
    {
     "name": "stdout",
     "output_type": "stream",
     "text": [
      "61\n"
     ]
    }
   ],
   "source": [
    "print(\"{0:02x}\".format(ord('a')))"
   ]
  },
  {
   "cell_type": "code",
   "execution_count": 21,
   "metadata": {},
   "outputs": [
    {
     "data": {
      "text/plain": [
       "102"
      ]
     },
     "execution_count": 21,
     "metadata": {},
     "output_type": "execute_result"
    }
   ],
   "source": [
    "ord('f')"
   ]
  },
  {
   "cell_type": "code",
   "execution_count": 16,
   "metadata": {},
   "outputs": [
    {
     "data": {
      "text/plain": [
       "8.0"
      ]
     },
     "execution_count": 16,
     "metadata": {},
     "output_type": "execute_result"
    }
   ],
   "source": [
    "len('10100000110000100000000101110000')/4"
   ]
  },
  {
   "cell_type": "code",
   "execution_count": 30,
   "metadata": {},
   "outputs": [
    {
     "name": "stdout",
     "output_type": "stream",
     "text": [
      "720 1485\n",
      "None 0:00:00.010\n"
     ]
    }
   ],
   "source": [
    "#!/usr/bin/python\n",
    "filepath = 'test.txt'\n",
    "filepath = 'input.txt'\n",
    "\n",
    "from datetime import datetime\n",
    "import re\n",
    "startTime = datetime.now()\n",
    "\n",
    "def main():\n",
    "    path = []\n",
    "    \n",
    "    with open(filepath) as f:\n",
    "        for line in f.readlines():\n",
    "            path = line.strip().split(',')\n",
    "        f.close() \n",
    "    \n",
    "    move = {'nw': [-1,1,0], 'se': [1,-1,0], 's': [0,-1,1], \n",
    "           'n': [0,1,-1], 'ne': [1,0,-1], 'sw': [-1,0,1],}\n",
    "    \n",
    "    pos = [0,0,0] # x y z\n",
    "    # x -> nw, se\n",
    "    # y -> s, n\n",
    "    # z -> ne, sw\n",
    "    max_pos = 0\n",
    "    for step in path:\n",
    "        #print(step)\n",
    "        pos = [a + b for a, b in zip(pos, move[step])]\n",
    "        new_max = max([abs(val) for val in pos])\n",
    "        if new_max > max_pos:\n",
    "            max_pos = new_max \n",
    "    print(max([abs(val) for val in pos]), max_pos)\n",
    "        \n",
    "if __name__ == '__main__':\n",
    "    print(main(), str(datetime.now() - startTime)[:-3]) # (4074, 2793) 0:00:00.317"
   ]
  },
  {
   "cell_type": "code",
   "execution_count": null,
   "metadata": {},
   "outputs": [],
   "source": []
  }
 ],
 "metadata": {
  "kernelspec": {
   "display_name": "Python 3",
   "language": "python",
   "name": "python3"
  },
  "language_info": {
   "codemirror_mode": {
    "name": "ipython",
    "version": 3
   },
   "file_extension": ".py",
   "mimetype": "text/x-python",
   "name": "python",
   "nbconvert_exporter": "python",
   "pygments_lexer": "ipython3",
   "version": "3.6.8"
  }
 },
 "nbformat": 4,
 "nbformat_minor": 2
}
