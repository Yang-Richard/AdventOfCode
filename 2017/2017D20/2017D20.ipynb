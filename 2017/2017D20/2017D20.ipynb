{
 "cells": [
  {
   "cell_type": "code",
   "execution_count": 2,
   "metadata": {
    "scrolled": false
   },
   "outputs": [
    {
     "name": "stdout",
     "output_type": "stream",
     "text": [
      "125\n",
      "461\n",
      "0:00:04.627\n"
     ]
    }
   ],
   "source": [
    "from datetime import datetime\n",
    "startTime = datetime.now()\n",
    "import itertools\n",
    "\n",
    "filepath = 'input.txt'\n",
    "\n",
    "class Particle():\n",
    "    def __init__(self, position, velocity, acceleration):\n",
    "        self.position = position\n",
    "        self.velocity = velocity\n",
    "        self.acceleration = acceleration\n",
    "        self.manhatten = -1\n",
    "        self.has_collided = False\n",
    "        \n",
    "    def update(self):\n",
    "        for i in range(3):\n",
    "            self.velocity[i] += self.acceleration[i]\n",
    "            self.position[i] += self.velocity[i]\n",
    "        \n",
    "        self.manhatten = sum([abs(pos) for pos in self.position])\n",
    "            \n",
    "    def __eq__(self, other):\n",
    "        return self.position == other.position\n",
    "\n",
    "def main():\n",
    "    particles = []\n",
    "    with open(filepath) as f:\n",
    "        for line in f.readlines():\n",
    "            line = line.replace(' ', '').replace('<', ',').replace('>', ',').split(',')\n",
    "            p, v, a = [int(i) for i in line[1:4]], [int(i) for i in line[6:9]], [int(i) for i in line[11:14]]\n",
    "            particles.append(Particle(p, v, a))\n",
    "    f.close()\n",
    "    \n",
    "    t = 0\n",
    "    closest_particle_index = -1\n",
    "    while 1:\n",
    "        t += 1\n",
    "    \n",
    "        for particle in particles:\n",
    "            particle.update()\n",
    "         \n",
    "        manhattens = [particle.manhatten for particle in particles]\n",
    "        if closest_particle_index != manhattens.index(min(manhattens)):\n",
    "            closest_particle_index = manhattens.index(min(manhattens))\n",
    "\n",
    "        if t <= 41:\n",
    "            remaining_particles = [particle for particle in particles if not particle.has_collided ]\n",
    "            for a, b in itertools.combinations(remaining_particles, 2):\n",
    "                if a == b:\n",
    "                    a.has_collided = True\n",
    "                    b.has_collided = True\n",
    "                \n",
    "        if t == 359:\n",
    "            print(closest_particle_index)\n",
    "            print(len(remaining_particles))\n",
    "            break\n",
    "        \n",
    "if __name__ == '__main__': #125\n",
    "    main()\n",
    "    print(str(datetime.now() - startTime)[:-3]) \n",
    "    \n",
    "    '''\n",
    "    125\n",
    "    461\n",
    "    0:00:04.627\n",
    "    '''"
   ]
  },
  {
   "cell_type": "code",
   "execution_count": null,
   "metadata": {},
   "outputs": [],
   "source": []
  }
 ],
 "metadata": {
  "kernelspec": {
   "display_name": "Python 3",
   "language": "python",
   "name": "python3"
  },
  "language_info": {
   "codemirror_mode": {
    "name": "ipython",
    "version": 3
   },
   "file_extension": ".py",
   "mimetype": "text/x-python",
   "name": "python",
   "nbconvert_exporter": "python",
   "pygments_lexer": "ipython3",
   "version": "3.7.2"
  }
 },
 "nbformat": 4,
 "nbformat_minor": 2
}
