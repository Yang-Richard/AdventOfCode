{
 "cells": [
  {
   "cell_type": "code",
   "execution_count": 11,
   "metadata": {
    "scrolled": false
   },
   "outputs": [
    {
     "name": "stdout",
     "output_type": "stream",
     "text": [
      "46600 5e795c7b80dfbe7a937a2df1be7e3658 0:00:00.000\n"
     ]
    }
   ],
   "source": [
    "#!/usr/bin/python\n",
    "\n",
    "from datetime import datetime\n",
    "import re\n",
    "startTime = datetime.now()\n",
    "\n",
    "def single_round(cir, lengths, pos, skip):\n",
    "    \n",
    "    for l in lengths:\n",
    "        if l != 1:\n",
    "            if pos + l > len(cir):\n",
    "                sub_cir = cir[pos:len(cir)] + cir[:l-len(cir)+pos]\n",
    "                sub_cir.reverse()\n",
    "                cir = sub_cir[len(cir)-pos:] + cir[l-len(cir)+pos:pos] + sub_cir[:len(cir)-pos]\n",
    "            else:\n",
    "                sub_cir = cir[pos:pos+l]\n",
    "                sub_cir.reverse()\n",
    "                cir = cir[0:pos] + sub_cir + cir[pos+l:]\n",
    "                \n",
    "        pos = (pos + l + skip) % len(cir)   \n",
    "        skip += 1\n",
    "        \n",
    "    return cir, pos, skip\n",
    "\n",
    "def p1():\n",
    "    lengths = [18,1,0,161,255,137,254,252,14,95,165,33,181,168,2,188]\n",
    "    size, pos, skip = 256, 0, 0\n",
    "    cir = list(range(size)) \n",
    "    \n",
    "    cir, pos, skip = single_round(cir, lengths, pos, skip)\n",
    "    \n",
    "    return(cir[0] * cir[1])\n",
    "\n",
    "def p2():\n",
    "    inputs = '18,1,0,161,255,137,254,252,14,95,165,33,181,168,2,188'\n",
    "    \n",
    "    lengths = []\n",
    "    for i in inputs:\n",
    "        lengths.append(ord(i))\n",
    "    lengths = lengths + [17, 31, 73, 47, 23]\n",
    "    \n",
    "    size, pos, skip = 256, 0, 0\n",
    "    sparse_hash = list(range(size)) \n",
    "    \n",
    "    for i in range(1):\n",
    "        sparse_hash, pos, skip = single_round(sparse_hash, lengths, pos, skip)\n",
    "        \n",
    "    dense_hash = []\n",
    "    block_sum = 0\n",
    "    \n",
    "    for n, i in enumerate(sparse_hash):\n",
    "        block_sum = block_sum^i\n",
    "        if (n+1) % 16 == 0:\n",
    "            dense_hash.append(block_sum)\n",
    "            block_sum = 0\n",
    "\n",
    "    hex_string = ''\n",
    "    for val in dense_hash:\n",
    "        hex_string = hex_string + \"{0:02x}\".format(val)\n",
    "    \n",
    "    return hex_string\n",
    "            \n",
    "if __name__ == '__main__':\n",
    "    print(p1(), p2(), str(datetime.now() - startTime)[:-3]) # 46600 23234babdc6afa036749cfa9b597de1b 0:00:00.008"
   ]
  },
  {
   "cell_type": "code",
   "execution_count": 7,
   "metadata": {},
   "outputs": [
    {
     "name": "stdout",
     "output_type": "stream",
     "text": [
      "[65, 111, 67, 32, 50, 48, 49, 55]\n"
     ]
    }
   ],
   "source": [
    "    \n",
    "    '''\n",
    "    sparse_hash = \n",
    "    dense_hash = []\n",
    "    block_sum = 0\n",
    "    \n",
    "    for n, i in enumerate(sparse_hash):\n",
    "        block_sum = block_sum^i\n",
    "        if (n+1) % 16 == 0:\n",
    "            dense_hash.append(block_sum)\n",
    "            block_sum = 0\n",
    "    '''\n",
    "    a = 'AoC 2017'\n",
    "    dense_hash = [ord(i) for i in a]\n",
    "    print(dense_hash)\n",
    "    hex_string = ''\n",
    "    for val in dense_hash:\n",
    "        hex_string = hex_string + \"{0:02x}\".format(val)"
   ]
  },
  {
   "cell_type": "code",
   "execution_count": null,
   "metadata": {},
   "outputs": [],
   "source": []
  }
 ],
 "metadata": {
  "kernelspec": {
   "display_name": "Python 3",
   "language": "python",
   "name": "python3"
  },
  "language_info": {
   "codemirror_mode": {
    "name": "ipython",
    "version": 3
   },
   "file_extension": ".py",
   "mimetype": "text/x-python",
   "name": "python",
   "nbconvert_exporter": "python",
   "pygments_lexer": "ipython3",
   "version": "3.7.2"
  }
 },
 "nbformat": 4,
 "nbformat_minor": 2
}
