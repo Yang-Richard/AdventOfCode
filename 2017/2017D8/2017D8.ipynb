{
 "cells": [
  {
   "cell_type": "code",
   "execution_count": 1,
   "metadata": {
    "scrolled": false
   },
   "outputs": [
    {
     "name": "stdout",
     "output_type": "stream",
     "text": [
      "(4877, 5471) 0:00:00.002\n"
     ]
    }
   ],
   "source": [
    "#!/usr/bin/python\n",
    "filepath = 'test.txt'\n",
    "filepath = 'input.txt'\n",
    "\n",
    "from datetime import datetime\n",
    "import re\n",
    "startTime = datetime.now()\n",
    "\n",
    "def condition(l, r, op):\n",
    "    if op == '==':\n",
    "        return l == r\n",
    "    elif op == '!=':\n",
    "        return l != r \n",
    "    elif op == '>':\n",
    "        return l > r\n",
    "    elif op == '<':\n",
    "        return l < r \n",
    "    elif op == '<=':\n",
    "        return l <= r \n",
    "    elif op == '>=':\n",
    "        return l >= r \n",
    "    else:\n",
    "        print(op)\n",
    "\n",
    "def main():\n",
    "    data = []\n",
    "    with open(filepath) as f:\n",
    "        for line in f.readlines():\n",
    "            data.append(line.strip())\n",
    "        f.close()\n",
    "        \n",
    "    registers = {}\n",
    "    max_val = 0\n",
    "    for i in data:\n",
    "        command = i.split(' ')\n",
    "    \n",
    "        if command[0] not in registers.keys():\n",
    "            registers[command[0]] = 0\n",
    "        if command[4] not in registers.keys():\n",
    "            registers[command[4]] = 0\n",
    "\n",
    "        if condition(registers[command[4]], int(command[6]), command[5]):\n",
    "            if command[1] == 'inc':\n",
    "                registers[command[0]] += int(command[2])\n",
    "            elif command[1] == 'dec':\n",
    "                registers[command[0]] -= int(command[2])\n",
    "            else:\n",
    "                pass\n",
    "            \n",
    "            if registers[command[0]] > max_val:\n",
    "                max_val = registers[command[0]]\n",
    "    \n",
    "    return max(registers.values()), max_val\n",
    "    \n",
    "if __name__ == '__main__':\n",
    "    print(main(), str(datetime.now() - startTime)[:-3]) # (4877, 5471) 0:00:00.005"
   ]
  },
  {
   "cell_type": "code",
   "execution_count": null,
   "metadata": {},
   "outputs": [],
   "source": []
  }
 ],
 "metadata": {
  "kernelspec": {
   "display_name": "Python 3",
   "language": "python",
   "name": "python3"
  },
  "language_info": {
   "codemirror_mode": {
    "name": "ipython",
    "version": 3
   },
   "file_extension": ".py",
   "mimetype": "text/x-python",
   "name": "python",
   "nbconvert_exporter": "python",
   "pygments_lexer": "ipython3",
   "version": "3.6.8"
  }
 },
 "nbformat": 4,
 "nbformat_minor": 2
}
