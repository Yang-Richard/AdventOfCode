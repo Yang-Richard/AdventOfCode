{
 "cells": [
  {
   "cell_type": "code",
   "execution_count": 59,
   "metadata": {
    "scrolled": false
   },
   "outputs": [
    {
     "name": "stdout",
     "output_type": "stream",
     "text": [
      "480 349975 0:00:00.000\n"
     ]
    }
   ],
   "source": [
    "#!/usr/bin/python\n",
    "\n",
    "from datetime import datetime\n",
    "import re\n",
    "startTime = datetime.now()\n",
    "\n",
    "def p1(number):\n",
    "    lim = 1\n",
    "    dis_to_center = 0\n",
    "    \n",
    "    while number > lim*lim:\n",
    "        lim += 2\n",
    "        dis_to_center += 1\n",
    "    \n",
    "    max_num = lim*lim\n",
    "    \n",
    "    centers = [max_num-dis_to_center, max_num-dis_to_center*3, max_num-dis_to_center*5, max_num-dis_to_center*7]\n",
    "    distances = [abs(number-centers[0]), abs(number-centers[1]), abs(number-centers[2]), abs(number-centers[3])]\n",
    "\n",
    "    return min(distances) + dis_to_center\n",
    "\n",
    "def p2(number): #brute force, better way?\n",
    "    size = 11\n",
    "    arr = [[0 for x in range(size)] for y in range(size)]\n",
    "    mid = int(size/2)\n",
    "    arr[mid][mid] = 1\n",
    "        \n",
    "    dir_x = [1, 0, -1, 0]\n",
    "    dir_y = [0, -1, 0, 1]\n",
    "    \n",
    "    x, y = mid, mid\n",
    "    rot, move, tot_dis = 0, 0, 1\n",
    "    \n",
    "    while True:\n",
    "        for t in range(2):\n",
    "            for dis in range(tot_dis):\n",
    "                if (x == size-2 and y == size-2) or arr[y][x] > number:\n",
    "                    return arr[y][x]\n",
    "                \n",
    "                x += dir_x[rot%4]\n",
    "                y += dir_y[rot%4]\n",
    "                \n",
    "                value = 0\n",
    "                for a in [-1, 0, 1]:\n",
    "                    for b in [-1, 0, 1]:\n",
    "                        value += arr[y+a][x+b]\n",
    "                arr[y][x] = value\n",
    "                \n",
    "            rot += 1\n",
    "        tot_dis += 1\n",
    "if __name__ == '__main__':\n",
    "    n = 347991\n",
    "    print(p1(n), p2(n), str(datetime.now() - startTime)[:-3]) # 480 349975 0:00:00.000"
   ]
  },
  {
   "cell_type": "code",
   "execution_count": null,
   "metadata": {},
   "outputs": [],
   "source": []
  }
 ],
 "metadata": {
  "kernelspec": {
   "display_name": "Python 3",
   "language": "python",
   "name": "python3"
  },
  "language_info": {
   "codemirror_mode": {
    "name": "ipython",
    "version": 3
   },
   "file_extension": ".py",
   "mimetype": "text/x-python",
   "name": "python",
   "nbconvert_exporter": "python",
   "pygments_lexer": "ipython3",
   "version": "3.6.8"
  }
 },
 "nbformat": 4,
 "nbformat_minor": 2
}
