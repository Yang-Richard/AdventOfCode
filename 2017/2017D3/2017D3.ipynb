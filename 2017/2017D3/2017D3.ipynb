{
 "cells": [
  {
   "cell_type": "code",
   "execution_count": 1,
   "metadata": {
    "scrolled": false
   },
   "outputs": [
    {
     "name": "stdout",
     "output_type": "stream",
     "text": [
      "480 0:00:00.000\n"
     ]
    }
   ],
   "source": [
    "#!/usr/bin/python\n",
    "filepath = 'input.txt'\n",
    "\n",
    "from datetime import datetime\n",
    "import re\n",
    "startTime = datetime.now()\n",
    "\n",
    "def main():\n",
    "    with open(filepath) as f:\n",
    "        for line in f.readlines():\n",
    "            number = int(line);\n",
    "        f.close() \n",
    "    \n",
    "    number = 347991\n",
    "    lim = 1\n",
    "    dis_to_center = 0\n",
    "    \n",
    "    while number > lim*lim:\n",
    "        lim += 2\n",
    "        dis_to_center += 1\n",
    "    \n",
    "    max_num = lim*lim\n",
    "    \n",
    "    centers = [max_num-dis_to_center, max_num-dis_to_center*3, max_num-dis_to_center*5, max_num-dis_to_center*7]\n",
    "    distances = [abs(number-centers[0]), abs(number-centers[1]), abs(number-centers[2]), abs(number-centers[3])]\n",
    "    \n",
    "    return min(distances) + dis_to_center\n",
    "\n",
    "if __name__ == '__main__':\n",
    "    print(main(), str(datetime.now() - startTime)[:-3]) # 480 0:00:00.000"
   ]
  }
 ],
 "metadata": {
  "kernelspec": {
   "display_name": "Python 3",
   "language": "python",
   "name": "python3"
  },
  "language_info": {
   "codemirror_mode": {
    "name": "ipython",
    "version": 3
   },
   "file_extension": ".py",
   "mimetype": "text/x-python",
   "name": "python",
   "nbconvert_exporter": "python",
   "pygments_lexer": "ipython3",
   "version": "3.7.2"
  }
 },
 "nbformat": 4,
 "nbformat_minor": 2
}
