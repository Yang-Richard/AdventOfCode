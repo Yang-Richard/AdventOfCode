{
 "cells": [
  {
   "cell_type": "code",
   "execution_count": 44,
   "metadata": {},
   "outputs": [
    {
     "name": "stdout",
     "output_type": "stream",
     "text": [
      "('GSXDIPWTU', 16100)\n",
      "0:00:00.019\n"
     ]
    }
   ],
   "source": [
    "from datetime import datetime\n",
    "startTime = datetime.now()\n",
    "\n",
    "filepath = 'input.txt'\n",
    "\n",
    "DIRECTIONS = {0:(0, 1), 1:(-1, 0), 2:(0, -1), 3:(1, 0)}\n",
    "SIZE = 201\n",
    "\n",
    "def main():\n",
    "    grid = [[' ']*(SIZE+2)]\n",
    "    with open(filepath) as f:\n",
    "        for line in f.readlines():\n",
    "            grid.append([' '] + [x for x in line.rstrip('\\n')] + [' '])\n",
    "    f.close()\n",
    "    grid.append([' ']*(SIZE+2))\n",
    "    \n",
    "    pos = (grid[1].index('|'), 1)\n",
    "    d = 0\n",
    "    path = ''\n",
    "    steps = 0\n",
    "\n",
    "    while(1):\n",
    "        pos = (pos[0] + DIRECTIONS[d][0], pos[1] + DIRECTIONS[d][1])\n",
    "        grid_pos = grid[pos[1]][pos[0]]\n",
    "        steps += 1\n",
    "        \n",
    "        if grid_pos == ' ':\n",
    "            break\n",
    "        elif grid_pos == '+':\n",
    "            if grid[pos[1] + DIRECTIONS[(d+1)%4][1]][pos[0] + DIRECTIONS[(d+1)%4][0]] != ' ': # right\n",
    "                d = (d+1)%4\n",
    "            else: # left\n",
    "                d = (d-1)%4\n",
    "        elif grid_pos.isalpha():\n",
    "            path = path + grid_pos\n",
    "        else:\n",
    "            pass\n",
    "                \n",
    "    return path, steps\n",
    "    \n",
    "if __name__ == '__main__':\n",
    "    print(main())\n",
    "    print(str(datetime.now() - startTime)[:-3]) \n",
    "    \n",
    "    '''\n",
    "    ('GSXDIPWTU', 16100)\n",
    "    0:00:00.019\n",
    "    '''"
   ]
  }
 ],
 "metadata": {
  "kernelspec": {
   "display_name": "Python 3",
   "language": "python",
   "name": "python3"
  },
  "language_info": {
   "codemirror_mode": {
    "name": "ipython",
    "version": 3
   },
   "file_extension": ".py",
   "mimetype": "text/x-python",
   "name": "python",
   "nbconvert_exporter": "python",
   "pygments_lexer": "ipython3",
   "version": "3.7.2"
  }
 },
 "nbformat": 4,
 "nbformat_minor": 2
}
