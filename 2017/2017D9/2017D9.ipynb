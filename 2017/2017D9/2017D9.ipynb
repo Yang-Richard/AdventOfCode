{
 "cells": [
  {
   "cell_type": "code",
   "execution_count": 37,
   "metadata": {
    "scrolled": false
   },
   "outputs": [
    {
     "name": "stdout",
     "output_type": "stream",
     "text": [
      "(10616, 5101) 0:00:00.006\n"
     ]
    }
   ],
   "source": [
    "#!/usr/bin/python\n",
    "filepath = 'test.txt'\n",
    "filepath = 'input.txt'\n",
    "\n",
    "from datetime import datetime\n",
    "import re\n",
    "startTime = datetime.now()\n",
    "\n",
    "def main():\n",
    "\n",
    "    with open(filepath) as f:\n",
    "        for line in f.readlines():\n",
    "            stream = line.strip()\n",
    "        f.close()\n",
    "    \n",
    "    while stream.find('!') != -1:\n",
    "        stream = stream[:stream.index('!')] + stream[stream.index('!')+2:]\n",
    "        \n",
    "    garbage_count = 0\n",
    "    while stream.find('<') != -1:\n",
    "        garbage_count += stream.index('>') - stream.index('<') - 1\n",
    "        stream = stream[:stream.index('<')] + stream[stream.index('>')+1:]\n",
    "        \n",
    "    stream = stream.replace(',', '')\n",
    "    level, score = 0, 0\n",
    "    \n",
    "    for i in stream:\n",
    "        if i == '{':\n",
    "            level += 1\n",
    "            score += level\n",
    "        elif i == '}':\n",
    "            level -= 1\n",
    "        else:\n",
    "            print(i) # issue with garbage cleaning\n",
    "    \n",
    "    return score, garbage_count\n",
    "            \n",
    "if __name__ == '__main__':\n",
    "    print(main(), str(datetime.now() - startTime)[:-3]) # (10616, 5101) 0:00:00.006"
   ]
  },
  {
   "cell_type": "code",
   "execution_count": null,
   "metadata": {},
   "outputs": [],
   "source": []
  }
 ],
 "metadata": {
  "kernelspec": {
   "display_name": "Python 3",
   "language": "python",
   "name": "python3"
  },
  "language_info": {
   "codemirror_mode": {
    "name": "ipython",
    "version": 3
   },
   "file_extension": ".py",
   "mimetype": "text/x-python",
   "name": "python",
   "nbconvert_exporter": "python",
   "pygments_lexer": "ipython3",
   "version": "3.6.8"
  }
 },
 "nbformat": 4,
 "nbformat_minor": 2
}
