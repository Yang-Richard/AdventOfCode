{
 "cells": [
  {
   "cell_type": "code",
   "execution_count": 192,
   "metadata": {
    "scrolled": false
   },
   "outputs": [
    {
     "name": "stdout",
     "output_type": "stream",
     "text": [
      "kzltfq ['vnrmx', 'lrihy', 'arqoys', 'nsmoh'] [1871, 1871, 1877, 1871]\n",
      "hmvwl ['nswximo', 'tpphe', 'baewpe', 'hghnmib', 'kzltfq'] [101772, 101772, 101772, 101772, 101778]\n",
      "('hmvwl', 1853) 0:00:00.010\n"
     ]
    }
   ],
   "source": [
    "#!/usr/bin/python\n",
    "filepath = 'test.txt'\n",
    "filepath = 'input.txt'\n",
    "\n",
    "from datetime import datetime\n",
    "import re\n",
    "startTime = datetime.now()\n",
    "\n",
    "class Node(object):\n",
    "    def __init__(self, name):\n",
    "        self.name = name\n",
    "        self.children = []\n",
    "        self.weight = 0\n",
    "        self.parent = ''\n",
    "        self.total_weight = 0\n",
    "\n",
    "    def add_child(self, obj):\n",
    "        self.children.append(obj)\n",
    "\n",
    "def main():\n",
    "    data = []\n",
    "    with open(filepath) as f:\n",
    "        for line in f.readlines():\n",
    "            data.append(line)\n",
    "        f.close()\n",
    "        \n",
    "    discs = {}\n",
    "    for disc in data:\n",
    "        name = disc[0:disc.index(' ')]\n",
    "        if name not in discs:\n",
    "            discs[name] = Node(name)\n",
    "            \n",
    "        discs[name].weight = int(disc[disc.index('(')+1:disc.index(')')])\n",
    "        discs[name].total_weight += discs[name].weight\n",
    "        \n",
    "        par = discs[name].parent\n",
    "        while par != '':\n",
    "            discs[par].total_weight += discs[name].weight\n",
    "            par = discs[par].parent\n",
    "        \n",
    "        if not disc.find('-> ') == -1:\n",
    "            children = disc[disc.find('-> ')+3:].strip().split(', ')\n",
    "            for child in children:\n",
    "                if child not in discs:\n",
    "                    discs[child] = Node(child)\n",
    "                discs[name].add_child(child)\n",
    "                discs[child].parent = name\n",
    "                \n",
    "                par = name\n",
    "                while par != '':\n",
    "                    discs[par].total_weight += discs[child].total_weight\n",
    "                    par = discs[par].parent\n",
    "                    \n",
    "    lowest = [discs[i].name for i in discs if discs[i].parent == ''][0]\n",
    "    \n",
    "    for disc in discs:\n",
    "        if len(discs[disc].children) != 0:\n",
    "            weights = [discs[i].total_weight for i in discs[disc].children]\n",
    "            if max(weights) != min(weights):\n",
    "                print(disc, discs[disc].children, weights)\n",
    "                difference = max(weights) - min(weights)\n",
    "    \n",
    "    requirement = discs['arqoys'].weight-difference\n",
    "                \n",
    "    return lowest, requirement\n",
    "        \n",
    "if __name__ == '__main__':\n",
    "    print(main(), str(datetime.now() - startTime)[:-3]) # ('hmvwl', 1853) 0:00:00.010"
   ]
  },
  {
   "cell_type": "code",
   "execution_count": null,
   "metadata": {},
   "outputs": [],
   "source": []
  }
 ],
 "metadata": {
  "kernelspec": {
   "display_name": "Python 3",
   "language": "python",
   "name": "python3"
  },
  "language_info": {
   "codemirror_mode": {
    "name": "ipython",
    "version": 3
   },
   "file_extension": ".py",
   "mimetype": "text/x-python",
   "name": "python",
   "nbconvert_exporter": "python",
   "pygments_lexer": "ipython3",
   "version": "3.7.2"
  }
 },
 "nbformat": 4,
 "nbformat_minor": 2
}
