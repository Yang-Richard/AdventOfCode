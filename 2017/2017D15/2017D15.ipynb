{
 "cells": [
  {
   "cell_type": "code",
   "execution_count": 91,
   "metadata": {
    "scrolled": false
   },
   "outputs": [
    {
     "name": "stdout",
     "output_type": "stream",
     "text": [
      "600 313 0:00:29.285\n"
     ]
    }
   ],
   "source": [
    "#!/usr/bin/python\n",
    "\n",
    "from datetime import datetime\n",
    "import re\n",
    "startTime = datetime.now()\n",
    "    \n",
    "def p1():   \n",
    "    A, B = 699, 124\n",
    "    matches = 0\n",
    "    \n",
    "    for i in range(40000000):\n",
    "        A = (A * 16807) % 2147483647\n",
    "        B = (B * 48271) % 2147483647\n",
    "\n",
    "        matches += A & 0xFFFF == B & 0xFFFF\n",
    "        \n",
    "    return matches\n",
    "\n",
    "def p2():   \n",
    "    A, B = 699, 124\n",
    "    matches, judges = 0, 0\n",
    "    A_valid, B_valid = False, False\n",
    "    i = 0\n",
    "    \n",
    "    while True:\n",
    "        if not A_valid:\n",
    "            A = (A * 16807) % 2147483647\n",
    "            A_valid = True if A % 4 == 0 else False \n",
    "            \n",
    "        if not B_valid:\n",
    "            B = (B * 48271) % 2147483647\n",
    "            B_valid = True if B % 8 == 0 else False   \n",
    "        \n",
    "        if A_valid and B_valid:\n",
    "            matches += A & 0xFFFF == B & 0xFFFF\n",
    "            A_valid = False\n",
    "            B_valid = False\n",
    "            judges += 1\n",
    "            \n",
    "            if judges == 5000000:\n",
    "                break\n",
    "        i += 1\n",
    "        \n",
    "    return matches\n",
    "\n",
    "if __name__ == '__main__':\n",
    "    print(p1(), p2(), str(datetime.now() - startTime)[:-3]) # 600 313 0:00:29.285"
   ]
  },
  {
   "cell_type": "code",
   "execution_count": 92,
   "metadata": {},
   "outputs": [
    {
     "name": "stdout",
     "output_type": "stream",
     "text": [
      "(600, 313) 0:00:38.040\n"
     ]
    }
   ],
   "source": [
    "#!/usr/bin/python\n",
    "\n",
    "from datetime import datetime\n",
    "import re\n",
    "startTime = datetime.now()\n",
    "\n",
    "def gen_A(mod = 1):\n",
    "    A = 699\n",
    "    while True:\n",
    "        A = (A * 16807) % 2147483647\n",
    "        if A % mod == 0:\n",
    "            yield A\n",
    "            \n",
    "def gen_B(mod = 1):\n",
    "    B = 124\n",
    "    while True:\n",
    "        B = (B * 48271) % 2147483647\n",
    "        if B % mod == 0:\n",
    "            yield B\n",
    "    \n",
    "def main():   \n",
    "    matches_p1, matches_p2 = 0, 0\n",
    "    \n",
    "    A, B = gen_A(), gen_B()\n",
    "    for i in range(40000000):\n",
    "        matches_p1 += next(A) & 0xFFFF == next(B) & 0xFFFF\n",
    "        \n",
    "    A, B = gen_A(4), gen_B(8)\n",
    "    for i in range(5000000):\n",
    "        matches_p2 += next(A) & 0xFFFF == next(B) & 0xFFFF\n",
    "        \n",
    "    return matches_p1, matches_p2\n",
    "\n",
    "if __name__ == '__main__':\n",
    "    print(main(), str(datetime.now() - startTime)[:-3]) # (600, 313) 0:00:38.040"
   ]
  },
  {
   "cell_type": "code",
   "execution_count": null,
   "metadata": {},
   "outputs": [],
   "source": []
  }
 ],
 "metadata": {
  "kernelspec": {
   "display_name": "Python 3",
   "language": "python",
   "name": "python3"
  },
  "language_info": {
   "codemirror_mode": {
    "name": "ipython",
    "version": 3
   },
   "file_extension": ".py",
   "mimetype": "text/x-python",
   "name": "python",
   "nbconvert_exporter": "python",
   "pygments_lexer": "ipython3",
   "version": "3.6.8"
  }
 },
 "nbformat": 4,
 "nbformat_minor": 2
}
