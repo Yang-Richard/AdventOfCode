{
 "cells": [
  {
   "cell_type": "code",
   "execution_count": 11,
   "metadata": {},
   "outputs": [
    {
     "name": "stdout",
     "output_type": "stream",
     "text": [
      "5182\n",
      "2512008\n",
      "0:00:18.518\n"
     ]
    }
   ],
   "source": [
    "from datetime import datetime\n",
    "startTime = datetime.now()\n",
    "import numpy\n",
    "\n",
    "filepath = 'input.txt'\n",
    "\n",
    "DIRECTIONS = {0: (-1, 0), 1: (0, 1), 2: (1, 0), 3: (0, -1)}\n",
    "P1_MOVEMENTS = {0: (1, -1, 1), 1: (0, 1, 0)} # new one, direction change, infection change\n",
    "P2_MOVEMENTS = {0: (2, -1, 0), 1: (3, 1, 0), 2: (1, 0, 1), 3: (0, 2, 0)}\n",
    "\n",
    "def main(grid, movement_list, bursts): \n",
    "    pos = (size//2, size//2)\n",
    "    direction = 0\n",
    "    infections = 0\n",
    "    \n",
    "    for i in range(bursts):\n",
    "        infections += movement_list[grid[pos]][2]\n",
    "        direction += movement_list[grid[pos]][1]\n",
    "        grid[pos] = movement_list[grid[pos]][0]\n",
    "\n",
    "        pos = (pos[0] + DIRECTIONS[direction%4][0], pos[1] + DIRECTIONS[direction%4][1])\n",
    "        \n",
    "    return infections\n",
    "\n",
    "size = 525\n",
    "data = numpy.zeros((size, size))\n",
    "pad = (size-25)//2\n",
    "i = (size-25)//2\n",
    "with open(filepath) as f:\n",
    "    for line in f.readlines():\n",
    "        data[i] = [0]*pad + [1 if i == '#' else 0 for i in line.strip()] + [0]*pad\n",
    "        i += 1\n",
    "\n",
    "print(main(numpy.copy(data), P1_MOVEMENTS, 10000))\n",
    "print(main(numpy.copy(data), P2_MOVEMENTS, 10000000))\n",
    "print(str(datetime.now() - startTime)[:-3]) "
   ]
  }
 ],
 "metadata": {
  "kernelspec": {
   "display_name": "Python 3",
   "language": "python",
   "name": "python3"
  },
  "language_info": {
   "codemirror_mode": {
    "name": "ipython",
    "version": 3
   },
   "file_extension": ".py",
   "mimetype": "text/x-python",
   "name": "python",
   "nbconvert_exporter": "python",
   "pygments_lexer": "ipython3",
   "version": "3.7.2"
  }
 },
 "nbformat": 4,
 "nbformat_minor": 2
}
