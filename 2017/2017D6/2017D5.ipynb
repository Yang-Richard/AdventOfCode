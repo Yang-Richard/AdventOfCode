{
 "cells": [
  {
   "cell_type": "code",
   "execution_count": 31,
   "metadata": {
    "scrolled": false
   },
   "outputs": [
    {
     "name": "stdout",
     "output_type": "stream",
     "text": [
      "(4074, 2793) 0:00:00.370\n"
     ]
    }
   ],
   "source": [
    "#!/usr/bin/python\n",
    "filepath = 'test.txt'\n",
    "filepath = 'input.txt'\n",
    "\n",
    "from datetime import datetime\n",
    "import re\n",
    "startTime = datetime.now()\n",
    "\n",
    "def main():\n",
    "    blocks, states = [], []\n",
    "    \n",
    "    with open(filepath) as f:\n",
    "        for line in f.readlines():\n",
    "            blocks = [int(i) for i in line.split()]\n",
    "        f.close() \n",
    "        \n",
    "    distribution_cycles = 0\n",
    "    \n",
    "    while blocks not in states:\n",
    "        states.append(blocks[:])\n",
    "        \n",
    "        maximum = max(blocks)\n",
    "        index = blocks.index(maximum)\n",
    "        blocks[index] = 0\n",
    "        \n",
    "        add_all = int(maximum/len(blocks))\n",
    "        add_mod = maximum%len(blocks)\n",
    "\n",
    "        for i in range(len(blocks)):\n",
    "            if add_mod > 0:\n",
    "                addition = add_all + 1\n",
    "                add_mod -= 1\n",
    "            else:\n",
    "                addition = add_all\n",
    "\n",
    "            blocks[(index+1+i)%len(blocks)] += addition\n",
    "            \n",
    "        distribution_cycles += 1 \n",
    "    \n",
    "    return distribution_cycles, distribution_cycles-states.index(blocks)\n",
    "            \n",
    "if __name__ == '__main__':\n",
    "    print(main(), str(datetime.now() - startTime)[:-3]) # (4074, 2793) 0:00:00.317"
   ]
  },
  {
   "cell_type": "code",
   "execution_count": null,
   "metadata": {},
   "outputs": [],
   "source": []
  }
 ],
 "metadata": {
  "kernelspec": {
   "display_name": "Python 3",
   "language": "python",
   "name": "python3"
  },
  "language_info": {
   "codemirror_mode": {
    "name": "ipython",
    "version": 3
   },
   "file_extension": ".py",
   "mimetype": "text/x-python",
   "name": "python",
   "nbconvert_exporter": "python",
   "pygments_lexer": "ipython3",
   "version": "3.7.2"
  }
 },
 "nbformat": 4,
 "nbformat_minor": 2
}
