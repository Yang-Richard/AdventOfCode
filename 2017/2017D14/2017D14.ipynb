{
 "cells": [
  {
   "cell_type": "code",
   "execution_count": 25,
   "metadata": {
    "scrolled": false
   },
   "outputs": [
    {
     "name": "stdout",
     "output_type": "stream",
     "text": [
      "8250 1113 0:00:00.393\n"
     ]
    }
   ],
   "source": [
    "#!/usr/bin/python\n",
    "\n",
    "from datetime import datetime\n",
    "import re\n",
    "from ipynb.fs.full._2017D10 import knot_hash\n",
    "startTime = datetime.now()\n",
    "\n",
    "grid = []\n",
    "\n",
    "def create_grid():\n",
    "    for i in range(128):\n",
    "        hash_input = 'stpzcrnm-' + str(i)\n",
    "        row_hash = knot_hash(hash_input)\n",
    "        bin_rep = list(bin(int(row_hash, 16))[2:].zfill(128))\n",
    "        grid.append(['#' if i == '1' else '.' for i in bin_rep])\n",
    "\n",
    "def p1():\n",
    "    create_grid()    \n",
    "    return sum([row.count('#') for row in grid])  \n",
    "\n",
    "def p2():     \n",
    "    regions = 1\n",
    "    coords = dict()\n",
    "    \n",
    "    for yn, y in enumerate(grid):\n",
    "        for xn, x in enumerate(y):\n",
    "            if x == '.':\n",
    "                pass\n",
    "            \n",
    "            elif x == '#':\n",
    "                if xn != 0 and grid[yn][xn-1] != '.' and yn != 0 and grid[yn-1][xn] != '.':\n",
    "                    grid[yn][xn] = grid[yn-1][xn]\n",
    "                    coords[grid[yn-1][xn]].add((yn, xn))\n",
    "                    \n",
    "                    if grid[yn][xn-1] != grid[yn-1][xn]:\n",
    "                        old_region = grid[yn][xn-1]\n",
    "                        for oldy, oldx in coords[grid[yn][xn-1]]:\n",
    "                            grid[oldy][oldx] = grid[yn][xn]\n",
    "                        \n",
    "                        coords[grid[yn][xn]].update(coords[old_region])\n",
    "                        del coords[old_region] \n",
    "                \n",
    "                elif xn != 0 and grid[yn][xn-1] != '.':\n",
    "                    grid[yn][xn] = grid[yn][xn-1]\n",
    "                    coords[grid[yn][xn-1]].add((yn, xn))\n",
    "                    \n",
    "                elif yn != 0 and grid[yn-1][xn] != '.':\n",
    "                    grid[yn][xn] = grid[yn-1][xn]\n",
    "                    coords[grid[yn-1][xn]].add((yn, xn))\n",
    "  \n",
    "                else:\n",
    "                    grid[yn][xn] = regions\n",
    "                    coords[regions] = set()\n",
    "                    coords[regions].add((yn, xn))\n",
    "                    regions += 1\n",
    "    \n",
    "    return len(coords.keys())\n",
    "\n",
    "if __name__ == '__main__':\n",
    "    print(p1(), p2(), str(datetime.now() - startTime)[:-3]) # 8250 1113 0:00:00.393"
   ]
  },
  {
   "cell_type": "code",
   "execution_count": null,
   "metadata": {},
   "outputs": [],
   "source": []
  }
 ],
 "metadata": {
  "kernelspec": {
   "display_name": "Python 3",
   "language": "python",
   "name": "python3"
  },
  "language_info": {
   "codemirror_mode": {
    "name": "ipython",
    "version": 3
   },
   "file_extension": ".py",
   "mimetype": "text/x-python",
   "name": "python",
   "nbconvert_exporter": "python",
   "pygments_lexer": "ipython3",
   "version": "3.6.8"
  }
 },
 "nbformat": 4,
 "nbformat_minor": 2
}
