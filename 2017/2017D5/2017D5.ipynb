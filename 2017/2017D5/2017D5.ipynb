{
 "cells": [
  {
   "cell_type": "code",
   "execution_count": 1,
   "metadata": {
    "scrolled": false
   },
   "outputs": [
    {
     "name": "stdout",
     "output_type": "stream",
     "text": [
      "325922 0:00:00.147\n"
     ]
    }
   ],
   "source": [
    "#!/usr/bin/python\n",
    "filepath = 'test.txt'\n",
    "filepath = 'input.txt'\n",
    "\n",
    "from datetime import datetime\n",
    "import re\n",
    "startTime = datetime.now()\n",
    "\n",
    "def main():\n",
    "    jumps = []\n",
    "    \n",
    "    with open(filepath) as f:\n",
    "        for line in f.readlines():\n",
    "            jumps.append(int(line.strip()))\n",
    "        f.close() \n",
    "        \n",
    "    pos = 0\n",
    "    steps = 0\n",
    "    while pos < len(jumps):\n",
    "        temp = pos\n",
    "        pos += jumps[pos]\n",
    "        jumps[temp] += 1\n",
    "            \n",
    "        steps += 1\n",
    "        \n",
    "    return steps\n",
    "            \n",
    "if __name__ == '__main__':\n",
    "    print(main(), str(datetime.now() - startTime)[:-3]) # 325922 0:00:00.147"
   ]
  },
  {
   "cell_type": "code",
   "execution_count": 2,
   "metadata": {},
   "outputs": [
    {
     "name": "stdout",
     "output_type": "stream",
     "text": [
      "24490906 0:00:09.428\n"
     ]
    }
   ],
   "source": [
    "#!/usr/bin/python\n",
    "filepath = 'test.txt'\n",
    "filepath = 'input.txt'\n",
    "\n",
    "from datetime import datetime\n",
    "import re\n",
    "startTime = datetime.now()\n",
    "\n",
    "def main():\n",
    "    jumps = []\n",
    "    \n",
    "    with open(filepath) as f:\n",
    "        for line in f.readlines():\n",
    "            jumps.append(int(line.strip()))\n",
    "        f.close() \n",
    "        \n",
    "    pos = 0\n",
    "    steps = 0\n",
    "    while pos < len(jumps):\n",
    "        temp = pos\n",
    "        pos += jumps[pos]\n",
    "        if jumps[temp] >= 3:\n",
    "            jumps[temp] -= 1\n",
    "        else:\n",
    "            jumps[temp] += 1\n",
    "            \n",
    "        steps += 1\n",
    "        \n",
    "    return steps\n",
    "            \n",
    "if __name__ == '__main__':\n",
    "    print(main(), str(datetime.now() - startTime)[:-3]) # 24490906 0:00:09.428"
   ]
  },
  {
   "cell_type": "code",
   "execution_count": null,
   "metadata": {},
   "outputs": [],
   "source": []
  }
 ],
 "metadata": {
  "kernelspec": {
   "display_name": "Python 3",
   "language": "python",
   "name": "python3"
  },
  "language_info": {
   "codemirror_mode": {
    "name": "ipython",
    "version": 3
   },
   "file_extension": ".py",
   "mimetype": "text/x-python",
   "name": "python",
   "nbconvert_exporter": "python",
   "pygments_lexer": "ipython3",
   "version": "3.7.2"
  }
 },
 "nbformat": 4,
 "nbformat_minor": 2
}
