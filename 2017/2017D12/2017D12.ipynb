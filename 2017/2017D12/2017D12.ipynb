{
 "cells": [
  {
   "cell_type": "code",
   "execution_count": 55,
   "metadata": {
    "scrolled": false
   },
   "outputs": [
    {
     "name": "stdout",
     "output_type": "stream",
     "text": [
      "(141, 171) 0:00:00.011\n"
     ]
    }
   ],
   "source": [
    "#!/usr/bin/python\n",
    "filepath = 'test.txt'\n",
    "filepath = 'input.txt'\n",
    "\n",
    "from datetime import datetime\n",
    "import re\n",
    "startTime = datetime.now()\n",
    "\n",
    "def main():\n",
    "    connections = []\n",
    "    \n",
    "    with open(filepath) as f:\n",
    "        for line in f.readlines():\n",
    "            connections.append(line.strip())\n",
    "        f.close() \n",
    "    \n",
    "    groups, counted = dict(), dict()\n",
    "    \n",
    "    for n, connection in enumerate(connections):\n",
    "        cur = int(connection[:connection.index(' ')])\n",
    "        linked = [int(n) for n in connection[connection.index('> ')+2:].split(', ')]\n",
    "\n",
    "        if cur in counted.keys():\n",
    "            group_num = counted[cur]\n",
    "        else:\n",
    "            # current val is not in any group\n",
    "            group_num = n\n",
    "            groups[group_num] = ({cur})\n",
    "            counted[cur] = group_num\n",
    "        \n",
    "        for link in linked:\n",
    "            if link == cur:\n",
    "                break   \n",
    "            elif link in counted.keys() and counted[link] != counted[cur]:\n",
    "                groups[group_num].update(groups[counted[link]])\n",
    "                old_index = counted[link]\n",
    "                \n",
    "                for i in groups[counted[link]]:\n",
    "                    counted[i] = group_num\n",
    "                del groups[old_index]\n",
    "            else:\n",
    "                counted[link] = group_num\n",
    "                groups[group_num].add(link)\n",
    "        \n",
    "    return len(groups[counted[0]]), len(groups)\n",
    "            \n",
    "if __name__ == '__main__':\n",
    "    print(main(), str(datetime.now() - startTime)[:-3]) # (141, 171) 0:00:00.011"
   ]
  },
  {
   "cell_type": "code",
   "execution_count": null,
   "metadata": {},
   "outputs": [],
   "source": []
  }
 ],
 "metadata": {
  "kernelspec": {
   "display_name": "Python 3",
   "language": "python",
   "name": "python3"
  },
  "language_info": {
   "codemirror_mode": {
    "name": "ipython",
    "version": 3
   },
   "file_extension": ".py",
   "mimetype": "text/x-python",
   "name": "python",
   "nbconvert_exporter": "python",
   "pygments_lexer": "ipython3",
   "version": "3.7.2"
  }
 },
 "nbformat": 4,
 "nbformat_minor": 2
}
