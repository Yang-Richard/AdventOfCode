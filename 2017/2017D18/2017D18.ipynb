{
 "cells": [
  {
   "cell_type": "code",
   "execution_count": 65,
   "metadata": {
    "scrolled": false
   },
   "outputs": [
    {
     "name": "stdout",
     "output_type": "stream",
     "text": [
      "3423 0:00:00.003\n"
     ]
    }
   ],
   "source": [
    "#!/usr/bin/python\n",
    "\n",
    "filepath = 'test.txt'\n",
    "filepath = 'input.txt'\n",
    "\n",
    "from datetime import datetime\n",
    "import re\n",
    "startTime = datetime.now()\n",
    "\n",
    "def p1():\n",
    "    instructions = []\n",
    "    registers = dict()\n",
    "    sound = -1\n",
    "    pos = 0\n",
    "    \n",
    "    with open(filepath) as f:\n",
    "        for line in f.readlines():\n",
    "            instructions.append(line.strip().split(' '))\n",
    "        f.close()\n",
    "        \n",
    "    #print(len(instructions))\n",
    "                                \n",
    "    #for instruction in instructions:\n",
    "    #    print(instruction)\n",
    "    \n",
    "    i = 0\n",
    "    while True:\n",
    "        i += 1\n",
    "        instruction = instructions[pos][:]\n",
    "\n",
    "        if instruction[1] not in registers.keys():\n",
    "            registers[instruction[1]] = 0\n",
    "        \n",
    "        if len(instruction) == 3 and instruction[2].isalpha():\n",
    "            instruction[2] = registers[instruction[2]]\n",
    "            \n",
    "        if instruction[0] == 'snd':\n",
    "            sound = registers[instruction[1]]\n",
    "            \n",
    "        elif instruction[0] == 'set':\n",
    "            registers[instruction[1]] = int(instruction[2])\n",
    "        \n",
    "        elif instruction[0] == 'add':\n",
    "            registers[instruction[1]] += int(instruction[2])\n",
    "        \n",
    "        elif instruction[0] == 'mul':\n",
    "            registers[instruction[1]] *= int(instruction[2])\n",
    "        \n",
    "        elif instruction[0] == 'mod':\n",
    "            registers[instruction[1]] = registers[instruction[1]] % int(instruction[2])\n",
    "        \n",
    "        elif instruction[0] == 'rcv':\n",
    "            if registers[instruction[1]] != 0:\n",
    "                return sound\n",
    "            else:\n",
    "                pass\n",
    "            \n",
    "        else:\n",
    "            pass\n",
    "            \n",
    "        if instruction[0] == 'jgz' and registers[instruction[1]] > 0:\n",
    "            pos += int(instruction[2])\n",
    "        else:\n",
    "            pos += 1\n",
    "\n",
    "        if False:\n",
    "            print(instruction)\n",
    "            print(registers)\n",
    "            print(pos, sound)\n",
    "            print()\n",
    "\n",
    "    return False\n",
    "\n",
    "if __name__ == '__main__':\n",
    "    print(p1(), str(datetime.now() - startTime)[:-3]) # 7656"
   ]
  }
 ],
 "metadata": {
  "kernelspec": {
   "display_name": "Python 3",
   "language": "python",
   "name": "python3"
  },
  "language_info": {
   "codemirror_mode": {
    "name": "ipython",
    "version": 3
   },
   "file_extension": ".py",
   "mimetype": "text/x-python",
   "name": "python",
   "nbconvert_exporter": "python",
   "pygments_lexer": "ipython3",
   "version": "3.7.2"
  }
 },
 "nbformat": 4,
 "nbformat_minor": 2
}
