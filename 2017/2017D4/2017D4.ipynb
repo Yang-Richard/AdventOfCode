{
 "cells": [
  {
   "cell_type": "code",
   "execution_count": 2,
   "metadata": {
    "scrolled": false
   },
   "outputs": [
    {
     "name": "stdout",
     "output_type": "stream",
     "text": [
      "(383, 265) 0:00:00.007\n"
     ]
    }
   ],
   "source": [
    "#!/usr/bin/python\n",
    "filepath = 'test.txt'\n",
    "filepath = 'input.txt'\n",
    "\n",
    "from datetime import datetime\n",
    "import re\n",
    "startTime = datetime.now()\n",
    "\n",
    "def main():\n",
    "    passphrases = []\n",
    "    \n",
    "    with open(filepath) as f:\n",
    "        for line in f.readlines():\n",
    "            passphrases.append(line)\n",
    "        f.close() \n",
    "\n",
    "    valid = len(passphrases)\n",
    "    valid2 = len(passphrases)\n",
    "    \n",
    "    for phrase in passphrases:\n",
    "        duplicates = set()\n",
    "        duplicates2 = set()\n",
    "        words = phrase.strip().split()\n",
    "        \n",
    "        for word in words:\n",
    "            #part 1\n",
    "            if word in duplicates:\n",
    "                valid -= 1\n",
    "                valid2 -= 1\n",
    "                break  \n",
    "            else:\n",
    "                duplicates.add(word)\n",
    "            \n",
    "            #part 2\n",
    "            sort = ''.join(sorted(word))\n",
    "            if sort in duplicates2:\n",
    "                valid2 -= 1\n",
    "                break  \n",
    "            else:\n",
    "                duplicates2.add(sort)\n",
    "                \n",
    "    return valid, valid2\n",
    "            \n",
    "if __name__ == '__main__':\n",
    "    print(main(), str(datetime.now() - startTime)[:-3]) # (383, 265) 0:00:00.007"
   ]
  },
  {
   "cell_type": "code",
   "execution_count": null,
   "metadata": {},
   "outputs": [],
   "source": []
  }
 ],
 "metadata": {
  "kernelspec": {
   "display_name": "Python 3",
   "language": "python",
   "name": "python3"
  },
  "language_info": {
   "codemirror_mode": {
    "name": "ipython",
    "version": 3
   },
   "file_extension": ".py",
   "mimetype": "text/x-python",
   "name": "python",
   "nbconvert_exporter": "python",
   "pygments_lexer": "ipython3",
   "version": "3.7.2"
  }
 },
 "nbformat": 4,
 "nbformat_minor": 2
}
