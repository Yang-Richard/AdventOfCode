{
 "cells": [
  {
   "cell_type": "code",
   "execution_count": 67,
   "metadata": {
    "scrolled": false
   },
   "outputs": [
    {
     "name": "stdout",
     "output_type": "stream",
     "text": [
      "hmefajngplkidocb fbidepghmjklcnoa 0:00:00.707\n"
     ]
    }
   ],
   "source": [
    "#!/usr/bin/python\n",
    "\n",
    "from datetime import datetime\n",
    "import re\n",
    "startTime = datetime.now()\n",
    "\n",
    "filepath = 'test.txt'\n",
    "filepath = 'input.txt'\n",
    "\n",
    "instructions = open(filepath).read().split(',')\n",
    "\n",
    "def dance(line):\n",
    "    for instruction in instructions:\n",
    "        if instruction[0] == 's':\n",
    "            line = line[-int(instruction[1:]):] + line[:len(line)-int(instruction[1:])]\n",
    "\n",
    "        elif instruction[0] == 'x':\n",
    "            temp = line[int(instruction[1:instruction.index('/')])]\n",
    "            line[int(instruction[1:instruction.index('/')])] = line[int(instruction[instruction.index('/')+1:])]\n",
    "            line[int(instruction[instruction.index('/')+1:])] = temp\n",
    "\n",
    "        elif instruction[0] == 'p':\n",
    "            temp = line.index(instruction[1:2])\n",
    "            line[line.index(instruction[3:4])] = instruction[1:2]\n",
    "            line[temp] = instruction[3:4]\n",
    "\n",
    "        else:\n",
    "            print('ERROR')\n",
    "            \n",
    "    return line\n",
    "\n",
    "def p1():\n",
    "    return ''.join(dance(list('abcdefghijklmnop')))\n",
    "    \n",
    "def p2():  \n",
    "    run = 1000000000\n",
    "    line = list('abcdefghijklmnop')\n",
    "    \n",
    "    while run > 0:\n",
    "        line = dance(line)\n",
    "        run -= 1\n",
    "        \n",
    "        if line == list('abcdefghijklmnop'):\n",
    "            run = 1000000000 % (1000000000 - run)\n",
    "        \n",
    "    return ''.join(line)\n",
    "\n",
    "if __name__ == '__main__':\n",
    "    print(p1(), p2(), str(datetime.now() - startTime)[:-3]) # hmefajngplkidocb fbidepghmjklcnoa 0:00:00.707"
   ]
  },
  {
   "cell_type": "code",
   "execution_count": null,
   "metadata": {},
   "outputs": [],
   "source": []
  }
 ],
 "metadata": {
  "kernelspec": {
   "display_name": "Python 3",
   "language": "python",
   "name": "python3"
  },
  "language_info": {
   "codemirror_mode": {
    "name": "ipython",
    "version": 3
   },
   "file_extension": ".py",
   "mimetype": "text/x-python",
   "name": "python",
   "nbconvert_exporter": "python",
   "pygments_lexer": "ipython3",
   "version": "3.6.8"
  }
 },
 "nbformat": 4,
 "nbformat_minor": 2
}
