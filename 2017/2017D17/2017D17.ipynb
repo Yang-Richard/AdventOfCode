{
 "cells": [
  {
   "cell_type": "code",
   "execution_count": 3,
   "metadata": {
    "scrolled": false
   },
   "outputs": [
    {
     "name": "stdout",
     "output_type": "stream",
     "text": [
      "(1173, 1930815) 0:01:05.124\n"
     ]
    }
   ],
   "source": [
    "#!/usr/bin/python\n",
    "\n",
    "from datetime import datetime\n",
    "from collections import deque\n",
    "import re\n",
    "startTime = datetime.now()\n",
    "\n",
    "def main():\n",
    "    buffer = deque([0])\n",
    "    steps, rounds = 304, 50000000\n",
    "\n",
    "    for i in range(1,rounds+1):\n",
    "        buffer.rotate(-steps)\n",
    "        buffer.insert(1, i)\n",
    "        buffer.rotate(-1)\n",
    "\n",
    "        if i == 2017:\n",
    "            p1 = buffer[1]\n",
    "\n",
    "    return p1, buffer[buffer.index(0)+1]\n",
    "\n",
    "if __name__ == '__main__':\n",
    "    print(main(), str(datetime.now() - startTime)[:-3]) # (1173, 1930815) 0:01:05.124"
   ]
  },
  {
   "cell_type": "code",
   "execution_count": null,
   "metadata": {},
   "outputs": [],
   "source": []
  }
 ],
 "metadata": {
  "kernelspec": {
   "display_name": "Python 3",
   "language": "python",
   "name": "python3"
  },
  "language_info": {
   "codemirror_mode": {
    "name": "ipython",
    "version": 3
   },
   "file_extension": ".py",
   "mimetype": "text/x-python",
   "name": "python",
   "nbconvert_exporter": "python",
   "pygments_lexer": "ipython3",
   "version": "3.6.8"
  }
 },
 "nbformat": 4,
 "nbformat_minor": 2
}
