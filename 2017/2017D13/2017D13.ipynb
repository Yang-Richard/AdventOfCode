{
 "cells": [
  {
   "cell_type": "code",
   "execution_count": 52,
   "metadata": {
    "scrolled": false
   },
   "outputs": [
    {
     "name": "stdout",
     "output_type": "stream",
     "text": [
      "(3184, 3878062) 0:00:02.589\n"
     ]
    }
   ],
   "source": [
    "#!/usr/bin/python\n",
    "filepath = 'test.txt'\n",
    "filepath = 'input.txt'\n",
    "\n",
    "from datetime import datetime\n",
    "import re\n",
    "startTime = datetime.now()\n",
    "\n",
    "class Layer(object):\n",
    "    def __init__(self, depth, ran):\n",
    "        self.depth = int(depth)\n",
    "        self.ran = int(ran)\n",
    "        self.scanner = 1\n",
    "        self.scanner_direction = 1\n",
    "\n",
    "    def update_scanner(self):\n",
    "        self.scanner += self.scanner_direction\n",
    "        if self.scanner == self.ran:\n",
    "            self.scanner_direction = -1\n",
    "        elif self.scanner == 1:\n",
    "            self.scanner_direction = 1\n",
    "        else:\n",
    "            pass\n",
    "        \n",
    "    def hit(self, delay):\n",
    "        return (delay+self.depth)%((self.ran-1)*2) == 0\n",
    "        \n",
    "def main():\n",
    "    layers = dict()\n",
    "    \n",
    "    with open(filepath) as f:\n",
    "        for line in f.readlines():\n",
    "            layers[line[:line.index(':')]] = Layer(line[:line.index(':')], line[line.index(': ')+2:])\n",
    "        f.close() \n",
    "\n",
    "    tot_severity = 0\n",
    "    for depth in range(int(max(layers.keys()))+1):\n",
    "        if str(depth) in layers.keys() and layers[str(depth)].scanner == 1:\n",
    "            tot_severity += depth*layers[str(depth)].ran\n",
    "            \n",
    "        for layer in layers:\n",
    "            layers[layer].update_scanner()   \n",
    "    \n",
    "    delay = 0\n",
    "    while True:\n",
    "        safe = True\n",
    "        for layer in layers:\n",
    "            if layers[layer].hit(delay):\n",
    "                safe = False \n",
    "                break\n",
    "                \n",
    "        if safe:\n",
    "            break\n",
    "            \n",
    "        delay += 1\n",
    "        \n",
    "    return tot_severity, delay        \n",
    "    \n",
    "if __name__ == '__main__':\n",
    "    print(main(), str(datetime.now() - startTime)[:-3]) # (3184, 3878062) 0:00:02.495"
   ]
  },
  {
   "cell_type": "code",
   "execution_count": null,
   "metadata": {},
   "outputs": [],
   "source": []
  }
 ],
 "metadata": {
  "kernelspec": {
   "display_name": "Python 3",
   "language": "python",
   "name": "python3"
  },
  "language_info": {
   "codemirror_mode": {
    "name": "ipython",
    "version": 3
   },
   "file_extension": ".py",
   "mimetype": "text/x-python",
   "name": "python",
   "nbconvert_exporter": "python",
   "pygments_lexer": "ipython3",
   "version": "3.6.8"
  }
 },
 "nbformat": 4,
 "nbformat_minor": 2
}
