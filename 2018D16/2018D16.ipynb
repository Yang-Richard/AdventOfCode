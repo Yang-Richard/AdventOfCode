{
 "cells": [
  {
   "cell_type": "code",
   "execution_count": 31,
   "metadata": {},
   "outputs": [
    {
     "name": "stdout",
     "output_type": "stream",
     "text": [
      "0\n",
      "[(3, 2, 1, 1)] [(9, 2, 1, 2)] [(3, 2, 2, 1)]\n",
      "(0, 0) 0:00:00.001\n"
     ]
    }
   ],
   "source": [
    "#!/usr/bin/python\n",
    "\n",
    "filepath = 'test.txt'#'input.txt'\n",
    "\n",
    "from datetime import datetime\n",
    "startTime = datetime.now()\n",
    "import re\n",
    "\n",
    "def opcodes(before, code, after):\n",
    "    num_opcodes = 0\n",
    "    # registers 0, 1, 2, 3\n",
    "    # before [(3, 2, 1, 1)] \n",
    "    # after[(3, 2, 2, 1)]\n",
    "    \n",
    "    # opcode #, input 1, input 2, output \n",
    "    # code[(9, 2, 1, 2)] \n",
    "    \n",
    "    #addr (add register) stores into register C the result of adding register A and register B.\n",
    "    if before[code[1]] + before[code[2]] == after[code[3]]:\n",
    "        num_opcodes += 1\n",
    "        \n",
    "    #addi (add immediate) stores into register C the result of adding register A and value B.\n",
    "    if before[code[1]] + code[2] == after[code[3]]:\n",
    "        num_opcodes += 1\n",
    "        \n",
    "    #mulr (multiply register) stores into register C the result of multiplying register A and register B.\n",
    "    if before[code[1]] + code[2] == after[code[3]]:\n",
    "        num_opcodes += 1\n",
    "    #muli (multiply immediate) stores into register C the result of multiplying register A and value B.\n",
    "    if before[code[1]] + code[2] == after[code[3]]:\n",
    "        num_opcodes += 1\n",
    "    \n",
    "    print(num_opcodes)\n",
    "    return num_opcodes\n",
    "\n",
    "def main() -> \"result1, result2\":\n",
    "    samples = []\n",
    "    result1 , result2 = 0, 0\n",
    "    with open(filepath) as f:\n",
    "        for line in f.readlines():\n",
    "            #print(list(map(int, re.findall(r'\\d', line))))\n",
    "            #print(tuple(map(int, re.findall(r'\\d', line))))\n",
    "            samples.append(tuple(map(int, re.findall(r'\\d', line))))\n",
    "        f.close()\n",
    "    before, code, after = list(samples[::4]), list(samples[1::4]), list(samples[2::4])\n",
    "        \n",
    "    for i in range(len(code)):\n",
    "        if opcodes(before[i], code[i], after[i]) >= 3:\n",
    "            result1 += 1\n",
    "        \n",
    "    print(before, code, after)\n",
    "\n",
    "    return result1, result2\n",
    "\n",
    "if __name__ == '__main__':\n",
    "    print(main(), str(datetime.now() - startTime)[:-3])"
   ]
  },
  {
   "cell_type": "code",
   "execution_count": null,
   "metadata": {},
   "outputs": [],
   "source": []
  },
  {
   "cell_type": "code",
   "execution_count": null,
   "metadata": {},
   "outputs": [],
   "source": []
  }
 ],
 "metadata": {
  "kernelspec": {
   "display_name": "Python 3",
   "language": "python",
   "name": "python3"
  },
  "language_info": {
   "codemirror_mode": {
    "name": "ipython",
    "version": 3
   },
   "file_extension": ".py",
   "mimetype": "text/x-python",
   "name": "python",
   "nbconvert_exporter": "python",
   "pygments_lexer": "ipython3",
   "version": "3.7.1"
  }
 },
 "nbformat": 4,
 "nbformat_minor": 2
}
