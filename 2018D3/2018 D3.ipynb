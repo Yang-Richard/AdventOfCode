{
 "cells": [
  {
   "cell_type": "code",
   "execution_count": 148,
   "metadata": {
    "scrolled": false
   },
   "outputs": [
    {
     "name": "stdout",
     "output_type": "stream",
     "text": [
      "(109716, '124')\n"
     ]
    }
   ],
   "source": [
    "#!/usr/bin/python\n",
    "\n",
    "import numpy\n",
    "filepath = 'input.txt'\n",
    "\n",
    "def main():\n",
    "\n",
    "    spots = []\n",
    "    with open(filepath) as f:\n",
    "        for line in f.readlines():\n",
    "            spots.append(line)\n",
    "        f.close()\n",
    "        \n",
    "    maxx, maxy = 0, 0\n",
    "    xstart, ystart, xlen, ylen = [], [], [], []\n",
    "\n",
    "    for num, i in enumerate(spots):\n",
    "        xstart.append(int(i[i.index('@')+2:i.index(',')]))#int(i[:])\n",
    "        ystart.append(int(i[i.index(',')+1:i.index(':')]))#int(i[:])\n",
    "        xlen.append(int(i[i.index(':')+2:i.index('x')]))\n",
    "        ylen.append(int(i[i.index('x')+1:len(i)]))\n",
    "        \n",
    "        if xstart[num]+xlen[num] > maxx:\n",
    "            maxx = xstart[num]+xlen[num]\n",
    "        if ystart[num]+ylen[num] > maxy:\n",
    "            maxy = ystart[num]+ylen[num]\n",
    "            \n",
    "    fabric = numpy.zeros((maxy,maxx))\n",
    "    \n",
    "    for num in range(len(spots)):\n",
    "        for x in range(xlen[num]):\n",
    "            for y in range(ylen[num]):\n",
    "                fabric[ystart[num]+y][xstart[num]+x] +=1\n",
    "    \n",
    "    unique, counts = numpy.unique(fabric, return_counts=True)\n",
    "    result1 = maxx*maxy-counts[0]-counts[1]\n",
    "    \n",
    "    for num in range(len(spots)):\n",
    "        numSpots = xlen[num]*ylen[num]\n",
    "        filled = 0\n",
    "        for x in range(xlen[num]):\n",
    "            for y in range(ylen[num]):\n",
    "                if fabric[ystart[num]+y][xstart[num]+x] == 1:\n",
    "                    filled += 1\n",
    "    \n",
    "        if filled == numSpots:\n",
    "            result2 = (spots[num])[spots[num].index('#')+1:spots[num].index(' ')]\n",
    "            break\n",
    "    return result1, result2\n",
    "\n",
    "if __name__ == '__main__':\n",
    "    result = main()\n",
    "    print(result)\n"
   ]
  }
 ],
 "metadata": {
  "kernelspec": {
   "display_name": "Python 3",
   "language": "python",
   "name": "python3"
  },
  "language_info": {
   "codemirror_mode": {
    "name": "ipython",
    "version": 3
   },
   "file_extension": ".py",
   "mimetype": "text/x-python",
   "name": "python",
   "nbconvert_exporter": "python",
   "pygments_lexer": "ipython3",
   "version": "3.7.1"
  }
 },
 "nbformat": 4,
 "nbformat_minor": 2
}
