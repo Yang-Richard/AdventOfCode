{
 "cells": [
  {
   "cell_type": "code",
   "execution_count": 191,
   "metadata": {},
   "outputs": [
    {
     "name": "stdout",
     "output_type": "stream",
     "text": [
      "(3738, 3900000002467) 0:00:00.008\n"
     ]
    }
   ],
   "source": [
    "#!/usr/bin/python\n",
    "from collections import deque as dq\n",
    "import itertools as it\n",
    "\n",
    "filepath = 'input.txt'\n",
    "\n",
    "from datetime import datetime\n",
    "startTime = datetime.now()\n",
    "\n",
    "def main() -> \"result1, result2\":\n",
    "    state = dq('.##..#.#..##..##..##...#####.#.....#..#..##.###.#.####......#.......#..###.#.#.##.#.#.###...##.###.#')\n",
    "    nums = []\n",
    "    result1 , result2 = 0, 0\n",
    "    offset = 0\n",
    "    \n",
    "    with open(filepath) as f:\n",
    "        for line in f.readlines():\n",
    "            nums.append((line.strip()[:5], line.strip()[-1:]))\n",
    "        f.close()\n",
    "    \n",
    "    lastsum = 0\n",
    "    for a in range(20):\n",
    "        for x in range(5-state.index('#')):\n",
    "            state.appendleft('.')\n",
    "            offset+=1\n",
    "        state.reverse()\n",
    "        for z in range(5-state.index('#')):\n",
    "            state.appendleft('.')\n",
    "        state.reverse()\n",
    "        left = ''.join(it.islice(state, 0, 2))\n",
    "    \n",
    "        newstate = state.copy()\n",
    "        for i in range(2, len(state)-2):\n",
    "            right = ''.join(it.islice(state, i, i+3))\n",
    "            check = \"\".join(left) + right\n",
    "            for code in nums:\n",
    "\n",
    "                if check == code[0]:\n",
    "                    newstate[i] = code[1]\n",
    "                    break\n",
    "            left = [left[1], state[i]]\n",
    "        state = newstate.copy()  \n",
    "    \n",
    "    for index, char in enumerate(state):\n",
    "        if char == '#':\n",
    "            result1 += index-offset\n",
    "            \n",
    "    # after gen 100, a pattern emerged where a constant set of plants offsets to the right by 1 each generation\n",
    "    # at gen 100, score was 10267\n",
    "    result2 = (50000000000-100)*78+10267\n",
    "    \n",
    "    return result1, result2\n",
    "\n",
    "if __name__ == '__main__':\n",
    "    print(main(), str(datetime.now() - startTime)[:-3])"
   ]
  }
 ],
 "metadata": {
  "kernelspec": {
   "display_name": "Python 3",
   "language": "python",
   "name": "python3"
  },
  "language_info": {
   "codemirror_mode": {
    "name": "ipython",
    "version": 3
   },
   "file_extension": ".py",
   "mimetype": "text/x-python",
   "name": "python",
   "nbconvert_exporter": "python",
   "pygments_lexer": "ipython3",
   "version": "3.7.1"
  }
 },
 "nbformat": 4,
 "nbformat_minor": 2
}
