{
 "cells": [
  {
   "cell_type": "code",
   "execution_count": 236,
   "metadata": {
    "scrolled": false
   },
   "outputs": [
    {
     "name": "stdout",
     "output_type": "stream",
     "text": [
      "(370, 0) 0:00:00.419\n"
     ]
    }
   ],
   "source": [
    "#!/usr/bin/python\n",
    "filepath = 'test.txt'\n",
    "filepath = 'input.txt'\n",
    "\n",
    "from datetime import datetime\n",
    "import re\n",
    "startTime = datetime.now()\n",
    "\n",
    "def main():\n",
    "    points, groups = [], []\n",
    "    result1 , result2 = 0, 0\n",
    "    \n",
    "    with open(filepath) as f:\n",
    "        for line in f.readlines():\n",
    "            points.append(list(map(int,(re.split(',|\\n', line))[:-1])))\n",
    "        f.close() \n",
    "    \n",
    "    for point in points:\n",
    "        firstgroup = -1\n",
    "        for num, group in enumerate(groups):\n",
    "            for check in group:\n",
    "                if abs(point[0] - check[0]) + abs(point[1] - check[1]) + abs(point[2] - check[2]) + abs(point[3] - check[3]) <= 3:\n",
    "                    if firstgroup == -1:\n",
    "                        groups[num].append(point)\n",
    "                        firstgroup = num\n",
    "                        break\n",
    "                    else:\n",
    "                        groups[firstgroup] = groups[firstgroup] + groups[num]\n",
    "                        groups[num] = []\n",
    "                        break\n",
    "        if firstgroup == -1:\n",
    "            groups.append([point])\n",
    "    \n",
    "    return len(list(filter(None, groups))), result2\n",
    "\n",
    "if __name__ == '__main__':\n",
    "    print(main(), str(datetime.now() - startTime)[:-3]) # (370, 0) 0:00:00.419"
   ]
  },
  {
   "cell_type": "code",
   "execution_count": null,
   "metadata": {},
   "outputs": [],
   "source": []
  }
 ],
 "metadata": {
  "kernelspec": {
   "display_name": "Python 3",
   "language": "python",
   "name": "python3"
  },
  "language_info": {
   "codemirror_mode": {
    "name": "ipython",
    "version": 3
   },
   "file_extension": ".py",
   "mimetype": "text/x-python",
   "name": "python",
   "nbconvert_exporter": "python",
   "pygments_lexer": "ipython3",
   "version": "3.6.7"
  }
 },
 "nbformat": 4,
 "nbformat_minor": 2
}
