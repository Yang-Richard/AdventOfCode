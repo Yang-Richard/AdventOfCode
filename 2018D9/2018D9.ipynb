{
 "cells": [
  {
   "cell_type": "code",
   "execution_count": null,
   "metadata": {
    "scrolled": false
   },
   "outputs": [
    {
     "name": "stdout",
     "output_type": "stream",
     "text": [
      "(1, 100)\n",
      "<class 'int'> <class 'str'>\n",
      "[0, 0, 0, 0, 0, 0, 0, 0, 0, 0, 0, 0, 0, 0, 0, 0, 0, 0, 0, 0, 0, 0, 0, 0, 0, 0, 0, 0, 0, 0, 0, 0, 0, 0, 0, 0, 0, 0, 0, 0, 0, 0, 0, 0, 0, 0, 0, 0, 0, 0, 0, 0, 0, 0, 0, 0, 0, 0, 0, 0, 0, 0, 0, 0, 0, 0, 0, 0, 0, 0, 0, 0, 0, 0, 0, 0, 0, 0, 0, 0, 0, 0, 0, 0, 0, 0, 0, 0, 0, 0, 0, 0, 0, 0, 0, 0, 0, 0, 0, 0, 0, 0, 0, 0, 0, 0, 0, 0, 0, 0, 0, 0, 0, 0, 0, 0, 0, 0, 0, 0, 0, 0, 0, 0, 0, 0, 0, 0, 0, 0, 0, 0, 0, 0, 0, 0, 0, 0, 0, 0, 0, 0, 0, 0, 0, 0, 0, 0, 0, 0, 0, 0, 0, 0, 0, 0, 0, 0, 0, 0, 0, 0, 0, 0, 0, 0, 0, 0, 0, 0, 0, 0, 0, 0, 0, 0, 0, 0, 0, 0, 0, 0, 0, 0, 0, 0, 0, 0, 0, 0, 0, 0, 0, 0, 0, 0, 0, 0, 0, 0, 0, 0, 0, 0, 0, 0, 0, 0, 0, 0, 0, 0, 0, 0, 0, 0, 0, 0, 0, 0, 0, 0, 0, 0, 0, 0, 0, 0, 0, 0, 0, 0, 0, 0, 0, 0, 0, 0, 0, 0, 0, 0, 0, 0, 0, 0, 0, 0, 0, 0, 0, 0, 0, 0, 0, 0, 0, 0, 0, 0, 0, 0, 0, 0, 0, 0, 0, 0, 0, 0, 0, 0, 0, 0, 0, 0, 0, 0, 0, 0, 0, 0, 0, 0, 0, 0, 0, 0, 0, 0, 0, 0, 0, 0, 0, 0, 0, 0, 0, 0, 0, 0, 0, 0, 0, 0, 0, 0, 0, 0, 0, 0, 0, 0, 0, 0, 0, 0, 0, 0, 0, 0, 0, 0, 0, 0, 0, 0, 0, 0, 0, 0, 0, 0, 0, 0, 0, 0, 0, 0, 0, 0, 0, 0, 0, 0, 0, 0, 0, 0, 0, 0, 0, 0, 0, 0, 0, 0, 0, 0, 0, 0, 0, 0, 0, 0, 0, 0, 0, 0, 0, 0, 0, 0, 0, 0, 0, 0, 0, 0, 0, 0, 0, 0, 0, 0, 0, 0, 0, 0, 0, 0, 0, 0, 0, 0, 0, 0, 0, 0, 0, 0, 0, 0, 0, 0, 0, 0, 0, 0, 0, 0, 0, 0, 0, 0, 0, 0, 0, 0, 0, 0, 0, 0, 0, 0, 0]\n",
      "10000\n",
      "20000\n",
      "30000\n",
      "40000\n",
      "50000\n",
      "60000\n",
      "70000\n",
      "<class 'int'> <class 'str'>\n",
      "[0, 0, 0, 0, 0, 0, 0, 0, 0, 0, 0, 0, 0, 0, 0, 0, 0, 0, 0, 0, 0, 0, 0, 0, 0, 0, 0, 0, 0, 0, 0, 0, 0, 0, 0, 0, 0, 0, 0, 0, 0, 0, 0, 0, 0, 0, 0, 0, 0, 0, 0, 0, 0, 0, 0, 0, 0, 0, 0, 0, 0, 0, 0, 0, 0, 0, 0, 0, 0, 0, 0, 0, 0, 0, 0, 0, 0, 0, 0, 0, 0, 0, 0, 0, 0, 0, 0, 0, 0, 0, 0, 0, 0, 0, 0, 0, 0, 0, 0, 0, 0, 0, 0, 0, 0, 0, 0, 0, 0, 0, 0, 0, 0, 0, 0, 0, 0, 0, 0, 0, 0, 0, 0, 0, 0, 0, 0, 0, 0, 0, 0, 0, 0, 0, 0, 0, 0, 0, 0, 0, 0, 0, 0, 0, 0, 0, 0, 0, 0, 0, 0, 0, 0, 0, 0, 0, 0, 0, 0, 0, 0, 0, 0, 0, 0, 0, 0, 0, 0, 0, 0, 0, 0, 0, 0, 0, 0, 0, 0, 0, 0, 0, 0, 0, 0, 0, 0, 0, 0, 0, 0, 0, 0, 0, 0, 0, 0, 0, 0, 0, 0, 0, 0, 0, 0, 0, 0, 0, 0, 0, 0, 0, 0, 0, 0, 0, 0, 0, 0, 0, 0, 0, 0, 0, 0, 0, 0, 0, 0, 0, 0, 0, 0, 0, 0, 0, 0, 0, 0, 0, 0, 0, 0, 0, 0, 0, 0, 0, 0, 0, 0, 0, 0, 0, 0, 0, 0, 0, 0, 0, 0, 0, 0, 0, 0, 0, 0, 0, 0, 0, 0, 0, 0, 0, 0, 0, 0, 0, 0, 0, 0, 0, 0, 0, 0, 0, 0, 0, 0, 0, 0, 0, 0, 0, 0, 0, 0, 0, 0, 0, 0, 0, 0, 0, 0, 0, 0, 0, 0, 0, 0, 0, 0, 0, 0, 0, 0, 0, 0, 0, 0, 0, 0, 0, 0, 0, 0, 0, 0, 0, 0, 0, 0, 0, 0, 0, 0, 0, 0, 0, 0, 0, 0, 0, 0, 0, 0, 0, 0, 0, 0, 0, 0, 0, 0, 0, 0, 0, 0, 0, 0, 0, 0, 0, 0, 0, 0, 0, 0, 0, 0, 0, 0, 0, 0, 0, 0, 0, 0, 0, 0, 0, 0, 0, 0, 0, 0, 0, 0, 0, 0, 0, 0, 0, 0, 0, 0, 0, 0, 0, 0, 0, 0, 0, 0, 0, 0, 0, 0, 0, 0, 0, 0, 0, 0, 0, 0, 0, 0, 0, 0, 0, 0, 0, 0, 0, 0]\n",
      "10000\n",
      "20000\n",
      "30000\n",
      "40000\n",
      "50000\n",
      "60000\n",
      "70000\n",
      "80000\n"
     ]
    }
   ],
   "source": [
    "#!/usr/bin/python\n",
    "\n",
    "filepath = 'test.txt'\n",
    "filepath = 'input.txt'\n",
    "\n",
    "from datetime import datetime\n",
    "startTime = datetime.now()\n",
    "\n",
    "a = ['10 players; last marble is worth 1618 points',\n",
    "'13 players; last marble is worth 7999 points',\n",
    "'17 players; last marble is worth 1104 points',\n",
    "'21 players; last marble is worth 6111 points',\n",
    "'30 players; last marble is worth 5807 points']\n",
    "    \n",
    " \n",
    "\n",
    "def main(factors) -> \"result1, result2\":\n",
    "    print(factors)\n",
    "    result = set()\n",
    "    \n",
    "    for i, val in enumerate(factors):\n",
    "        players, lastball = '', ''\n",
    "        with open(filepath) as f:\n",
    "            line = f.readline()\n",
    "            players, numballs = int(line[:line.index(' ')]), int(line[line.index('worth ')+6:line.index(' points')])\n",
    "            numballs = numballs * val\n",
    "            f.close()\n",
    "        print(type(players), type(lastball)  )  \n",
    "        numballs = numballs\n",
    "        scores = [0]*players\n",
    "        circle = [0]\n",
    "        currentballposition = 0\n",
    "        print(scores)\n",
    "\n",
    "\n",
    "\n",
    "        for ball in range(1, numballs+1):\n",
    "            if ball%10000==0:\n",
    "                print(ball)\n",
    "            #circle.append(ball)\n",
    "\n",
    "            if ball % 23 == 0 and ball != 0: # special ball\n",
    "                scores[ball%players-1] += ball  \n",
    "                #print('SCOOOORE')\n",
    "\n",
    "                if currentballposition >= 7:\n",
    "                    currentballposition = currentballposition - 7\n",
    "                else: #smaller than 7\n",
    "                    # lets say i was on inndex 5, or 18\n",
    "                    remove = 7 - currentballposition\n",
    "                    currentballposition = len(circle) - remove\n",
    "                scores[ball%players-1] += circle[currentballposition]\n",
    "                del circle[currentballposition]\n",
    "                # if currentposition > 6\n",
    "                # currentposition = currentposition - 6\n",
    "                # else smaller, must go to 23 and minus\n",
    "\n",
    "            else:\n",
    "            #find insert index\n",
    "                #print(circle.index(ball-1), len(circle)-1)\n",
    "                #print(\"adding ball\")\n",
    "\n",
    "                if currentballposition < len(circle) - 2: # same line\n",
    "                    #print('same layer')\n",
    "                    currentballposition = currentballposition + 2\n",
    "                    circle.insert(currentballposition, ball)\n",
    "                elif currentballposition == len(circle) - 2: #right at the end of the line # \n",
    "                    #print('append')\n",
    "                    circle.append(ball)\n",
    "                    currentballposition = len(circle) - 1\n",
    "                else: # must continue clockwise\n",
    "                    #print('go around')\n",
    "                    currentballposition = 1\n",
    "                    circle.insert(currentballposition, ball)\n",
    "                    #currentballposition = + XXXXX\n",
    "                    #circle.insert(currentposition, ball)\n",
    "                #print(circle)\n",
    "\n",
    "\n",
    "                #print(len(circle), ball)\n",
    "\n",
    "\n",
    "                #insertBall(ball), ball)\n",
    "\n",
    "                #circle.append()\n",
    "\n",
    "        #elif:# the insert can be done without loop \n",
    "        #elif:# the insert needs to loop around\n",
    "\n",
    "            #    pass # catch nothing\n",
    "\n",
    "        #print(ball, circle) # replicate example\n",
    "        #print(scores)\n",
    "        #print(scores.index(max(scores)))\n",
    "\n",
    "        result.add(max(scores))\n",
    "    return result\n",
    "\n",
    "if __name__ == '__main__':\n",
    "    \n",
    "    print(main((1, 100)), str(datetime.now() - startTime)[:-3])"
   ]
  },
  {
   "cell_type": "code",
   "execution_count": 106,
   "metadata": {},
   "outputs": [
    {
     "name": "stdout",
     "output_type": "stream",
     "text": [
      "0\n",
      "1\n",
      "2\n",
      "3\n",
      "4\n"
     ]
    }
   ],
   "source": [
    "for i in range(5):\n",
    "    print(i)"
   ]
  },
  {
   "cell_type": "code",
   "execution_count": 107,
   "metadata": {},
   "outputs": [
    {
     "name": "stdout",
     "output_type": "stream",
     "text": [
      "[1, 21, 3, 3, 4, 12, 3]\n",
      "[1, 21, 3312313, 3, 3, 4, 12, 3]\n"
     ]
    }
   ],
   "source": [
    "i = [1, 21,3,3,4,12,3]\n",
    "print(i)\n",
    "i.insert(2, 3312313)\n",
    "print(i)"
   ]
  },
  {
   "cell_type": "code",
   "execution_count": 108,
   "metadata": {},
   "outputs": [
    {
     "data": {
      "text/plain": [
       "5"
      ]
     },
     "execution_count": 108,
     "metadata": {},
     "output_type": "execute_result"
    }
   ],
   "source": [
    "23% 9"
   ]
  },
  {
   "cell_type": "code",
   "execution_count": 76,
   "metadata": {},
   "outputs": [
    {
     "name": "stdout",
     "output_type": "stream",
     "text": [
      "go around\n",
      "[0, 1]\n",
      "go around\n",
      "[0, 2, 1]\n",
      "append\n",
      "[0, 2, 1, 3]\n",
      "go around\n",
      "[0, 4, 2, 1, 3]\n",
      "same layer\n",
      "[0, 4, 2, 5, 1, 3]\n",
      "same layer\n",
      "[0, 4, 2, 5, 1, 6, 3]\n",
      "append\n",
      "[0, 4, 2, 5, 1, 6, 3, 7]\n",
      "go around\n",
      "[0, 8, 4, 2, 5, 1, 6, 3, 7]\n",
      "same layer\n",
      "[0, 8, 4, 9, 2, 5, 1, 6, 3, 7]\n",
      "same layer\n",
      "[0, 8, 4, 9, 2, 10, 5, 1, 6, 3, 7]\n",
      "same layer\n",
      "[0, 8, 4, 9, 2, 10, 5, 11, 1, 6, 3, 7]\n",
      "same layer\n",
      "[0, 8, 4, 9, 2, 10, 5, 11, 1, 12, 6, 3, 7]\n",
      "same layer\n",
      "[0, 8, 4, 9, 2, 10, 5, 11, 1, 12, 6, 13, 3, 7]\n",
      "same layer\n",
      "[0, 8, 4, 9, 2, 10, 5, 11, 1, 12, 6, 13, 3, 14, 7]\n",
      "append\n",
      "[0, 8, 4, 9, 2, 10, 5, 11, 1, 12, 6, 13, 3, 14, 7, 15]\n",
      "go around\n",
      "[0, 16, 8, 4, 9, 2, 10, 5, 11, 1, 12, 6, 13, 3, 14, 7, 15]\n",
      "same layer\n",
      "[0, 16, 8, 17, 4, 9, 2, 10, 5, 11, 1, 12, 6, 13, 3, 14, 7, 15]\n",
      "same layer\n",
      "[0, 16, 8, 17, 4, 18, 9, 2, 10, 5, 11, 1, 12, 6, 13, 3, 14, 7, 15]\n",
      "same layer\n",
      "[0, 16, 8, 17, 4, 18, 9, 19, 2, 10, 5, 11, 1, 12, 6, 13, 3, 14, 7, 15]\n",
      "same layer\n",
      "[0, 16, 8, 17, 4, 18, 9, 19, 2, 20, 10, 5, 11, 1, 12, 6, 13, 3, 14, 7, 15]\n",
      "same layer\n",
      "[0, 16, 8, 17, 4, 18, 9, 19, 2, 20, 10, 21, 5, 11, 1, 12, 6, 13, 3, 14, 7, 15]\n",
      "same layer\n",
      "[0, 16, 8, 17, 4, 18, 9, 19, 2, 20, 10, 21, 5, 22, 11, 1, 12, 6, 13, 3, 14, 7, 15]\n",
      "same layer\n",
      "[0, 16, 8, 17, 4, 18, 9, 19, 2, 20, 10, 21, 5, 22, 11, 23, 1, 12, 6, 13, 3, 14, 7, 15]\n",
      "same layer\n",
      "[0, 16, 8, 17, 4, 18, 9, 19, 2, 20, 10, 21, 5, 22, 11, 23, 1, 24, 12, 6, 13, 3, 14, 7, 15]\n"
     ]
    }
   ],
   "source": [
    "circle = [0] #[0, 4, 2, 5, 1, 3] #(5)\n",
    "#circle = [0, 4, 2, 5, 1, 6, 3] # (6)\n",
    "#circle = [0, 4, 2, 5, 1, 6, 3, 7] #(7)\n",
    "\n",
    "currentballposition = 0\n",
    "for ball in range(1, 25):\n",
    "\n",
    "    if currentballposition < len(circle) - 2: # same line\n",
    "        print('same layer')\n",
    "        currentballposition = currentballposition + 2\n",
    "        circle.insert(currentballposition, ball)\n",
    "    elif currentballposition == len(circle) - 2: #right at the end of the line # \n",
    "        print('append')\n",
    "        circle.append(ball)\n",
    "        currentballposition = len(circle) - 1\n",
    "    else: # must continue clockwise\n",
    "        print('go around')\n",
    "        currentballposition = 1\n",
    "        circle.insert(currentballposition, ball)\n",
    "        #currentballposition = + XXXXX\n",
    "        #circle.insert(currentposition, ball)\n",
    "    print(circle)\n",
    "\n"
   ]
  },
  {
   "cell_type": "code",
   "execution_count": 87,
   "metadata": {},
   "outputs": [
    {
     "name": "stdout",
     "output_type": "stream",
     "text": [
      "[16, 0, 8, 17, 4, 18, 9, 19, 2, 20, 10, 21, 5, 22, 11, 1, 12, 6, 13, 3, 14, 15]\n",
      "21 7\n",
      "21\n"
     ]
    }
   ],
   "source": [
    "circle = [16, 0, 8, 17, 4, 18, 9, 19, 2,  20, 10, 21, 5, 22, 11, 1, 12, 6, 13, 3, 14, 7, 15]\n",
    "ball = 23\n",
    "currentballposition = 5\n",
    "score = 0\n",
    "\n",
    "#len 5, go 2, equals index 3\n",
    "#len 6, go 2, equals index 4 \n",
    "\n",
    "if currentballposition >= 7:\n",
    "    currentballposition = currentballposition - 7\n",
    "    score = circle[currentballposition]\n",
    "    del circle[currentballposition]\n",
    "else: #smaller than 7\n",
    "    # lets say i was on inndex 5, or 18\n",
    "    remove = 7 - currentballposition\n",
    "    currentballposition = len(circle) - remove\n",
    "    score = circle[currentballposition]\n",
    "    del circle[currentballposition]\n",
    "        # if currentposition > 6\n",
    "        # currentposition = currentposition - 6\n",
    "        # else smaller, must go to 23 and minus\n",
    "        \n",
    "print(circle)\n",
    "print(currentballposition, score)\n",
    "print(len(circle)-1)\n"
   ]
  },
  {
   "cell_type": "code",
   "execution_count": null,
   "metadata": {},
   "outputs": [],
   "source": [
    "result = 5\n",
    "print(result)"
   ]
  }
 ],
 "metadata": {
  "kernelspec": {
   "display_name": "Python 3",
   "language": "python",
   "name": "python3"
  },
  "language_info": {
   "codemirror_mode": {
    "name": "ipython",
    "version": 3
   },
   "file_extension": ".py",
   "mimetype": "text/x-python",
   "name": "python",
   "nbconvert_exporter": "python",
   "pygments_lexer": "ipython3",
   "version": "3.7.1"
  }
 },
 "nbformat": 4,
 "nbformat_minor": 2
}
