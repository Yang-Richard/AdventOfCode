{
 "cells": [
  {
   "cell_type": "code",
   "execution_count": 1,
   "metadata": {},
   "outputs": [
    {
     "name": "stdout",
     "output_type": "stream",
     "text": [
      "('7121102535', 0) 0:00:02.063\n"
     ]
    }
   ],
   "source": [
    "#!/usr/bin/python\n",
    "\n",
    "from datetime import datetime\n",
    "startTime = datetime.now()\n",
    "import numpy as np\n",
    "\n",
    "def main() -> \"result1, result2\":\n",
    "    nums = []\n",
    "    result1 , result2 = 0, 0\n",
    "    board = [3,7]\n",
    "    gen = 0\n",
    "    elfs = [0, 1]\n",
    "    cutoff = 920831\n",
    "    while(True):\n",
    "        add = board[elfs[0]] + board[elfs[1]]\n",
    "        \n",
    "        for a in str(add):\n",
    "            board.append(int(a))\n",
    "            \n",
    "        #len(board) - 1 - index of elf = distance left in current loop\n",
    "        for num, elf in enumerate(elfs):\n",
    "            if len(board) - 1 - elf > board[elf]: # new index is to the right\n",
    "                elfs[num] = elf+board[elf]+1\n",
    "                #elf1 = elf1+board[elf1]\n",
    "            else: # new index is to the left\n",
    "                elfs[num] = (board[elf]+elf+1)%len(board)\n",
    "                #elf = (board[elf1]+elf1+1)%len(board)\n",
    "            \n",
    "        #print(board, elfs)\n",
    "        \n",
    "        if len(board) == cutoff + 10:\n",
    "            break\n",
    "        '''\n",
    "        if gen % 1000 == 0:\n",
    "            print(z)\n",
    "            try: \n",
    "                result2 = \"\".join([str(x) for x in board]).index(str(cutoff))\n",
    "                break\n",
    "            except:\n",
    "                pass\n",
    "        '''    \n",
    "        gen += 1\n",
    "    result1 = \"\".join([str(x) for x in board][-10:])\n",
    "\n",
    "    return result1, result2\n",
    "\n",
    "if __name__ == '__main__':\n",
    "    print(main(), str(datetime.now() - startTime)[:-3])"
   ]
  },
  {
   "cell_type": "code",
   "execution_count": null,
   "metadata": {},
   "outputs": [],
   "source": []
  }
 ],
 "metadata": {
  "kernelspec": {
   "display_name": "Python 3",
   "language": "python",
   "name": "python3"
  },
  "language_info": {
   "codemirror_mode": {
    "name": "ipython",
    "version": 3
   },
   "file_extension": ".py",
   "mimetype": "text/x-python",
   "name": "python",
   "nbconvert_exporter": "python",
   "pygments_lexer": "ipython3",
   "version": "3.7.1"
  }
 },
 "nbformat": 4,
 "nbformat_minor": 2
}
