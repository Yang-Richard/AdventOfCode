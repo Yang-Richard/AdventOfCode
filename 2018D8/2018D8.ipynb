{
 "cells": [
  {
   "cell_type": "code",
   "execution_count": 40,
   "metadata": {},
   "outputs": [
    {
     "name": "stdout",
     "output_type": "stream",
     "text": [
      "['2', '3', '0', '3', '10', '11', '12', '1', '1', '0', '1', '99', '2', '1', '1', '2']\n"
     ]
    },
    {
     "ename": "TypeError",
     "evalue": "'int' object does not support item assignment",
     "output_type": "error",
     "traceback": [
      "\u001b[0;31m---------------------------------------------------------------------------\u001b[0m",
      "\u001b[0;31mTypeError\u001b[0m                                 Traceback (most recent call last)",
      "\u001b[0;32m<ipython-input-40-bf73e01d22a4>\u001b[0m in \u001b[0;36m<module>\u001b[0;34m\u001b[0m\n\u001b[1;32m     97\u001b[0m \u001b[0;34m\u001b[0m\u001b[0m\n\u001b[1;32m     98\u001b[0m \u001b[0;32mif\u001b[0m \u001b[0m__name__\u001b[0m \u001b[0;34m==\u001b[0m \u001b[0;34m'__main__'\u001b[0m\u001b[0;34m:\u001b[0m\u001b[0;34m\u001b[0m\u001b[0;34m\u001b[0m\u001b[0m\n\u001b[0;32m---> 99\u001b[0;31m     \u001b[0mprint\u001b[0m\u001b[0;34m(\u001b[0m\u001b[0mmain\u001b[0m\u001b[0;34m(\u001b[0m\u001b[0;34m)\u001b[0m\u001b[0;34m,\u001b[0m \u001b[0mstr\u001b[0m\u001b[0;34m(\u001b[0m\u001b[0mdatetime\u001b[0m\u001b[0;34m.\u001b[0m\u001b[0mnow\u001b[0m\u001b[0;34m(\u001b[0m\u001b[0;34m)\u001b[0m \u001b[0;34m-\u001b[0m \u001b[0mstartTime\u001b[0m\u001b[0;34m)\u001b[0m\u001b[0;34m[\u001b[0m\u001b[0;34m:\u001b[0m\u001b[0;34m-\u001b[0m\u001b[0;36m3\u001b[0m\u001b[0;34m]\u001b[0m\u001b[0;34m)\u001b[0m\u001b[0;34m\u001b[0m\u001b[0;34m\u001b[0m\u001b[0m\n\u001b[0m",
      "\u001b[0;32m<ipython-input-40-bf73e01d22a4>\u001b[0m in \u001b[0;36mmain\u001b[0;34m()\u001b[0m\n\u001b[1;32m     62\u001b[0m     \u001b[0mchildrenOnLayer\u001b[0m \u001b[0;34m=\u001b[0m \u001b[0;34m[\u001b[0m\u001b[0;36m0\u001b[0m\u001b[0;34m]\u001b[0m\u001b[0;34m*\u001b[0m\u001b[0;36m1\u001b[0m\u001b[0;34m\u001b[0m\u001b[0;34m\u001b[0m\u001b[0m\n\u001b[1;32m     63\u001b[0m     \u001b[0;32mwhile\u001b[0m\u001b[0;34m(\u001b[0m\u001b[0;32mTrue\u001b[0m\u001b[0;34m)\u001b[0m\u001b[0;34m:\u001b[0m \u001b[0;31m# This is the layer\u001b[0m\u001b[0;34m\u001b[0m\u001b[0;34m\u001b[0m\u001b[0m\n\u001b[0;32m---> 64\u001b[0;31m         \u001b[0mlayerChild\u001b[0m\u001b[0;34m[\u001b[0m\u001b[0mlayer\u001b[0m\u001b[0;34m]\u001b[0m\u001b[0;34m[\u001b[0m\u001b[0mchildrenOnLayer\u001b[0m\u001b[0;34m[\u001b[0m\u001b[0mlayer\u001b[0m\u001b[0;34m]\u001b[0m\u001b[0;34m]\u001b[0m \u001b[0;34m=\u001b[0m \u001b[0mnums\u001b[0m\u001b[0;34m[\u001b[0m\u001b[0mindex\u001b[0m\u001b[0;34m]\u001b[0m\u001b[0;34m\u001b[0m\u001b[0;34m\u001b[0m\u001b[0m\n\u001b[0m\u001b[1;32m     65\u001b[0m         \u001b[0mlayerMetadata\u001b[0m\u001b[0;34m[\u001b[0m\u001b[0mlayer\u001b[0m\u001b[0;34m]\u001b[0m\u001b[0;34m[\u001b[0m\u001b[0mchildrenOnLayer\u001b[0m\u001b[0;34m[\u001b[0m\u001b[0mlayer\u001b[0m\u001b[0;34m]\u001b[0m\u001b[0;34m]\u001b[0m \u001b[0;34m=\u001b[0m \u001b[0mnums\u001b[0m\u001b[0;34m[\u001b[0m\u001b[0mindex\u001b[0m\u001b[0;34m+\u001b[0m\u001b[0;36m1\u001b[0m\u001b[0;34m]\u001b[0m\u001b[0;34m\u001b[0m\u001b[0;34m\u001b[0m\u001b[0m\n\u001b[1;32m     66\u001b[0m         \u001b[0mchildrenOnLayer\u001b[0m\u001b[0;34m[\u001b[0m\u001b[0mlayer\u001b[0m\u001b[0;34m]\u001b[0m \u001b[0;34m+=\u001b[0m \u001b[0;36m1\u001b[0m\u001b[0;34m\u001b[0m\u001b[0;34m\u001b[0m\u001b[0m\n",
      "\u001b[0;31mTypeError\u001b[0m: 'int' object does not support item assignment"
     ]
    }
   ],
   "source": [
    "#!/usr/bin/python\n",
    "\n",
    "filepath = 'test.txt'#'input.txt'\n",
    "\n",
    "from datetime import datetime\n",
    "startTime = datetime.now()\n",
    "\n",
    "index = 0\n",
    "\n",
    "def layerScore():\n",
    "    score = 0\n",
    "    \n",
    "    # This is the layer \n",
    "    numChild = i\n",
    "    numMeta = i+1\n",
    "\n",
    "    # do something if numChild = 0\n",
    "\n",
    "    # do something if numChild is not 0.\n",
    "    if numChild == 0:\n",
    "        for i in range(readMeta):\n",
    "            index +=1\n",
    "            result1 += nums[index]\n",
    "        index +=1\n",
    "    #else:\n",
    "        # add the metadata afterwards manually\n",
    "\n",
    "\n",
    "    #level\n",
    "    \n",
    "    return score\n",
    "\n",
    "def main() -> \"result1, result2\":\n",
    "    global index\n",
    "    nums = []\n",
    "    result1 , result2 = 0, 0\n",
    "    with open(filepath) as f:\n",
    "        for line in f.readlines():\n",
    "            #for char in line:\n",
    "            nums = line.split(\" \")\n",
    "            #nums.append(char.strip())\n",
    "        f.close()\n",
    "    #for num in nums:\n",
    "        #print(type(int(num)))  \n",
    "    print(nums)\n",
    "    # sumMetadata\n",
    "    # i = current number\n",
    "    # \n",
    "    '''   \n",
    "    2 3 0 3 10 11 12 1 1 0 1 99 2 1 1 2\n",
    "    A----------------------------------\n",
    "        B----------- C-----------\n",
    "                         D-----\n",
    "    \n",
    "    [[(2,3)], [(0,3), (1,1)], (0,1)]\n",
    "    ''' \n",
    "    \n",
    "    [A[B][C[D]]\n",
    "     [[][[]]]#layer level\n",
    "    \n",
    "    layer = 0\n",
    "    score = [] # a list of generators, in which result1 is the sum of the scores\n",
    "    layerChild = [0]*1\n",
    "    layerMetadata = [0]*1\n",
    "    childrenOnLayer = [0]*1\n",
    "    while(True): # This is the layer \n",
    "        layerChild[layer][childrenOnLayer[layer]] = nums[index]\n",
    "        layerMetadata[layer][childrenOnLayer[layer]] = nums[index+1]\n",
    "        childrenOnLayer[layer] += 1\n",
    "        \n",
    "        if layerChild[layer] == 0:\n",
    "            index += 2\n",
    "            for i in range(layerMetadata[layer][childrenOnLayer[layer]]):\n",
    "                result1 += nums[index]\n",
    "                index +=1\n",
    "            while layerChild[layer-1] == childrenOnLayer[layer]:\n",
    "                if layer < 1: \n",
    "                    layer -= 1\n",
    "                    for i in range(layerMetadata[layer][childrenOnLayer[layer]]):\n",
    "                        result1 += nums[index]\n",
    "                        index +=1\n",
    "                else: \n",
    "                    done = True\n",
    "                    break\n",
    "        else:\n",
    "            index += 2\n",
    "            layer += 1\n",
    "            layerChild[layer].append(0)\n",
    "            layerMetadata[layer].append(0)\n",
    "            childrenOnLayer[layer].append(0)   \n",
    "            \n",
    "        if done:\n",
    "            break\n",
    "            \n",
    "       \n",
    "            # add the metadata afterwards manually\n",
    "        #level\n",
    "\n",
    "    return result1, result2\n",
    "\n",
    "if __name__ == '__main__':\n",
    "    print(main(), str(datetime.now() - startTime)[:-3])"
   ]
  },
  {
   "cell_type": "code",
   "execution_count": 51,
   "metadata": {},
   "outputs": [
    {
     "name": "stdout",
     "output_type": "stream",
     "text": [
      "[[], [], []]\n",
      "[[[]], [[]], [[]]]\n"
     ]
    }
   ],
   "source": [
    "a = [list()]*3\n",
    "print(a)\n",
    "a[0].append(list())\n",
    "print(a)"
   ]
  },
  {
   "cell_type": "code",
   "execution_count": null,
   "metadata": {},
   "outputs": [],
   "source": []
  }
 ],
 "metadata": {
  "kernelspec": {
   "display_name": "Python 3",
   "language": "python",
   "name": "python3"
  },
  "language_info": {
   "codemirror_mode": {
    "name": "ipython",
    "version": 3
   },
   "file_extension": ".py",
   "mimetype": "text/x-python",
   "name": "python",
   "nbconvert_exporter": "python",
   "pygments_lexer": "ipython3",
   "version": "3.7.1"
  }
 },
 "nbformat": 4,
 "nbformat_minor": 2
}
