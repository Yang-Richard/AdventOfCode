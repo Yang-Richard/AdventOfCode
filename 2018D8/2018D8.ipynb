{
 "cells": [
  {
   "cell_type": "code",
   "execution_count": 308,
   "metadata": {},
   "outputs": [
    {
     "name": "stdout",
     "output_type": "stream",
     "text": [
      "24\n",
      "[[(2, 3)]] 0\n",
      "moving up layer\n",
      "[[(2, 3)], [(1, 2)]] 1\n",
      "moving up layer\n",
      "[[(2, 3)], [(1, 2)], [(1, 3)]] 2\n",
      "moving up layer\n",
      "[[(2, 3)], [(1, 2)], [(1, 3)], [(0, 3)]] 3\n",
      "flat\n",
      "summing 5\n",
      "summing 5\n",
      "summing 5\n",
      "[[(2, 3)], [(1, 2)], [(1, 3)], [(0, 3)]] [1, 1, 1, 1]\n",
      "[[(2, 3)], [(1, 2)], [(1, 3)], [(0, 3), (9, 8)]] 3\n",
      "moving up layer\n",
      "[[(2, 3)], [(1, 2)], [(1, 3)], [(0, 3), (9, 8)], [(7, 5)]] 4\n",
      "moving up layer\n",
      "[[(2, 3)], [(1, 2)], [(1, 3)], [(0, 3), (9, 8)], [(7, 5)], [(1, 1)]] 5\n",
      "moving up layer\n",
      "[[(2, 3)], [(1, 2)], [(1, 3)], [(0, 3), (9, 8)], [(7, 5)], [(1, 1)], [(0, 1)]] 6\n",
      "flat\n",
      "summing 1\n",
      "[[(2, 3)], [(1, 2)], [(1, 3)], [(0, 3), (9, 8)], [(7, 5)], [(1, 1)], [(0, 1)]] [1, 1, 1, 2, 1, 1, 1]\n",
      "[[(2, 3)], [(1, 2)], [(1, 3)], [(0, 3), (9, 8)], [(7, 5)], [(1, 1)], [(0, 1), (5, 5)]] 6\n",
      "moving up layer\n",
      "[[(2, 3)], [(1, 2)], [(1, 3)], [(0, 3), (9, 8)], [(7, 5)], [(1, 1)], [(0, 1), (5, 5)], [(5, 5)]] 7\n",
      "moving up layer\n"
     ]
    },
    {
     "ename": "IndexError",
     "evalue": "list index out of range",
     "output_type": "error",
     "traceback": [
      "\u001b[0;31m---------------------------------------------------------------------------\u001b[0m",
      "\u001b[0;31mIndexError\u001b[0m                                Traceback (most recent call last)",
      "\u001b[0;32m<ipython-input-308-04f21d8f4460>\u001b[0m in \u001b[0;36m<module>\u001b[0;34m\u001b[0m\n\u001b[1;32m     96\u001b[0m \u001b[0;34m\u001b[0m\u001b[0m\n\u001b[1;32m     97\u001b[0m \u001b[0;32mif\u001b[0m \u001b[0m__name__\u001b[0m \u001b[0;34m==\u001b[0m \u001b[0;34m'__main__'\u001b[0m\u001b[0;34m:\u001b[0m\u001b[0;34m\u001b[0m\u001b[0;34m\u001b[0m\u001b[0m\n\u001b[0;32m---> 98\u001b[0;31m     \u001b[0mprint\u001b[0m\u001b[0;34m(\u001b[0m\u001b[0mmain\u001b[0m\u001b[0;34m(\u001b[0m\u001b[0;34m)\u001b[0m\u001b[0;34m,\u001b[0m \u001b[0mstr\u001b[0m\u001b[0;34m(\u001b[0m\u001b[0mdatetime\u001b[0m\u001b[0;34m.\u001b[0m\u001b[0mnow\u001b[0m\u001b[0;34m(\u001b[0m\u001b[0;34m)\u001b[0m \u001b[0;34m-\u001b[0m \u001b[0mstartTime\u001b[0m\u001b[0;34m)\u001b[0m\u001b[0;34m[\u001b[0m\u001b[0;34m:\u001b[0m\u001b[0;34m-\u001b[0m\u001b[0;36m3\u001b[0m\u001b[0;34m]\u001b[0m\u001b[0;34m)\u001b[0m\u001b[0;34m\u001b[0m\u001b[0;34m\u001b[0m\u001b[0m\n\u001b[0m\u001b[1;32m     99\u001b[0m     '''\n\u001b[1;32m    100\u001b[0m \u001b[0;34m\u001b[0m\u001b[0m\n",
      "\u001b[0;32m<ipython-input-308-04f21d8f4460>\u001b[0m in \u001b[0;36mmain\u001b[0;34m()\u001b[0m\n\u001b[1;32m     90\u001b[0m                 \u001b[0mlayerChild\u001b[0m\u001b[0;34m.\u001b[0m\u001b[0mappend\u001b[0m\u001b[0;34m(\u001b[0m\u001b[0;34m[\u001b[0m\u001b[0;34m]\u001b[0m\u001b[0;34m)\u001b[0m\u001b[0;34m\u001b[0m\u001b[0;34m\u001b[0m\u001b[0m\n\u001b[1;32m     91\u001b[0m                 \u001b[0mchildrenOnLayer\u001b[0m\u001b[0;34m.\u001b[0m\u001b[0mappend\u001b[0m\u001b[0;34m(\u001b[0m\u001b[0;36m0\u001b[0m\u001b[0;34m)\u001b[0m\u001b[0;34m\u001b[0m\u001b[0;34m\u001b[0m\u001b[0m\n\u001b[0;32m---> 92\u001b[0;31m         \u001b[0mlayerChild\u001b[0m\u001b[0;34m[\u001b[0m\u001b[0mlayer\u001b[0m\u001b[0;34m]\u001b[0m\u001b[0;34m.\u001b[0m\u001b[0mappend\u001b[0m\u001b[0;34m(\u001b[0m\u001b[0;34m(\u001b[0m\u001b[0mnums\u001b[0m\u001b[0;34m[\u001b[0m\u001b[0mindex\u001b[0m\u001b[0;34m]\u001b[0m\u001b[0;34m,\u001b[0m \u001b[0mnums\u001b[0m\u001b[0;34m[\u001b[0m\u001b[0mindex\u001b[0m\u001b[0;34m+\u001b[0m\u001b[0;36m1\u001b[0m\u001b[0;34m]\u001b[0m\u001b[0;34m)\u001b[0m\u001b[0;34m)\u001b[0m\u001b[0;34m\u001b[0m\u001b[0;34m\u001b[0m\u001b[0m\n\u001b[0m\u001b[1;32m     93\u001b[0m \u001b[0;34m\u001b[0m\u001b[0m\n\u001b[1;32m     94\u001b[0m \u001b[0;34m\u001b[0m\u001b[0m\n",
      "\u001b[0;31mIndexError\u001b[0m: list index out of range"
     ]
    }
   ],
   "source": [
    "#!/usr/bin/python\n",
    "\n",
    "filepath = 'test.txt'\n",
    "#filepath = 'input.txt'\n",
    "\n",
    "from datetime import datetime\n",
    "startTime = datetime.now()\n",
    "#3 1 1 2 0 1 11 12 1 0 2 1 1 1 1 0 1 99 2 0\n",
    "\n",
    "index = 0\n",
    "\n",
    "def main() -> \"result1, result2\":\n",
    "    global index\n",
    "    nums = []\n",
    "    result1 , result2 = 0, 0\n",
    "    with open(filepath) as f:\n",
    "        for line in f.readlines():\n",
    "            #for char in line:\n",
    "            nums = [int(x) for x in line.split(\" \")]\n",
    "            #nums.append(char.strip())\n",
    "        f.close()\n",
    "    #for num in nums:\n",
    "        #print(type(int(num)))  \n",
    "    #print(nums)\n",
    "    # sumMetadata\n",
    "    # i = current number\n",
    "    # \n",
    "    '''   \n",
    "    2 3 0 3 10 11 12 1 1 0 1 99 2 1 1 2\n",
    "    A----------------------------------\n",
    "        B----------- C-----------\n",
    "              ___      D-----\n",
    "    \n",
    "    [[(2,3)], [(0,3), (1,1)], (0,1)]\n",
    "    \n",
    "    3 1 1 2 0 1 11 12 1 1 0 1 99 2 0 0 0\n",
    "    \n",
    "    3 1 1 2 0 1 11 12 1 0 2 1 1 1 1 0 1 99 2 0\n",
    "    -------------------------------------------\n",
    "        ----------------A-------C------------\n",
    "            -------                 -------\n",
    "    \n",
    "    2 3 2 2 1 1 0 1 5 5 5 5 1 1 0 1 1 5 5 5 5 \n",
    "    A-----------------------------------------\n",
    "        B-------------------C-----------\n",
    "            ------------        D-----\n",
    "                ------\n",
    "    \n",
    "    \n",
    "    ''' \n",
    "    layer = 0\n",
    "    score = [] # a list of generators, in which result1 is the sum of the scores\n",
    "    layerChild = [[]]\n",
    "    #layerMetadata = [0]*1\n",
    "    childrenOnLayer = [0]\n",
    "    layerChild[layer].append((nums[index], nums[index+1]))\n",
    "    done = False\n",
    "    print(len(nums))\n",
    "    while(index < len(nums)): #1100): This is the layer \n",
    "        print(layerChild, layer)\n",
    "        #print('layer', layer)#, layerChild)\n",
    "        childrenOnLayer[layer] += 1\n",
    "        if layerChild[layer][childrenOnLayer[layer]-1][0] == 0:\n",
    "            print(\"flat\")\n",
    "            index += 2\n",
    "            for i in range(layerChild[layer][childrenOnLayer[layer]-1][1]):\n",
    "                result1 += nums[index]\n",
    "                print(\"summing\", nums[index])\n",
    "                index +=1\n",
    "            print(layerChild, childrenOnLayer)\n",
    "            while layerChild[layer][childrenOnLayer[layer-1]-1][0] == childrenOnLayer[layer] and layer > 0:\n",
    "                print(\"descending\", childrenOnLayer, layerChild)\n",
    "                childrenOnLayer[layer] = 0\n",
    "                layer -= 1\n",
    "                for i in range(layerChild[layer][childrenOnLayer[layer]-1][1]):\n",
    "                    result1 += nums[index]\n",
    "                    print(\"summing in descending while loop\", nums[index], childrenOnLayer)\n",
    "                    index +=1\n",
    "                print(childrenOnLayer)\n",
    "                print(layerChild[layer][childrenOnLayer[layer-1]-1][0] , childrenOnLayer[layer]-1)\n",
    "            if layer == 0:\n",
    "                break\n",
    "        else:\n",
    "            print('moving up layer')\n",
    "            index += 2\n",
    "            layer += 1\n",
    "            \n",
    "           # print(len(layerChild), layer)\n",
    "            if len(layerChild) == layer:\n",
    "                layerChild.append([])\n",
    "                childrenOnLayer.append(0)\n",
    "        layerChild[layer].append((nums[index], nums[index+1]))\n",
    "            \n",
    "        \n",
    "    return result1, result2\n",
    "\n",
    "if __name__ == '__main__':\n",
    "    print(main(), str(datetime.now() - startTime)[:-3])\n",
    "    '''\n",
    "    \n",
    "    3 1 1 2 0 1 11 12 1 0 2 1 1 1 1 0 1 99 2 0\n",
    "    -------------------------------------------\n",
    "        ----------------A-------C------------\n",
    "            -------                 -------\n",
    "    2 3 1 2 1 3 0 3 5 5 5 5 6 5 5 1 1 0 1 1 5 5 5 5\n",
    "    A-----------------------------------------------\n",
    "        B-------------------------C-----------\n",
    "            ------------------        D-----\n",
    "                ----------'''\n",
    "    \n",
    "    "
   ]
  },
  {
   "cell_type": "code",
   "execution_count": 302,
   "metadata": {},
   "outputs": [
    {
     "ename": "SyntaxError",
     "evalue": "invalid syntax (<ipython-input-302-548e11023985>, line 1)",
     "output_type": "error",
     "traceback": [
      "\u001b[0;36m  File \u001b[0;32m\"<ipython-input-302-548e11023985>\"\u001b[0;36m, line \u001b[0;32m1\u001b[0m\n\u001b[0;31m    6 983\u001b[0m\n\u001b[0m        ^\u001b[0m\n\u001b[0;31mSyntaxError\u001b[0m\u001b[0;31m:\u001b[0m invalid syntax\n"
     ]
    }
   ],
   "source": [
    "6 983\n",
    "6 984\n",
    "6 985\n",
    "main while\n",
    "main while\n",
    "main while\n",
    "main while\n",
    "main while\n",
    "main while\n",
    "main while\n",
    "11 1007\n",
    "11 1008\n",
    "11 1009\n",
    "\n",
    "\n",
    "\n",
    "\n",
    "\n",
    "a = [list()]*3\n",
    "print(a)\n",
    "a[0].append(list())\n",
    "print(a)"
   ]
  },
  {
   "cell_type": "code",
   "execution_count": 89,
   "metadata": {},
   "outputs": [
    {
     "name": "stdout",
     "output_type": "stream",
     "text": [
      "0\n"
     ]
    }
   ],
   "source": [
    "a = [[(2,3)], [(0,3), (1,1)], (0,1)]\n",
    "print(a[1][0][0])\n"
   ]
  },
  {
   "cell_type": "code",
   "execution_count": 78,
   "metadata": {},
   "outputs": [
    {
     "name": "stdout",
     "output_type": "stream",
     "text": [
      "[]\n",
      "[0, 0, 0, 0]\n"
     ]
    }
   ],
   "source": [
    "a = []\n",
    "print(a)\n",
    "a.append(0)\n",
    "a.append(0)\n",
    "a.append(0)\n",
    "a.append(0)\n",
    "print(a)"
   ]
  },
  {
   "cell_type": "code",
   "execution_count": null,
   "metadata": {},
   "outputs": [],
   "source": []
  }
 ],
 "metadata": {
  "kernelspec": {
   "display_name": "Python 3",
   "language": "python",
   "name": "python3"
  },
  "language_info": {
   "codemirror_mode": {
    "name": "ipython",
    "version": 3
   },
   "file_extension": ".py",
   "mimetype": "text/x-python",
   "name": "python",
   "nbconvert_exporter": "python",
   "pygments_lexer": "ipython3",
   "version": "3.7.1"
  }
 },
 "nbformat": 4,
 "nbformat_minor": 2
}
