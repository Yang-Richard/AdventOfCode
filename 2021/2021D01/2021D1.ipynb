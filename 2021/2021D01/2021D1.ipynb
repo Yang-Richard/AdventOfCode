{
 "cells": [
  {
   "cell_type": "code",
   "execution_count": 59,
   "metadata": {
    "scrolled": false
   },
   "outputs": [
    {
     "name": "stdout",
     "output_type": "stream",
     "text": [
      "1233\n",
      "1275\n",
      "0:00:00.002\n"
     ]
    }
   ],
   "source": [
    "from datetime import datetime\n",
    "startTime = datetime.now()\n",
    "\n",
    "import re\n",
    "from collections import deque, Counter, defaultdict\n",
    "from itertools import permutations, combinations, count, product\n",
    "from operator import *\n",
    "\n",
    "filepath = 'input.txt'\n",
    "#filepath = 'test.txt'\n",
    "\n",
    "data = []\n",
    "with open(filepath, 'r') as f:\n",
    "    data = [int(line.strip()) for line in f.readlines()]\n",
    "\n",
    "print(sum([data[n+1] > data[n] for n in range(len(data)-1)]))\n",
    "print(sum([sum(data[n+1:n+4]) > sum(data[n:n+3]) for n in range(len(data)-3)]))\n",
    "        \n",
    "print(str(datetime.now() - startTime)[:-3])"
   ]
  },
  {
   "cell_type": "code",
   "execution_count": null,
   "metadata": {},
   "outputs": [],
   "source": []
  }
 ],
 "metadata": {
  "kernelspec": {
   "display_name": "Python 3",
   "language": "python",
   "name": "python3"
  },
  "language_info": {
   "codemirror_mode": {
    "name": "ipython",
    "version": 3
   },
   "file_extension": ".py",
   "mimetype": "text/x-python",
   "name": "python",
   "nbconvert_exporter": "python",
   "pygments_lexer": "ipython3",
   "version": "3.6.9"
  }
 },
 "nbformat": 4,
 "nbformat_minor": 2
}
