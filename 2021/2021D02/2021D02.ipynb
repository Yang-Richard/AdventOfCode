{
 "cells": [
  {
   "cell_type": "code",
   "execution_count": 50,
   "metadata": {
    "scrolled": false
   },
   "outputs": [
    {
     "name": "stdout",
     "output_type": "stream",
     "text": [
      "2027977\n",
      "1903644897\n",
      "0:00:00.001\n"
     ]
    }
   ],
   "source": [
    "from datetime import datetime\n",
    "startTime = datetime.now()\n",
    "\n",
    "import re\n",
    "from collections import deque, Counter, defaultdict\n",
    "from itertools import permutations, combinations, count, product\n",
    "from operator import *\n",
    "\n",
    "filepath = 'input.txt'\n",
    "#filepath = 'test.txt'\n",
    "\n",
    "def p1():\n",
    "    h, d = 0, 0\n",
    "    \n",
    "    for line in data:\n",
    "        val = int(line[1])\n",
    "        if line[0] == \"forward\":\n",
    "            h += val\n",
    "        elif line[0] == \"down\":\n",
    "            d += val\n",
    "        else:\n",
    "            d -= val\n",
    "        \n",
    "    return h*d\n",
    "\n",
    "def p2():\n",
    "    h, d , aim= 0, 0, 0\n",
    "\n",
    "    for line in data:\n",
    "        val = int(line[1])\n",
    "        if line[0] == \"forward\":\n",
    "            h += val\n",
    "            d += aim * val\n",
    "        elif line[0] == \"down\":\n",
    "            aim += val\n",
    "        else:\n",
    "            aim -= val\n",
    "        \n",
    "    return h*d\n",
    "\n",
    "data = []\n",
    "with open(filepath, 'r') as f:\n",
    "    data = [line.strip().split(\" \") for line in f.readlines()]\n",
    "    \n",
    "print(p1())\n",
    "print(p2())\n",
    "        \n",
    "print(str(datetime.now() - startTime)[:-3])"
   ]
  },
  {
   "cell_type": "code",
   "execution_count": null,
   "metadata": {},
   "outputs": [],
   "source": []
  }
 ],
 "metadata": {
  "kernelspec": {
   "display_name": "Python 3",
   "language": "python",
   "name": "python3"
  },
  "language_info": {
   "codemirror_mode": {
    "name": "ipython",
    "version": 3
   },
   "file_extension": ".py",
   "mimetype": "text/x-python",
   "name": "python",
   "nbconvert_exporter": "python",
   "pygments_lexer": "ipython3",
   "version": "3.6.9"
  }
 },
 "nbformat": 4,
 "nbformat_minor": 2
}
