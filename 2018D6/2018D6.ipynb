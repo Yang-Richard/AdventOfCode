{
 "cells": [
  {
   "cell_type": "code",
   "execution_count": 121,
   "metadata": {},
   "outputs": [
    {
     "name": "stdout",
     "output_type": "stream",
     "text": [
      "(3251, 47841) 0:00:02.997\n"
     ]
    }
   ],
   "source": [
    "#!/usr/bin/python\n",
    "\n",
    "filepath = 'input.txt' \n",
    "\n",
    "from datetime import datetime\n",
    "import re\n",
    "import numpy as np\n",
    "startTime = datetime.now()\n",
    "\n",
    "def main() -> \"result1, result2\":\n",
    "    nums = set()\n",
    "    result1 , result2 = 0, 0\n",
    "    \n",
    "    with open(filepath) as f:\n",
    "        for line in f.readlines():\n",
    "            nums.add(tuple(int(x) for x in re.findall(r'\\d+', line)))\n",
    "        f.close()\n",
    "        \n",
    "    minx, maxx = min(pos[0] for pos in nums), max(pos[0] for pos in nums) # define domain\n",
    "    miny, maxy = min(pos[1] for pos in nums), max(pos[1] for pos in nums)\n",
    "    \n",
    "    array = np.array([[None] * (maxx - minx + 1)] * (maxy - miny + 1)) # array = y, array[0] = x\n",
    "    region = np.array([[False] * (maxx - minx + 1)] * (maxy - miny + 1))\n",
    "    \n",
    "    for x in range(len(array[0])): # for every position in grid\n",
    "        for y in range(len(array)):  \n",
    "            scores = []\n",
    "            for i, bomb in enumerate(nums): # obtain list of manhattan scores for all mines\n",
    "                scores.append(abs(x + minx - bomb[0]) + abs(y + miny - bomb[1]))\n",
    "            if scores.count(min(scores)) > 1: # if 2 mines tie\n",
    "                array[y, x] = np.nan\n",
    "            else:\n",
    "                array[y, x] = scores.index(min(scores))\n",
    "            region[y,x] = sum(scores) < 10000 # part 2 sum of manhattan\n",
    "\n",
    "    edges = set() # init and add values to edge indexes\n",
    "    for y in [0, len(array)-1]: # top, bottom\n",
    "        for x in range(len(array[0])): \n",
    "            edges.add(array[y,x])     \n",
    "    for y in range(len(array)): #left, right\n",
    "        for x in [0, len(array[0])-1]: \n",
    "            edges.add(array[y,x])\n",
    "    edges.remove(np.nan)\n",
    "    \n",
    "    sizes = dict(collections.Counter(array.flatten()))\n",
    "    sort = [None]*(len(sizes))\n",
    "    for key, value in sizes.items(): # convert dict to list\n",
    "        if key is not np.nan:\n",
    "            sort[key] = value\n",
    "\n",
    "    sort = [x for x in sort if x != None]\n",
    "    reference = sort.copy() # obtain reference of the pre-sorted set, to alter index value to\n",
    "                            # the new post-sorted value in the edges set\n",
    "    sort.sort(reverse=True)\n",
    "\n",
    "    newEdges = set() # create new edge set\n",
    "    for i in edges: \n",
    "        newEdges.add(sort.index(reference[i]))\n",
    "\n",
    "    for i, count in enumerate(sort): # check if i is hit on any edges \n",
    "        if i in newEdges:\n",
    "            continue\n",
    "        else: # not diverging to infinity\n",
    "            result1 = count\n",
    "            break\n",
    "            \n",
    "    result2 = sum(sum(region))\n",
    "\n",
    "    return result1, result2\n",
    "\n",
    "if __name__ == '__main__':\n",
    "    print(main(), str(datetime.now() - startTime)[:-3]) # (3251, 47841) 0:00:02.997"
   ]
  },
  {
   "cell_type": "code",
   "execution_count": null,
   "metadata": {},
   "outputs": [],
   "source": []
  }
 ],
 "metadata": {
  "kernelspec": {
   "display_name": "Python 3",
   "language": "python",
   "name": "python3"
  },
  "language_info": {
   "codemirror_mode": {
    "name": "ipython",
    "version": 3
   },
   "file_extension": ".py",
   "mimetype": "text/x-python",
   "name": "python",
   "nbconvert_exporter": "python",
   "pygments_lexer": "ipython3",
   "version": "3.7.1"
  }
 },
 "nbformat": 4,
 "nbformat_minor": 2
}
