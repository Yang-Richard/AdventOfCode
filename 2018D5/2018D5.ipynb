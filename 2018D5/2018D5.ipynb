{
 "cells": [
  {
   "cell_type": "code",
   "execution_count": 7,
   "metadata": {
    "scrolled": false
   },
   "outputs": [
    {
     "name": "stdout",
     "output_type": "stream",
     "text": [
      "(9562, 4934) 0:02:34.321\n"
     ]
    }
   ],
   "source": [
    "#!/usr/bin/python\n",
    "from string import ascii_lowercase\n",
    "from datetime import datetime\n",
    "\n",
    "startTime = datetime.now()\n",
    "filepath = 'input.txt'\n",
    "\n",
    "def reduce(nums):\n",
    "    while(True):\n",
    "        remove = set()\n",
    "        for i in range(len(nums)-1):\n",
    "            first = nums[i]\n",
    "            second = nums[i+1]\n",
    "            if first.isupper() == second.islower() and first.lower() == second.lower(): # opposite case\n",
    "                remove.add(first + second)\n",
    "                \n",
    "        for rem in remove:\n",
    "            nums = nums.replace(rem,'')\n",
    "\n",
    "        if len(remove) == 0:\n",
    "            break\n",
    "            \n",
    "    return nums\n",
    "\n",
    "def main() -> \"result1, result2\":\n",
    "    result1 , result2 = 0, 0\n",
    "    \n",
    "    with open(filepath) as f:\n",
    "        nums = ((f.readlines())[0]).strip()\n",
    "        f.close()\n",
    "        \n",
    "    result1 = len(reduce(nums))\n",
    "\n",
    "    score = [0]*26 # 0 = a, 25 = z\n",
    "    for i, char in enumerate(ascii_lowercase):\n",
    "        result = reduce(nums.replace(char.lower(),'').replace(char.upper(),''))\n",
    "        score[i] = len(result) \n",
    "    result2 = min(score)\n",
    "    \n",
    "    return result1, result2\n",
    "\n",
    "if __name__ == '__main__':\n",
    "    print(main(), str(datetime.now() - startTime)[:-3])"
   ]
  }
 ],
 "metadata": {
  "kernelspec": {
   "display_name": "Python 3",
   "language": "python",
   "name": "python3"
  },
  "language_info": {
   "codemirror_mode": {
    "name": "ipython",
    "version": 3
   },
   "file_extension": ".py",
   "mimetype": "text/x-python",
   "name": "python",
   "nbconvert_exporter": "python",
   "pygments_lexer": "ipython3",
   "version": "3.7.1"
  }
 },
 "nbformat": 4,
 "nbformat_minor": 2
}
