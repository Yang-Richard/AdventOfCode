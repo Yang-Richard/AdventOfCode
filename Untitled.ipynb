{
 "cells": [
  {
   "cell_type": "code",
   "execution_count": 7,
   "metadata": {},
   "outputs": [
    {
     "name": "stdout",
     "output_type": "stream",
     "text": [
      "{'one': {'a': [5, 5, 5, 5, 5], 'b': [6, 6, 6, 6, 6], 'c': [7, 7, 7, 7, 7]}, 'two': {'a': [5, 5, 5, 5, 5], 'b': [6, 6, 6, 6, 6], 'c': [7, 7, 7, 7, 7]}, 'three': {'a': [5, 5, 5, 5, 5], 'b': [6, 6, 6, 6, 6], 'c': [7, 7, 7, 7, 7]}, 'four': {'a': [5, 5, 5, 5, 5], 'b': [6, 6, 6, 6, 6], 'c': [7, 7, 7, 7, 7]}, 'five': {'a': [5, 5, 5, 5, 5], 'b': [6, 6, 6, 6, 6], 'c': [7, 7, 7, 7, 7]}}\n"
     ]
    }
   ],
   "source": [
    "a = {}\n",
    "measurement = {'a': 5, 'b': 6, 'c': 7}\n",
    "import random\n",
    "#b = ['a','b','c','d','e','f','g']\n",
    "c = ['one','two','three','four','five']\n",
    "\n",
    "random.randint(1,101)\n",
    "for i in c:\n",
    "    if not a.get(i):\n",
    "        a[i] = {}\n",
    "    for j in range(5):\n",
    "        for dial in measurement:\n",
    "            if a[i].get(dial):\n",
    "                a[i][dial].append(measurement[dial])\n",
    "            else:\n",
    "                a[i][dial] = [measurement[dial]]\n",
    "print(a)"
   ]
  },
  {
   "cell_type": "code",
   "execution_count": 8,
   "metadata": {},
   "outputs": [
    {
     "name": "stdout",
     "output_type": "stream",
     "text": [
      "{'a': [5, 5, 5, 5, 5], 'b': [6, 6, 6, 6, 6], 'c': [7, 7, 7, 7, 7]}\n"
     ]
    }
   ],
   "source": [
    "a = {}\n",
    "measurement = {'a': 5, 'b': 6, 'c': 7}\n",
    "import random\n",
    "#b = ['a','b','c','d','e','f','g']\n",
    "c = ['one','two','three','four','five']\n",
    "\n",
    "random.randint(1,101)\n",
    "\n",
    "for j in range(5):\n",
    "    for dial in measurement:\n",
    "        if a.get(dial):\n",
    "            a[dial].append(measurement[dial])\n",
    "        else:\n",
    "            a[dial] = [measurement[dial]]\n",
    "print(a)"
   ]
  },
  {
   "cell_type": "code",
   "execution_count": null,
   "metadata": {},
   "outputs": [],
   "source": []
  }
 ],
 "metadata": {
  "kernelspec": {
   "display_name": "Python 3",
   "language": "python",
   "name": "python3"
  },
  "language_info": {
   "codemirror_mode": {
    "name": "ipython",
    "version": 3
   },
   "file_extension": ".py",
   "mimetype": "text/x-python",
   "name": "python",
   "nbconvert_exporter": "python",
   "pygments_lexer": "ipython3",
   "version": "3.7.1"
  }
 },
 "nbformat": 4,
 "nbformat_minor": 2
}
