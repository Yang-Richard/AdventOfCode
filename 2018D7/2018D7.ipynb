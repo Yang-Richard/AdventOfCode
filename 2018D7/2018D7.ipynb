{
 "cells": [
  {
   "cell_type": "code",
   "execution_count": 302,
   "metadata": {
    "scrolled": false
   },
   "outputs": [
    {
     "name": "stdout",
     "output_type": "stream",
     "text": [
      "BETUFNVADWGPLRJOHMXKZQCISY 0:00:00.001\n"
     ]
    }
   ],
   "source": [
    "#!/usr/bin/python\n",
    "\n",
    "from datetime import datetime\n",
    "startTime = datetime.now()\n",
    "\n",
    "filepath = 'input.txt'\n",
    "\n",
    "def main():\n",
    "    alphabet = 'ABCDEFGHIJKLMNOPQRSTUVWXYZ'\n",
    "    dependancies = ['']*26\n",
    "    rules = ['']*2\n",
    "    result1 = ''\n",
    "    \n",
    "    with open(filepath) as f:\n",
    "        for line in f.readlines():\n",
    "            dependancies[alphabet.index(line[5:6])] += line[36:37]\n",
    "            rules[0] = rules[0] + line[5:6]\n",
    "            rules[1] = rules[1] + line[36:37] \n",
    "        f.close()\n",
    "    \n",
    "    buffer = ''\n",
    "    for char in rules[0]:\n",
    "        if char not in rules[1]:\n",
    "            buffer = buffer + char\n",
    "    buffer = ''.join(sorted(set(buffer)))\n",
    "    \n",
    "    for i in range(len(''.join(set(rules[0])))+1):\n",
    "        char = buffer[:1]\n",
    "        result1 = result1 + char\n",
    "        buffer = buffer.replace(char,'') \n",
    "        addToBuffer = dependancies[alphabet.index(char)]\n",
    "        dependancies[alphabet.index(char)] = ''\n",
    "        for bufferChar in addToBuffer:\n",
    "            for val in dependancies:\n",
    "                if bufferChar in val:\n",
    "                    addToBuffer = addToBuffer.replace(bufferChar, '')      \n",
    "        buffer = ''.join(sorted(buffer + addToBuffer))\n",
    "\n",
    "    return result1 + buffer[:1]\n",
    "\n",
    "if __name__ == '__main__':\n",
    "    print(main(), str(datetime.now() - startTime)[:-3]) #BETUFNVADWGPLRJOHMXKZQCISY"
   ]
  },
  {
   "cell_type": "code",
   "execution_count": 311,
   "metadata": {},
   "outputs": [
    {
     "name": "stdout",
     "output_type": "stream",
     "text": [
      "848 0:00:00.005\n"
     ]
    }
   ],
   "source": [
    "#!/usr/bin/python\n",
    "\n",
    "from datetime import datetime\n",
    "startTime = datetime.now()\n",
    "\n",
    "filepath = 'input.txt'\n",
    "\n",
    "def main():\n",
    "    alphabet = 'ABCDEFGHIJKLMNOPQRSTUVWXYZ'\n",
    "    dependancies = ['']*26\n",
    "    rules = ['']*2\n",
    "    order = ''\n",
    "    \n",
    "    with open(filepath) as f:\n",
    "        for line in f.readlines():\n",
    "            dependancies[alphabet.index(line[5:6])] += line[36:37]\n",
    "            rules[0] = rules[0] + line[5:6]\n",
    "            rules[1] = rules[1] + line[36:37] \n",
    "        f.close()\n",
    "    \n",
    "    buffer = ''\n",
    "    for char in rules[0]:\n",
    "        if char not in rules[1]:\n",
    "            buffer = buffer + char\n",
    "    buffer = ''.join(sorted(set(buffer)))\n",
    "    \n",
    "    time = 0 \n",
    "    workerJob = [None]*5\n",
    "    workerTime = [0]*5\n",
    "    \n",
    "    while(True): \n",
    "        for i, remTime in enumerate(workerTime):\n",
    "            if remTime == 0 and workerJob[i] != None:\n",
    "                order = order + workerJob[i]\n",
    "                addToBuffer = dependancies[alphabet.index(workerJob[i])]\n",
    "                dependancies[alphabet.index(workerJob[i])] = ''\n",
    "                for bufferChar in addToBuffer:\n",
    "                    for val in dependancies:\n",
    "                        if bufferChar in val:\n",
    "                            addToBuffer = addToBuffer.replace(bufferChar, '')      \n",
    "                buffer = ''.join(sorted(buffer + addToBuffer))\n",
    "                workerJob[i] = None\n",
    "                \n",
    "        for i, job in enumerate(workerJob):\n",
    "            if job == None and len(buffer) != 0:\n",
    "                workerJob[i] = buffer[:1]\n",
    "                workerTime[i] = alphabet.index(buffer[:1]) + 61\n",
    "                buffer = buffer.replace(buffer[:1],'')\n",
    "        \n",
    "        for i, remTime in enumerate(workerTime):\n",
    "            if remTime > 0:\n",
    "                workerTime[i] -= 1        \n",
    "        if len(order) == 26:\n",
    "            break\n",
    "        \n",
    "        time += 1\n",
    "\n",
    "    return time\n",
    "\n",
    "if __name__ == '__main__':\n",
    "    print(main(), str(datetime.now() - startTime)[:-3]) #BETUFNVADWGPLRJOHMXKZQCISY 848"
   ]
  },
  {
   "cell_type": "markdown",
   "metadata": {},
   "source": [
    "# P1 \n",
    "Implement a list of rules indexed to alphabet character\n",
    "Key = a literal key, Value = the letters that are locked\n",
    "- Add the next step in the buffer to the string, then remove from buffer\n",
    "- Prep the new set of steps that were previously locked, ie. potentially add to buffer\n",
    "- Remove dependancies from master list since its in prep and dont want to flag twice\n",
    "- For each step in prep, check the master dependancy list to see if its still 'locked'\n",
    "- If it is, remove from staging area\n",
    "- Migrate prep into buffer, and then sort\n",
    "\n",
    "__________________________\n",
    "\n",
    "# P2\n",
    "Identical tasks to step 1, however split into two actions based on the event (begin/end)\n",
    "Essentially an active buffer where items can be removed/inserted depending on run time\n",
    "Additional wait time between selection from the buffer and actual unlock\n",
    "job, time remaining = ['A', 61'], or [char, alphabet.index(char) + const]\n",
    "1. If any elves are done current job, ie. ['A', 61']\n",
    "- Add the elves job to the string\n",
    "- Since this step is now unlocked, setup the new addtobuffer\n",
    "- Continue as per part 1\n",
    "2. If any elves are free and a char is possible in the queue, ie. [None, 0] and len(buffer) != 0\n",
    "- Generate task for elf based on next available char in buffer, assign identifier and run time\n",
    "- Remove from buffer queue"
   ]
  }
 ],
 "metadata": {
  "kernelspec": {
   "display_name": "Python 3",
   "language": "python",
   "name": "python3"
  },
  "language_info": {
   "codemirror_mode": {
    "name": "ipython",
    "version": 3
   },
   "file_extension": ".py",
   "mimetype": "text/x-python",
   "name": "python",
   "nbconvert_exporter": "python",
   "pygments_lexer": "ipython3",
   "version": "3.7.1"
  }
 },
 "nbformat": 4,
 "nbformat_minor": 2
}
